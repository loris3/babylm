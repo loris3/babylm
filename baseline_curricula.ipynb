{
 "cells": [
  {
   "cell_type": "code",
   "execution_count": null,
   "metadata": {},
   "outputs": [],
   "source": [
    "import os\n",
    "\n",
    "from dotenv import load_dotenv\n",
    "load_dotenv()\n",
    "import datasets\n",
    "from datasets import DatasetDict\n",
    "from datasets import load_dataset\n",
    "import datasets\n",
    "import torch\n",
    "import json\n",
    "from huggingface_hub import HfApi\n",
    "\n",
    "DEBUG = False\n",
    "EPOCHS = 10\n",
    "\n",
    "\n",
    "from baseline_curricula import upload, split_into_epochs, repeat_for_ten_epochs"
   ]
  },
  {
   "cell_type": "code",
   "execution_count": null,
   "metadata": {},
   "outputs": [],
   "source": [
    "import config"
   ]
  },
  {
   "cell_type": "code",
   "execution_count": null,
   "metadata": {},
   "outputs": [],
   "source": [
    "from baseline_curricula import validate_training_duration_limitation\n",
    "from itertools import product\n",
    "import config \n",
    "\n",
    "[validate_training_duration_limitation(dataset_name, \"llama\"+curriculum_name) for dataset_name, curriculum_name in product(config.datasets, config.influence_curricula)]\n",
    "\n"
   ]
  },
  {
   "cell_type": "code",
   "execution_count": null,
   "metadata": {},
   "outputs": [],
   "source": [
    "from baseline_curricula import get_perplexity_ngram\n",
    "\n",
    "for dataset_name in config.datasets:\n",
    "    perplexity_df = get_perplexity_ngram(dataset_name)\n",
    "    upload(\"perplexity_increasing.pt\", repeat_for_ten_epochs(perplexity_df[\"perplexity\"].sort_values(ascending=True).index.to_list()), dataset_name)\n"
   ]
  },
  {
   "cell_type": "code",
   "execution_count": null,
   "metadata": {},
   "outputs": [],
   "source": [
    "from baseline_curricula import get_mattr\n",
    "\n",
    "\n",
    "for dataset_name in config.datasets:\n",
    "    mattr_df = get_mattr(dataset_name, n_proc=128)\n",
    " #   upload(\"perplexity_decreasing.pt\", split_into_epochs(perplexity_df[\"perplexity\"].sort_values(ascending=False).index.to_list()), dataset)\n",
    "    upload(\"mattr_increasing.pt\", repeat_for_ten_epochs(mattr_df[\"mattr\"].sort_values(ascending=True).index.to_list()), dataset_name)\n"
   ]
  },
  {
   "cell_type": "code",
   "execution_count": null,
   "metadata": {},
   "outputs": [],
   "source": [
    "from baseline_curricula import get_mattr\n",
    "import torch\n",
    "\n",
    "\n",
    "for dataset_name in config.datasets:\n",
    "    \n",
    "    torch.manual_seed(42)\n",
    "    dataset = load_dataset(dataset_name)\n",
    "    random_order = [torch.randperm(len(dataset[\"train\"])) for _ in range(0,EPOCHS)]\n",
    "    \n",
    "    upload(\"random.pt\", random_order, dataset_name)\n"
   ]
  },
  {
   "cell_type": "code",
   "execution_count": null,
   "metadata": {},
   "outputs": [],
   "source": [
    "from baseline_curricula import validate_training_duration_limitation"
   ]
  },
  {
   "cell_type": "code",
   "execution_count": null,
   "metadata": {},
   "outputs": [],
   "source": [
    "\n",
    "\n",
    "word_count = lambda d: {\"words\" : len(d[\"text\"].split())}\n",
    "\n",
    "WORDS_PER_STAGE = 2*10000000 # there are 5 stages: 2*10M words = 100M total seen during training\n",
    "for dataset_name in config.datasets:\n",
    "    \n",
    "    \n",
    "    df = load_dataset(dataset_name)[\"train\"].map(word_count, num_proc=100).to_pandas()\n",
    "    curriculum = []\n",
    "    for stage_name, stage_df in df.groupby(\"stage\"):\n",
    "        print(stage_name)\n",
    "        tokens_in_stage = 0\n",
    "        curriculum_stage = []\n",
    "        \n",
    "        i = 0\n",
    "        while tokens_in_stage < WORDS_PER_STAGE: # the dataset assumes each stage is repeated for multiple epochs. we will therefore run out of documents before reaching the alloted number of tokens. just re-shuffle and continue\n",
    "                                                 #    we double-check the total number of tokens seen trough the curriculum below\n",
    "            stage_df_shuffled = stage_df.sample(frac=1, random_state=42+i)\n",
    "            for idx, row in stage_df_shuffled.iterrows():            \n",
    "                if (tokens_in_stage + row[\"words\"]) <= WORDS_PER_STAGE:\n",
    "                    curriculum_stage.append(idx)\n",
    "                    tokens_in_stage += row[\"words\"]\n",
    "                else:\n",
    "                    tokens_in_stage += row[\"words\"] # so that outer loop breaks\n",
    "                    break\n",
    "                \n",
    "            print(i,tokens_in_stage)\n",
    "            i+=1\n",
    "        curriculum.extend(torch.chunk(torch.tensor(curriculum_stage), 2)) # so that there are 2 epochs per stage\n",
    "    validate_training_duration_limitation(dataset_name, curriculum)\n",
    "\n",
    "    upload(\"source_difficulty.pt\", curriculum, dataset_name)\n"
   ]
  },
  {
   "cell_type": "code",
   "execution_count": null,
   "metadata": {},
   "outputs": [],
   "source": [
    "from baseline_curricula import validate_training_duration_limitation\n",
    "from itertools import product\n",
    "import config \n",
    "\n",
    "[validate_training_duration_limitation(dataset_name, curriculum_name) for dataset_name, curriculum_name in [product(config.datasets, config.baseline_curricula)]]\n",
    "\n"
   ]
  }
 ],
 "metadata": {
  "kernelspec": {
   "display_name": "Python 3 (ipykernel)",
   "language": "python",
   "name": "python3"
  },
  "language_info": {
   "codemirror_mode": {
    "name": "ipython",
    "version": 3
   },
   "file_extension": ".py",
   "mimetype": "text/x-python",
   "name": "python",
   "nbconvert_exporter": "python",
   "pygments_lexer": "ipython3",
   "version": "3.10.12"
  }
 },
 "nbformat": 4,
 "nbformat_minor": 2
}
