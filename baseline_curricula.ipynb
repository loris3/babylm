{
 "cells": [
  {
   "cell_type": "code",
   "execution_count": 1,
   "metadata": {},
   "outputs": [],
   "source": [
    "import os\n",
    "\n",
    "from dotenv import load_dotenv\n",
    "load_dotenv()\n",
    "import datasets\n",
    "from datasets import DatasetDict\n",
    "from datasets import load_dataset\n",
    "import datasets\n",
    "import torch\n",
    "import json\n",
    "from huggingface_hub import HfApi\n",
    "\n",
    "DEBUG = False\n",
    "EPOCHS = 10\n",
    "\n",
    "\n",
    "from baseline_curricula import upload, split_into_epochs, repeat_for_ten_epochs"
   ]
  },
  {
   "cell_type": "code",
   "execution_count": 2,
   "metadata": {},
   "outputs": [],
   "source": [
    "import config"
   ]
  },
  {
   "cell_type": "code",
   "execution_count": 4,
   "metadata": {},
   "outputs": [
    {
     "data": {
      "application/vnd.jupyter.widget-view+json": {
       "model_id": "21eeee6d5ef640f18ad3845d4075437d",
       "version_major": 2,
       "version_minor": 0
      },
      "text/plain": [
       "llama_influence_decr_bins_dirac.pt:   0%|          | 0.00/85.6M [00:00<?, ?B/s]"
      ]
     },
     "metadata": {},
     "output_type": "display_data"
    },
    {
     "data": {
      "application/vnd.jupyter.widget-view+json": {
       "model_id": "c4394142bd74464cb9874506e6e69c8f",
       "version_major": 2,
       "version_minor": 0
      },
      "text/plain": [
       "llama_influence_incr_bins_lognorm.pt:   0%|          | 0.00/85.6M [00:00<?, ?B/s]"
      ]
     },
     "metadata": {},
     "output_type": "display_data"
    },
    {
     "data": {
      "application/vnd.jupyter.widget-view+json": {
       "model_id": "ec71698e43ad4e8daa696128d95ec676",
       "version_major": 2,
       "version_minor": 0
      },
      "text/plain": [
       "llama_influence_incr_cp_dirac.pt:   0%|          | 0.00/85.6M [00:00<?, ?B/s]"
      ]
     },
     "metadata": {},
     "output_type": "display_data"
    },
    {
     "data": {
      "application/vnd.jupyter.widget-view+json": {
       "model_id": "08e4b530e38243aaa76f5744c5beb0de",
       "version_major": 2,
       "version_minor": 0
      },
      "text/plain": [
       "llama_influence_decr_cp_dirac.pt:   0%|          | 0.00/85.6M [00:00<?, ?B/s]"
      ]
     },
     "metadata": {},
     "output_type": "display_data"
    },
    {
     "data": {
      "application/vnd.jupyter.widget-view+json": {
       "model_id": "f307f5345d8747fea5ac75e66460b00d",
       "version_major": 2,
       "version_minor": 0
      },
      "text/plain": [
       "llama_influence_top_50_cp_shuffled.pt:   0%|          | 0.00/88.2M [00:00<?, ?B/s]"
      ]
     },
     "metadata": {},
     "output_type": "display_data"
    },
    {
     "data": {
      "application/vnd.jupyter.widget-view+json": {
       "model_id": "8f20cb0c54ea42128a45f18feeae4624",
       "version_major": 2,
       "version_minor": 0
      },
      "text/plain": [
       "llama_influence_tracin_sandwich.pt:   0%|          | 0.00/85.6M [00:00<?, ?B/s]"
      ]
     },
     "metadata": {},
     "output_type": "display_data"
    },
    {
     "data": {
      "text/plain": [
       "[True,\n",
       " True,\n",
       " True,\n",
       " True,\n",
       " True,\n",
       " True,\n",
       " True,\n",
       " True,\n",
       " True,\n",
       " True,\n",
       " True,\n",
       " True,\n",
       " True,\n",
       " True,\n",
       " True,\n",
       " True,\n",
       " True,\n",
       " True,\n",
       " True,\n",
       " True,\n",
       " True,\n",
       " True,\n",
       " True,\n",
       " True]"
      ]
     },
     "execution_count": 4,
     "metadata": {},
     "output_type": "execute_result"
    }
   ],
   "source": [
    "from baseline_curricula import validate_training_duration_limitation\n",
    "from itertools import product\n",
    "import config \n",
    "\n",
    "[validate_training_duration_limitation(dataset_name, \"llama\"+curriculum_name) for dataset_name, curriculum_name in product(config.datasets, config.influence_curricula)]\n",
    "\n"
   ]
  },
  {
   "cell_type": "code",
   "execution_count": 3,
   "metadata": {},
   "outputs": [
    {
     "name": "stdout",
     "output_type": "stream",
     "text": [
      "./difficulty_ngram/1/babylm_2024_10m_curriculum\n",
      "Skipping ./difficulty_ngram/1/babylm_2024_10m_curriculum, already calculated\n"
     ]
    },
    {
     "name": "stderr",
     "output_type": "stream",
     "text": [
      "No files have been modified since last commit. Skipping to prevent empty commit.\n"
     ]
    },
    {
     "name": "stdout",
     "output_type": "stream",
     "text": [
      "./difficulty_ngram/1/stratified_equitoken_10m_curriculum\n",
      "Skipping ./difficulty_ngram/1/stratified_equitoken_10m_curriculum, already calculated\n"
     ]
    },
    {
     "name": "stderr",
     "output_type": "stream",
     "text": [
      "No files have been modified since last commit. Skipping to prevent empty commit.\n"
     ]
    },
    {
     "name": "stdout",
     "output_type": "stream",
     "text": [
      "./difficulty_ngram/1/stratified_10m_curriculum\n",
      "Skipping ./difficulty_ngram/1/stratified_10m_curriculum, already calculated\n"
     ]
    },
    {
     "data": {
      "application/vnd.jupyter.widget-view+json": {
       "model_id": "0494cbaa00bc402e837b63d99f2cca25",
       "version_major": 2,
       "version_minor": 0
      },
      "text/plain": [
       "  0%|          | 0/1 [00:00<?, ?it/s]"
      ]
     },
     "metadata": {},
     "output_type": "display_data"
    },
    {
     "data": {
      "application/vnd.jupyter.widget-view+json": {
       "model_id": "a47230754d8146d0a961ec67f67ec36f",
       "version_major": 2,
       "version_minor": 0
      },
      "text/plain": [
       "perplexity_increasing.pt:   0%|          | 0.00/85.6M [00:00<?, ?B/s]"
      ]
     },
     "metadata": {},
     "output_type": "display_data"
    }
   ],
   "source": [
    "from baseline_curricula import get_perplexity_ngram\n",
    "\n",
    "for dataset_name in config.datasets:\n",
    "    perplexity_df = get_perplexity_ngram(dataset_name)\n",
    "    upload(\"perplexity_increasing.pt\", repeat_for_ten_epochs(perplexity_df[\"perplexity\"].sort_values(ascending=True).index.to_list()), dataset_name)\n"
   ]
  },
  {
   "cell_type": "code",
   "execution_count": 4,
   "metadata": {},
   "outputs": [
    {
     "name": "stdout",
     "output_type": "stream",
     "text": [
      "./difficulty_mattr/babylm_2024_10m_curriculum\n",
      "Skipping ./difficulty_mattr/babylm_2024_10m_curriculum, already calculated\n"
     ]
    },
    {
     "name": "stderr",
     "output_type": "stream",
     "text": [
      "No files have been modified since last commit. Skipping to prevent empty commit.\n"
     ]
    },
    {
     "name": "stdout",
     "output_type": "stream",
     "text": [
      "./difficulty_mattr/stratified_equitoken_10m_curriculum\n",
      "Skipping ./difficulty_mattr/stratified_equitoken_10m_curriculum, already calculated\n"
     ]
    },
    {
     "data": {
      "application/vnd.jupyter.widget-view+json": {
       "model_id": "b9eb5931a54f42cea29742c8936c5f46",
       "version_major": 2,
       "version_minor": 0
      },
      "text/plain": [
       "  0%|          | 0/1 [00:00<?, ?it/s]"
      ]
     },
     "metadata": {},
     "output_type": "display_data"
    },
    {
     "data": {
      "application/vnd.jupyter.widget-view+json": {
       "model_id": "cc43cdaf9a8e449f94c25e9deaf4c12e",
       "version_major": 2,
       "version_minor": 0
      },
      "text/plain": [
       "mattr_increasing.pt:   0%|          | 0.00/8.00M [00:00<?, ?B/s]"
      ]
     },
     "metadata": {},
     "output_type": "display_data"
    },
    {
     "name": "stdout",
     "output_type": "stream",
     "text": [
      "./difficulty_mattr/stratified_10m_curriculum\n",
      "Skipping ./difficulty_mattr/stratified_10m_curriculum, already calculated\n"
     ]
    },
    {
     "data": {
      "application/vnd.jupyter.widget-view+json": {
       "model_id": "49a3c7e7204f42eb97d7c19fc6c4f7a0",
       "version_major": 2,
       "version_minor": 0
      },
      "text/plain": [
       "  0%|          | 0/1 [00:00<?, ?it/s]"
      ]
     },
     "metadata": {},
     "output_type": "display_data"
    },
    {
     "data": {
      "application/vnd.jupyter.widget-view+json": {
       "model_id": "49f7a5223c1247b4bf471722f9efd4b7",
       "version_major": 2,
       "version_minor": 0
      },
      "text/plain": [
       "mattr_increasing.pt:   0%|          | 0.00/85.6M [00:00<?, ?B/s]"
      ]
     },
     "metadata": {},
     "output_type": "display_data"
    }
   ],
   "source": [
    "from baseline_curricula import get_mattr\n",
    "\n",
    "\n",
    "for dataset_name in config.datasets:\n",
    "    mattr_df = get_mattr(dataset_name, n_proc=128)\n",
    " #   upload(\"perplexity_decreasing.pt\", split_into_epochs(perplexity_df[\"perplexity\"].sort_values(ascending=False).index.to_list()), dataset)\n",
    "    upload(\"mattr_increasing.pt\", repeat_for_ten_epochs(mattr_df[\"mattr\"].sort_values(ascending=True).index.to_list()), dataset_name)\n"
   ]
  },
  {
   "cell_type": "code",
   "execution_count": 5,
   "metadata": {},
   "outputs": [
    {
     "name": "stderr",
     "output_type": "stream",
     "text": [
      "No files have been modified since last commit. Skipping to prevent empty commit.\n"
     ]
    },
    {
     "data": {
      "application/vnd.jupyter.widget-view+json": {
       "model_id": "958cb2858f6b4ced97f643daf9c2c7cd",
       "version_major": 2,
       "version_minor": 0
      },
      "text/plain": [
       "Generating train split:   0%|          | 0/100000 [00:00<?, ? examples/s]"
      ]
     },
     "metadata": {},
     "output_type": "display_data"
    },
    {
     "data": {
      "application/vnd.jupyter.widget-view+json": {
       "model_id": "8b458906583c42639174ec7ff4696951",
       "version_major": 2,
       "version_minor": 0
      },
      "text/plain": [
       "Generating validation split:   0%|          | 0/53457 [00:00<?, ? examples/s]"
      ]
     },
     "metadata": {},
     "output_type": "display_data"
    },
    {
     "name": "stderr",
     "output_type": "stream",
     "text": [
      "No files have been modified since last commit. Skipping to prevent empty commit.\n"
     ]
    },
    {
     "data": {
      "application/vnd.jupyter.widget-view+json": {
       "model_id": "4f4e624836894f168d14c8d7edbb5e45",
       "version_major": 2,
       "version_minor": 0
      },
      "text/plain": [
       "Generating train split:   0%|          | 0/1070321 [00:00<?, ? examples/s]"
      ]
     },
     "metadata": {},
     "output_type": "display_data"
    },
    {
     "data": {
      "application/vnd.jupyter.widget-view+json": {
       "model_id": "fef095bfba904c3a82db64ea3d0e35e2",
       "version_major": 2,
       "version_minor": 0
      },
      "text/plain": [
       "Generating validation split:   0%|          | 0/53457 [00:00<?, ? examples/s]"
      ]
     },
     "metadata": {},
     "output_type": "display_data"
    },
    {
     "name": "stderr",
     "output_type": "stream",
     "text": [
      "No files have been modified since last commit. Skipping to prevent empty commit.\n"
     ]
    }
   ],
   "source": [
    "from baseline_curricula import get_mattr\n",
    "import torch\n",
    "\n",
    "\n",
    "for dataset_name in config.datasets:\n",
    "    \n",
    "    torch.manual_seed(42)\n",
    "    dataset = load_dataset(dataset_name)\n",
    "    random_order = [torch.randperm(len(dataset[\"train\"])) for _ in range(0,EPOCHS)]\n",
    "    \n",
    "    upload(\"random.pt\", random_order, dataset_name)\n"
   ]
  },
  {
   "cell_type": "code",
   "execution_count": 6,
   "metadata": {},
   "outputs": [],
   "source": [
    "from baseline_curricula import validate_training_duration_limitation"
   ]
  },
  {
   "cell_type": "code",
   "execution_count": 7,
   "metadata": {},
   "outputs": [
    {
     "name": "stdout",
     "output_type": "stream",
     "text": [
      "C1: Child Directed Speech\n",
      "0 2839591\n",
      "1 5679182\n",
      "2 8518773\n",
      "3 11358364\n",
      "4 14197955\n",
      "5 17037546\n",
      "6 19877137\n",
      "7 20000002\n",
      "C2: Unscripted Dialogue\n",
      "0 1079286\n",
      "1 2158572\n",
      "2 3237858\n",
      "3 4317144\n",
      "4 5396430\n",
      "5 6475716\n",
      "6 7555002\n",
      "7 8634288\n",
      "8 9713574\n",
      "9 10792860\n",
      "10 11872146\n",
      "11 12951432\n",
      "12 14030718\n",
      "13 15110004\n",
      "14 16189290\n",
      "15 17268576\n",
      "16 18347862\n",
      "17 19427148\n",
      "18 20000024\n",
      "C3: Scripted Dialogue\n",
      "0 2041868\n",
      "1 4083736\n",
      "2 6125604\n",
      "3 8167472\n",
      "4 10209340\n",
      "5 12251208\n",
      "6 14293076\n",
      "7 16334944\n",
      "8 18376812\n",
      "9 20000002\n",
      "C4: Wiki\n",
      "0 1453539\n",
      "1 2907078\n",
      "2 4360617\n",
      "3 5814156\n",
      "4 7267695\n",
      "5 8721234\n",
      "6 10174773\n",
      "7 11628312\n",
      "8 13081851\n",
      "9 14535390\n",
      "10 15988929\n",
      "11 17442468\n",
      "12 18896007\n",
      "13 20000009\n",
      "C5: Written English\n",
      "0 2539489\n",
      "1 5078978\n",
      "2 7618467\n",
      "3 10157956\n",
      "4 12697445\n",
      "5 15236934\n",
      "6 17776423\n",
      "7 20000002\n"
     ]
    },
    {
     "data": {
      "application/vnd.jupyter.widget-view+json": {
       "model_id": "557b54cfe352439fbfeed9a1cede6800",
       "version_major": 2,
       "version_minor": 0
      },
      "text/plain": [
       "Map (num_proc=100):   0%|          | 0/1179014 [00:00<?, ? examples/s]"
      ]
     },
     "metadata": {},
     "output_type": "display_data"
    },
    {
     "name": "stdout",
     "output_type": "stream",
     "text": [
      "total_words_seen loris3/babylm_2024_10m_curriculum 99999795\n"
     ]
    },
    {
     "name": "stderr",
     "output_type": "stream",
     "text": [
      "No files have been modified since last commit. Skipping to prevent empty commit.\n"
     ]
    },
    {
     "data": {
      "application/vnd.jupyter.widget-view+json": {
       "model_id": "fc223a5f5b994e6ea4aa63337449ad20",
       "version_major": 2,
       "version_minor": 0
      },
      "text/plain": [
       "Map (num_proc=100):   0%|          | 0/100000 [00:00<?, ? examples/s]"
      ]
     },
     "metadata": {},
     "output_type": "display_data"
    },
    {
     "name": "stdout",
     "output_type": "stream",
     "text": [
      "C1: Child Directed Speech\n",
      "0 2000000\n",
      "1 4000000\n",
      "2 6000000\n",
      "3 8000000\n",
      "4 10000000\n",
      "5 12000000\n",
      "6 14000000\n",
      "7 16000000\n",
      "8 18000000\n",
      "9 20000000\n",
      "C2: Children's Books\n",
      "0 2000000\n",
      "1 4000000\n",
      "2 6000000\n",
      "3 8000000\n",
      "4 10000000\n",
      "5 12000000\n",
      "6 14000000\n",
      "7 16000000\n",
      "8 18000000\n",
      "9 20000000\n",
      "C3: Dialogue\n",
      "0 2000000\n",
      "1 4000000\n",
      "2 6000000\n",
      "3 8000000\n",
      "4 10000000\n",
      "5 12000000\n",
      "6 14000000\n",
      "7 16000000\n",
      "8 18000000\n",
      "9 20000000\n",
      "C4: Educational\n",
      "0 2000000\n",
      "1 4000000\n",
      "2 6000000\n",
      "3 8000000\n",
      "4 10000000\n",
      "5 12000000\n",
      "6 14000000\n",
      "7 16000000\n",
      "8 18000000\n",
      "9 20000000\n",
      "C5: Written English\n",
      "0 2000000\n",
      "1 4000000\n",
      "2 6000000\n",
      "3 8000000\n",
      "4 10000000\n",
      "5 12000000\n",
      "6 14000000\n",
      "7 16000000\n",
      "8 18000000\n",
      "9 20000000\n"
     ]
    },
    {
     "data": {
      "application/vnd.jupyter.widget-view+json": {
       "model_id": "349e66b5fa12416c8e58d74bc8e58ae0",
       "version_major": 2,
       "version_minor": 0
      },
      "text/plain": [
       "Map (num_proc=100):   0%|          | 0/100000 [00:00<?, ? examples/s]"
      ]
     },
     "metadata": {},
     "output_type": "display_data"
    },
    {
     "name": "stdout",
     "output_type": "stream",
     "text": [
      "total_words_seen loris3/stratified_equitoken_10m_curriculum 100000000\n"
     ]
    },
    {
     "data": {
      "application/vnd.jupyter.widget-view+json": {
       "model_id": "9bccacb840a442debc68323a5688b99d",
       "version_major": 2,
       "version_minor": 0
      },
      "text/plain": [
       "  0%|          | 0/1 [00:00<?, ?it/s]"
      ]
     },
     "metadata": {},
     "output_type": "display_data"
    },
    {
     "data": {
      "application/vnd.jupyter.widget-view+json": {
       "model_id": "193a60d279484bef859f2284fa2e9bcd",
       "version_major": 2,
       "version_minor": 0
      },
      "text/plain": [
       "source_difficulty.pt:   0%|          | 0.00/8.00M [00:00<?, ?B/s]"
      ]
     },
     "metadata": {},
     "output_type": "display_data"
    },
    {
     "data": {
      "application/vnd.jupyter.widget-view+json": {
       "model_id": "90c1da09f0934a5fb66d653590a041c4",
       "version_major": 2,
       "version_minor": 0
      },
      "text/plain": [
       "Map (num_proc=100):   0%|          | 0/1070321 [00:00<?, ? examples/s]"
      ]
     },
     "metadata": {},
     "output_type": "display_data"
    },
    {
     "name": "stdout",
     "output_type": "stream",
     "text": [
      "C1: Child Directed Speech\n",
      "0 1999999\n",
      "1 3999998\n",
      "2 5999997\n",
      "3 7999996\n",
      "4 9999995\n",
      "5 11999994\n",
      "6 13999993\n",
      "7 15999992\n",
      "8 17999991\n",
      "9 19999990\n",
      "10 20000002\n",
      "C2: Children's Books\n",
      "0 1999995\n",
      "1 3999990\n",
      "2 5999985\n",
      "3 7999980\n",
      "4 9999975\n",
      "5 11999970\n",
      "6 13999965\n",
      "7 15999960\n",
      "8 17999955\n",
      "9 19999950\n",
      "10 20000025\n",
      "C3: Dialogue\n",
      "0 1999987\n",
      "1 3999974\n",
      "2 5999961\n",
      "3 7999948\n",
      "4 9999935\n",
      "5 11999922\n",
      "6 13999909\n",
      "7 15999896\n",
      "8 17999883\n",
      "9 19999870\n",
      "10 20000016\n",
      "C4: Educational\n",
      "0 1999999\n",
      "1 3999998\n",
      "2 5999997\n",
      "3 7999996\n",
      "4 9999995\n",
      "5 11999994\n",
      "6 13999993\n",
      "7 15999992\n",
      "8 17999991\n",
      "9 19999990\n",
      "10 20000008\n",
      "C5: Written English\n",
      "0 1999945\n",
      "1 3999890\n",
      "2 5999835\n",
      "3 7999780\n",
      "4 9999725\n",
      "5 11999670\n",
      "6 13999615\n",
      "7 15999560\n",
      "8 17999505\n",
      "9 19999450\n",
      "10 20000054\n"
     ]
    },
    {
     "data": {
      "application/vnd.jupyter.widget-view+json": {
       "model_id": "0ef89e3541df401393f46fbe86c2e1e3",
       "version_major": 2,
       "version_minor": 0
      },
      "text/plain": [
       "Map (num_proc=100):   0%|          | 0/1070321 [00:00<?, ? examples/s]"
      ]
     },
     "metadata": {},
     "output_type": "display_data"
    },
    {
     "name": "stdout",
     "output_type": "stream",
     "text": [
      "total_words_seen loris3/stratified_10m_curriculum 99999943\n"
     ]
    },
    {
     "data": {
      "application/vnd.jupyter.widget-view+json": {
       "model_id": "d5bbb982790243e292910d28dfaa8fe7",
       "version_major": 2,
       "version_minor": 0
      },
      "text/plain": [
       "  0%|          | 0/1 [00:00<?, ?it/s]"
      ]
     },
     "metadata": {},
     "output_type": "display_data"
    },
    {
     "data": {
      "application/vnd.jupyter.widget-view+json": {
       "model_id": "4fe5a78b912c433dbad515d6a585b733",
       "version_major": 2,
       "version_minor": 0
      },
      "text/plain": [
       "source_difficulty.pt:   0%|          | 0.00/85.6M [00:00<?, ?B/s]"
      ]
     },
     "metadata": {},
     "output_type": "display_data"
    }
   ],
   "source": [
    "\n",
    "\n",
    "word_count = lambda d: {\"words\" : len(d[\"text\"].split())}\n",
    "\n",
    "WORDS_PER_STAGE = 2*10000000 # there are 5 stages: 2*10M words = 100M total seen during training\n",
    "for dataset_name in config.datasets:\n",
    "    \n",
    "    \n",
    "    df = load_dataset(dataset_name)[\"train\"].map(word_count, num_proc=100).to_pandas()\n",
    "    curriculum = []\n",
    "    for stage_name, stage_df in df.groupby(\"stage\"):\n",
    "        print(stage_name)\n",
    "        tokens_in_stage = 0\n",
    "        curriculum_stage = []\n",
    "        \n",
    "        i = 0\n",
    "        while tokens_in_stage < WORDS_PER_STAGE: # the dataset assumes each stage is repeated for multiple epochs. we will therefore run out of documents before reaching the alloted number of tokens. just re-shuffle and continue\n",
    "                                                 #    we double-check the total number of tokens seen trough the curriculum below\n",
    "            stage_df_shuffled = stage_df.sample(frac=1, random_state=42+i)\n",
    "            for idx, row in stage_df_shuffled.iterrows():            \n",
    "                if (tokens_in_stage + row[\"words\"]) <= WORDS_PER_STAGE:\n",
    "                    curriculum_stage.append(idx)\n",
    "                    tokens_in_stage += row[\"words\"]\n",
    "                else:\n",
    "                    tokens_in_stage += row[\"words\"] # so that outer loop breaks\n",
    "                    break\n",
    "                \n",
    "            print(i,tokens_in_stage)\n",
    "            i+=1\n",
    "        curriculum.extend(torch.chunk(torch.tensor(curriculum_stage), 2)) # so that there are 2 epochs per stage\n",
    "    validate_training_duration_limitation(dataset_name, curriculum)\n",
    "\n",
    "    upload(\"source_difficulty.pt\", curriculum, dataset_name)\n"
   ]
  },
  {
   "cell_type": "code",
   "execution_count": null,
   "metadata": {},
   "outputs": [],
   "source": [
    "from baseline_curricula import validate_training_duration_limitation\n",
    "from itertools import product\n",
    "import config \n",
    "\n",
    "[validate_training_duration_limitation(dataset_name, curriculum_name) for dataset_name, curriculum_name in [product(config.datasets, config.baseline_curricula)]]\n",
    "\n"
   ]
  },
  {
   "cell_type": "code",
   "execution_count": null,
   "metadata": {},
   "outputs": [],
   "source": []
  }
 ],
 "metadata": {
  "kernelspec": {
   "display_name": "Python 3 (ipykernel)",
   "language": "python",
   "name": "python3"
  },
  "language_info": {
   "codemirror_mode": {
    "name": "ipython",
    "version": 3
   },
   "file_extension": ".py",
   "mimetype": "text/x-python",
   "name": "python",
   "nbconvert_exporter": "python",
   "pygments_lexer": "ipython3",
   "version": "3.10.12"
  }
 },
 "nbformat": 4,
 "nbformat_minor": 2
}
