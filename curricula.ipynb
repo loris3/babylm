{
 "cells": [
  {
   "cell_type": "code",
   "execution_count": null,
   "metadata": {},
   "outputs": [
    {
     "ename": "",
     "evalue": "",
     "output_type": "error",
     "traceback": [
      "\u001b[1;31mFailed to start the Kernel. \n",
      "\u001b[1;31mrequest to http://localhost:8081/api/kernels/1daa13aa-63a6-48ba-8612-b3bc4465c2a3/restart?1730973496728 failed, reason: read ECONNRESET. \n",
      "\u001b[1;31mView Jupyter <a href='command:jupyter.viewOutput'>log</a> for further details."
     ]
    }
   ],
   "source": [
    "args = {\n",
    "    \"dataset_folder\": \"./train_10M\",\n",
    "   \n",
    "}"
   ]
  },
  {
   "cell_type": "code",
   "execution_count": 2,
   "metadata": {},
   "outputs": [
    {
     "ename": "",
     "evalue": "",
     "output_type": "error",
     "traceback": [
      "\u001b[1;31mFailed to start the Kernel. \n",
      "\u001b[1;31mrequest to http://localhost:8081/api/kernels/1daa13aa-63a6-48ba-8612-b3bc4465c2a3/restart?1730973496728 failed, reason: read ECONNRESET. \n",
      "\u001b[1;31mView Jupyter <a href='command:jupyter.viewOutput'>log</a> for further details."
     ]
    }
   ],
   "source": [
    "import os\n",
    "import os\n",
    "os.environ['HF_HOME'] = '/data/loriss21dm/cache'\n",
    "from datasets import load_dataset\n",
    "import datasets\n",
    "import torch\n",
    "import json"
   ]
  },
  {
   "cell_type": "code",
   "execution_count": 3,
   "metadata": {},
   "outputs": [
    {
     "name": "stdout",
     "output_type": "stream",
     "text": [
      "mkdir: cannot create directory ‘curricula’: File exists\n"
     ]
    }
   ],
   "source": [
    "!mkdir curricula"
   ]
  },
  {
   "cell_type": "markdown",
   "metadata": {},
   "source": [
    "### Curriculum 2023 dataset"
   ]
  },
  {
   "cell_type": "markdown",
   "metadata": {},
   "source": [
    "The exact data from Thoma et al 2023. Note that the model does not see all examples in each epoch."
   ]
  },
  {
   "cell_type": "code",
   "execution_count": 4,
   "metadata": {},
   "outputs": [
    {
     "ename": "",
     "evalue": "",
     "output_type": "error",
     "traceback": [
      "\u001b[1;31mFailed to start the Kernel. \n",
      "\u001b[1;31mrequest to http://localhost:8081/api/kernels/1daa13aa-63a6-48ba-8612-b3bc4465c2a3/restart?1730973496728 failed, reason: read ECONNRESET. \n",
      "\u001b[1;31mView Jupyter <a href='command:jupyter.viewOutput'>log</a> for further details."
     ]
    }
   ],
   "source": [
    "from datasets import load_dataset\n",
    "import os\n",
    "os.environ['HF_HOME'] = '/data/loriss21dm/cache'\n",
    "# dev = load_dataset(\"babylm-anon/dev-data\")"
   ]
  },
  {
   "cell_type": "code",
   "execution_count": 5,
   "metadata": {},
   "outputs": [
    {
     "data": {
      "application/vnd.jupyter.widget-view+json": {
       "model_id": "b1b93a6c66cb4d678ef0d99c4d6e02b2",
       "version_major": 2,
       "version_minor": 0
      },
      "text/plain": [
       "Saving the dataset (0/1 shards):   0%|          | 0/1058753 [00:00<?, ? examples/s]"
      ]
     },
     "metadata": {},
     "output_type": "display_data"
    },
    {
     "data": {
      "text/plain": [
       "40"
      ]
     },
     "execution_count": 5,
     "metadata": {},
     "output_type": "execute_result"
    }
   ],
   "source": [
    "LAST_GEN_DIR = \"last_gen\"\n",
    "EPOCHS_PER_STAGE = 10\n",
    "datasets_stages = []\n",
    "orders_stages = []\n",
    "\n",
    "torch.manual_seed(0)\n",
    "for folder in (sorted(os.listdir(LAST_GEN_DIR))):\n",
    "    d = load_dataset(\"text\", data_dir =os.path.join(LAST_GEN_DIR, folder), cache_dir='/data/loriss21dm/cache')[\"train\"] \n",
    "    d = d.shuffle() # we shuffle within the stage\n",
    "    d = datasets.Dataset.from_dict(d[0:len(d)//10]) # TODO\n",
    "    datasets_stages.append(d)\n",
    "    offset = orders_stages[-1][-1]+1 if len(orders_stages) else 0\n",
    "    for _ in range(0,EPOCHS_PER_STAGE):\n",
    "        orders_stages.append(torch.arange(offset,len(d)+offset))\n",
    "    \n",
    "\n",
    "\n",
    "dataset = datasets.concatenate_datasets(datasets_stages)\n",
    "\n",
    "dataset.save_to_disk(\"./curricula/datasets/curriculum_100M_2023\")\n",
    "#assert torch.equal(torch.cat([o.flatten() for o in orders_stages]),torch.arange(0,len(dataset)))\n",
    "\n",
    "torch.save(orders_stages, \"./curricula/curriculum_100M_2023\")\n",
    "len(orders_stages)"
   ]
  },
  {
   "cell_type": "markdown",
   "metadata": {},
   "source": [
    "### Curriculum with 10M 2024 dataset"
   ]
  },
  {
   "cell_type": "markdown",
   "metadata": {},
   "source": [
    "For training with the strategy in Thoma et al 2023. Note that the model does not see all examples in each epoch."
   ]
  },
  {
   "cell_type": "markdown",
   "metadata": {},
   "source": [
    "This config is not designed to extract influence estimates from"
   ]
  },
  {
   "cell_type": "code",
   "execution_count": 6,
   "metadata": {},
   "outputs": [],
   "source": [
    "args[\"raw_dataset_folder_babylm\"] = \"./train_10M\"\n",
    "args[\"raw_eval_dataset_folder_babylm\"] = \"./train_100M\"\n",
    "args[\"dataset_folder\"] = \"./curricula/datasets/curriculum_10M_2024\"\n",
    "args[\"curriculum_path\"] = \"./curricula/curriculum_10M_2024\"\n",
    "args[\"eval_dataset_folder\"] = \"./curricula/datasets/curriculum_10M_2024_eval\"\n",
    "args[\"epochs_per_stage\"] = 2\n",
    "\n",
    "args[\"curriculum\"] = {\n",
    "    \"C1\": [\"childes.train\"],\n",
    "    \"C2\": [\"open_subtitles.train\", \"bnc_spoken.train\"],\n",
    "    \"C3\": [\"switchboard.train\"],\n",
    "    \"C4\": [\"gutenberg.train\"],\n",
    "    \"C5\": [ \"simple_wiki.train\"]\n",
    "} # TODO"
   ]
  },
  {
   "cell_type": "code",
   "execution_count": 7,
   "metadata": {},
   "outputs": [
    {
     "data": {
      "application/vnd.jupyter.widget-view+json": {
       "model_id": "2c701f84ca7744d8a371411e92bdb5fc",
       "version_major": 2,
       "version_minor": 0
      },
      "text/plain": [
       "Saving the dataset (0/1 shards):   0%|          | 0/1179014 [00:00<?, ? examples/s]"
      ]
     },
     "metadata": {},
     "output_type": "display_data"
    },
    {
     "data": {
      "application/vnd.jupyter.widget-view+json": {
       "model_id": "32640299a98d4fd6aea130f87e9ddcf3",
       "version_major": 2,
       "version_minor": 0
      },
      "text/plain": [
       "Casting to class labels:   0%|          | 0/6487961 [00:00<?, ? examples/s]"
      ]
     },
     "metadata": {},
     "output_type": "display_data"
    },
    {
     "data": {
      "application/vnd.jupyter.widget-view+json": {
       "model_id": "e7eb1a20139e474a88bf7365b9c8acb9",
       "version_major": 2,
       "version_minor": 0
      },
      "text/plain": [
       "Map:   0%|          | 0/58950 [00:00<?, ? examples/s]"
      ]
     },
     "metadata": {},
     "output_type": "display_data"
    },
    {
     "data": {
      "application/vnd.jupyter.widget-view+json": {
       "model_id": "914b8c960f554763825571ff79cfacc3",
       "version_major": 2,
       "version_minor": 0
      },
      "text/plain": [
       "Saving the dataset (0/1 shards):   0%|          | 0/58950 [00:00<?, ? examples/s]"
      ]
     },
     "metadata": {},
     "output_type": "display_data"
    },
    {
     "data": {
      "text/plain": [
       "{'dataset_folder': './curricula/datasets/curriculum_10M_2024',\n",
       " 'raw_dataset_folder_babylm': './train_10M',\n",
       " 'raw_eval_dataset_folder_babylm': './train_100M',\n",
       " 'curriculum_path': './curricula/curriculum_10M_2024',\n",
       " 'eval_dataset_folder': './curricula/datasets/curriculum_10M_2024_eval',\n",
       " 'epochs_per_stage': 2,\n",
       " 'curriculum': {'C1': ['childes.train'],\n",
       "  'C2': ['open_subtitles.train', 'bnc_spoken.train'],\n",
       "  'C3': ['switchboard.train'],\n",
       "  'C4': ['gutenberg.train'],\n",
       "  'C5': ['simple_wiki.train']},\n",
       " 'epoch_equivalents': 2.0,\n",
       " 'epochs': 10}"
      ]
     },
     "execution_count": 7,
     "metadata": {},
     "output_type": "execute_result"
    }
   ],
   "source": [
    "\n",
    "\n",
    "def add_source(entry, source):\n",
    "    entry[\"source\"] = source\n",
    "    return entry\n",
    "def create_dataset(curriculum, raw_dataset_folder):\n",
    "    datasets_stages = []\n",
    "    orders_stages = []\n",
    "    for _, files in curriculum.items():\n",
    "        d = datasets.concatenate_datasets(\n",
    "                [\n",
    "                    load_dataset(\"text\", data_files =os.path.join(raw_dataset_folder, file))[\"train\"] \n",
    "                    .map(lambda entry: add_source(entry, file))\n",
    "                    for file in files\n",
    "                ]\n",
    "            )\n",
    "        d = d.shuffle() # we shuffle with the stage\n",
    "        datasets_stages.append(d)\n",
    "        offset = orders_stages[-1][-1]+1 if len(orders_stages) else 0\n",
    "        for i in range(0,args[\"epochs_per_stage\"]):\n",
    "            indices = torch.arange(offset,len(d)+offset) # and then shuffle again (across epochs within stages)\n",
    "            orders_stages.append(indices[torch.randperm(len(indices))])\n",
    "    return datasets_stages, orders_stages\n",
    "        \n",
    "# pretraining data\n",
    "torch.manual_seed(0)\n",
    "datasets_stages, orders_stages = create_dataset(args[\"curriculum\"], args[\"raw_dataset_folder_babylm\"])\n",
    "dataset = datasets.concatenate_datasets(datasets_stages)\n",
    "dataset = dataset.shuffle()\n",
    "dataset.save_to_disk(args[\"dataset_folder\"])\n",
    "torch.save(orders_stages, args[\"curriculum_path\"])\n",
    "\n",
    "# eval data is a split of (100M dataset - 10M dataset)\n",
    "# of size 0.05*len(10M dataset)\n",
    "torch.manual_seed(0)\n",
    "eval_datasets_stages, _ = create_dataset(args[\"curriculum\"], args[\"raw_eval_dataset_folder_babylm\"])\n",
    "\n",
    "\n",
    "\n",
    "# remove all strings that are in the eval dataset \n",
    "## basically (100M dataset - 10M dataset) but one source at a time as that is faster\n",
    "datasets_eval = []\n",
    "lookup = {d[0][\"source\"]: d for d in datasets_stages}\n",
    "# print(lookup)\n",
    "for e in eval_datasets_stages:\n",
    "    if e[0][\"source\"] in lookup.keys():\n",
    "        l = list(set(e[\"text\"]) - set(lookup[e[0][\"source\"]][\"text\"]))\n",
    "        datasets_eval.append(datasets.Dataset.from_dict({\"text\": l, \"source\": [e[0][\"source\"]]*len(l)}))\n",
    "    else:\n",
    "        print(\"warning: adding all of \",  e[0][\"source\"] )\n",
    "        datasets_eval.append(e)\n",
    "dataset_eval = datasets.concatenate_datasets(datasets_eval)\n",
    "\n",
    "# do a stratified split, requires casting to class  \n",
    "dataset_eval = dataset_eval.class_encode_column(\"source\")\n",
    "dataset_eval = dataset_eval.train_test_split(test_size=int(len(dataset)*0.05), shuffle=True, seed=42, stratify_by_column=\"source\")[\"test\"]\n",
    "# undo casting\n",
    "def undo_casting(x):\n",
    "    x[\"source\"] = dataset_eval.features[\"source\"].int2str(x[\"source\"])\n",
    "    return x\n",
    "dataset_eval = dataset_eval.map(undo_casting)\n",
    "# dataset_eval = dataset_eval.filter(lambda x: x[\"text\"] not in l)\n",
    "# dataset_eval = dataset_eval.shuffle()\n",
    "dataset_eval.save_to_disk(args[\"eval_dataset_folder\"])\n",
    "\n",
    "\n",
    "\n",
    "# assert torch.equal(torch.cat([o.flatten() for o in orders_stages]),torch.arange(0,len(dataset)))\n",
    "\n",
    "\n",
    "\n",
    "len_full_dataset = len(dataset)\n",
    "args[\"epoch_equivalents\"] = sum([len(o) for o in orders_stages]) / len_full_dataset\n",
    "args[\"epochs\"] = len(orders_stages)\n",
    "\n",
    "\n",
    "\n",
    "\n",
    "with open(\"./configs/curriculum_10M_2024\", 'w') as f:\n",
    "    json.dump(args, f)\n",
    "args\n"
   ]
  },
  {
   "cell_type": "code",
   "execution_count": null,
   "metadata": {},
   "outputs": [],
   "source": []
  },
  {
   "cell_type": "markdown",
   "metadata": {},
   "source": [
    "### Stratified 10M Curriculum built from 100M 2024 dataset"
   ]
  },
  {
   "cell_type": "markdown",
   "metadata": {},
   "source": [
    "This creates 5 stages of equal size totaling 10M tokens from the 100M data."
   ]
  },
  {
   "cell_type": "code",
   "execution_count": null,
   "metadata": {},
   "outputs": [
    {
     "ename": "",
     "evalue": "",
     "output_type": "error",
     "traceback": [
      "\u001b[1;31mFailed to start the Kernel. \n",
      "\u001b[1;31mrequest to http://localhost:8081/api/kernels/1daa13aa-63a6-48ba-8612-b3bc4465c2a3/restart?1730973496728 failed, reason: read ECONNRESET. \n",
      "\u001b[1;31mView Jupyter <a href='command:jupyter.viewOutput'>log</a> for further details."
     ]
    }
   ],
   "source": [
    "args[\"raw_dataset_folder_babylm\"] = \"./train_100M\"\n",
    "args[\"raw_eval_dataset_folder_babylm\"] = \"./train_100M\"\n",
    "args[\"dataset_folder\"] = \"./curricula/datasets/curriculum_stratified_10M_2024\"\n",
    "args[\"curriculum_path\"] = \"./curricula/curriculum_stratified_10M_2024\"\n",
    "args[\"eval_dataset_folder\"] = \"./curricula/datasets/curriculum_stratified_10M_2024_eval\"\n",
    "args[\"epochs_per_stage\"] = 2\n",
    "\n",
    "args[\"curriculum\"] = {\n",
    "    \"C1\": [\"childes.train\"],\n",
    "    \"C2\": [\"open_subtitles.train\", \"bnc_spoken.train\"],\n",
    "    \"C3\": [\"switchboard.train\"],\n",
    "    \"C4\": [\"gutenberg.train\"],\n",
    "    \"C5\": [ \"simple_wiki.train\"]\n",
    "} # TODO"
   ]
  },
  {
   "cell_type": "code",
   "execution_count": null,
   "metadata": {},
   "outputs": [
    {
     "ename": "",
     "evalue": "",
     "output_type": "error",
     "traceback": [
      "\u001b[1;31mFailed to start the Kernel. \n",
      "\u001b[1;31mrequest to http://localhost:8081/api/kernels/1daa13aa-63a6-48ba-8612-b3bc4465c2a3/restart?1730973496728 failed, reason: read ECONNRESET. \n",
      "\u001b[1;31mView Jupyter <a href='command:jupyter.viewOutput'>log</a> for further details."
     ]
    }
   ],
   "source": [
    "from nltk.tokenize import RegexpTokenizer"
   ]
  },
  {
   "cell_type": "code",
   "execution_count": null,
   "metadata": {},
   "outputs": [
    {
     "data": {
      "application/vnd.jupyter.widget-view+json": {
       "model_id": "71bbb9e362ed42d2be5f77910c217352",
       "version_major": 2,
       "version_minor": 0
      },
      "text/plain": [
       "Map:   0%|          | 0/5790000 [00:00<?, ? examples/s]"
      ]
     },
     "metadata": {},
     "output_type": "display_data"
    },
    {
     "name": "stderr",
     "output_type": "stream",
     "text": [
      "\n",
      "KeyboardInterrupt\n",
      "\n"
     ]
    }
   ],
   "source": [
    "\n",
    "datasets_stages = []\n",
    "datasets_stages_eval = []\n",
    "orders_stages = []\n",
    "\n",
    "BUDGET_PER_STAGE = 10_000_000 // len(args[\"curriculum\"])\n",
    "\n",
    "tokenizer = RegexpTokenizer(r'\\w+')\n",
    "\n",
    "def get_train_test_splits_for_stage(d):\n",
    "    d = d.shuffle()\n",
    "    word_count = lambda d: len([w for w in tokenizer.tokenize(d) if w.isalnum()])\n",
    "    words_in_split = 0\n",
    "    i = 0\n",
    "    wc = word_count(d[i][\"text\"])\n",
    "    while (BUDGET_PER_STAGE >= (words_in_split + wc)) and (i < len(d)):\n",
    "        words_in_split += wc\n",
    "        i+=1\n",
    "        wc = word_count(d[i][\"text\"])\n",
    "        \n",
    "    print(BUDGET_PER_STAGE-words_in_split, \"tokens left in budget\")\n",
    "    return d[0:i+1], d[i+1:]  # so that train is of size BUDGET_PER_STAGE, and the rest will be further split when generating the eval dataset later\n",
    "\n",
    "torch.manual_seed(0)\n",
    "for _, files in args[\"curriculum\"].items():\n",
    "    d = datasets.concatenate_datasets(\n",
    "            [\n",
    "                load_dataset(\"text\", data_files =os.path.join(args[\"raw_dataset_folder_babylm\"], file))[\"train\"] \n",
    "                .map(lambda entry: add_source(entry, file))\n",
    "                for file in files\n",
    "            ]\n",
    "        )\n",
    "\n",
    "    d, d_eval = get_train_test_splits_for_stage(d)\n",
    "    datasets_stages.append(d)\n",
    "    datasets_stages_eval.append(d_eval)\n",
    "    offset = orders_stages[-1][-1]+1 if len(orders_stages) else 0\n",
    "    for i in range(0,args[\"epochs_per_stage\"]):\n",
    "        indices = torch.arange(offset,len(d)+offset) # and then shuffle again (across epochs within stages)\n",
    "        orders_stages.append(indices[torch.randperm(len(indices))])\n",
    "    \n",
    "\n",
    "        \n",
    "# pretraining data\n",
    "dataset = datasets.concatenate_datasets(datasets_stages)\n",
    "dataset = dataset.shuffle()\n",
    "dataset.save_to_disk(args[\"dataset_folder\"])\n",
    "torch.save(orders_stages, args[\"curriculum_path\"])\n",
    "\n",
    "\n",
    "torch.manual_seed(0)\n",
    "\n",
    "dataset_eval = datasets.concatenate_datasets(datasets_stages_eval)\n",
    "\n",
    "# do a stratified split, requires casting to class  \n",
    "dataset_eval = dataset_eval.class_encode_column(\"source\")\n",
    "dataset_eval = dataset_eval.train_test_split(test_size=int(len(dataset)*0.05), shuffle=True, seed=42, stratify_by_column=\"source\")[\"test\"]\n",
    "# undo casting\n",
    "def undo_casting(x):\n",
    "    x[\"source\"] = dataset_eval.features[\"source\"].int2str(x[\"source\"])\n",
    "    return x\n",
    "dataset_eval = dataset_eval.map(undo_casting)\n",
    "\n",
    "dataset_eval.save_to_disk(args[\"eval_dataset_folder\"])\n",
    "\n",
    "\n",
    "\n",
    "# assert torch.equal(torch.cat([o.flatten() for o in orders_stages]),torch.arange(0,len(dataset)))\n",
    "\n",
    "\n",
    "\n",
    "len_full_dataset = len(dataset)\n",
    "args[\"epoch_equivalents\"] = sum([len(o) for o in orders_stages]) / len_full_dataset\n",
    "args[\"epochs\"] = len(orders_stages)\n",
    "\n",
    "\n",
    "\n",
    "\n",
    "with open(\"./configs/curriculum_stratified_10M_2024\", 'w') as f:\n",
    "    json.dump(args, f)\n",
    "args\n"
   ]
  },
  {
   "cell_type": "markdown",
   "metadata": {},
   "source": [
    "### Random Shuffle"
   ]
  },
  {
   "cell_type": "markdown",
   "metadata": {},
   "source": [
    "This mimicks the default behaviour of Huggingface's `Trainer`: Randomly shuffle dataset after each epoch.\n",
    "All data is shown at each epoch."
   ]
  },
  {
   "cell_type": "code",
   "execution_count": 8,
   "metadata": {},
   "outputs": [],
   "source": [
    "args = {\n",
    "    \"dataset_folder\": \"./curricula/datasets/curriculum_10M_2024\",# reuse one created above\n",
    "   \n",
    "}"
   ]
  },
  {
   "cell_type": "code",
   "execution_count": 9,
   "metadata": {},
   "outputs": [],
   "source": [
    "args[\"raw_dataset_folder_babylm\"] = \"./train_10M\"\n",
    "args[\"curriculum_path\"] = \"./curricula/random_10M_2024\"\n",
    "args[\"eval_dataset_folder\"] = \"./curricula/datasets/curriculum_10M_2024_eval\"\n",
    "args[\"epochs\"] = 10"
   ]
  },
  {
   "cell_type": "code",
   "execution_count": 10,
   "metadata": {},
   "outputs": [],
   "source": [
    "from datasets import load_dataset\n",
    "import datasets\n",
    "dataset = datasets.load_from_disk(args[\"dataset_folder\"]) # reuse one created above"
   ]
  },
  {
   "cell_type": "code",
   "execution_count": 11,
   "metadata": {},
   "outputs": [],
   "source": [
    "assert torch.equal(torch.sort(torch.randperm(len(dataset))).values, torch.arange(0,len(dataset)))"
   ]
  },
  {
   "cell_type": "code",
   "execution_count": 12,
   "metadata": {},
   "outputs": [
    {
     "data": {
      "text/plain": [
       "{'dataset_folder': './curricula/datasets/curriculum_10M_2024',\n",
       " 'raw_dataset_folder_babylm': './train_10M',\n",
       " 'curriculum_path': './curricula/random_10M_2024',\n",
       " 'eval_dataset_folder': './curricula/datasets/curriculum_10M_2024_eval',\n",
       " 'epochs': 10}"
      ]
     },
     "execution_count": 12,
     "metadata": {},
     "output_type": "execute_result"
    }
   ],
   "source": [
    "args[\"epochs\"] = 10\n",
    "import torch \n",
    "torch.manual_seed(0)\n",
    "random_order = torch.stack([torch.randperm(len(dataset)) for _ in range(0,args[\"epochs\"])])\n",
    "torch.save(random_order, \"./curricula/random_10M_2024\")\n",
    "with open(\"./configs/random_10M_2024\", 'w') as f:\n",
    "    json.dump(args, f)\n",
    "args"
   ]
  },
  {
   "cell_type": "markdown",
   "metadata": {},
   "source": [
    "|     Groups     |Version|Filter|n-shot|Metric|Value |   |Stderr|\n",
    "|----------------|-------|------|-----:|------|-----:|---|-----:|\n",
    "|blimp_supplement|N/A    |none  |     0|acc   |0.4401|±  |0.0069|\n",
    "|blimp_filtered  |N/A    |none  |     0|acc   |0.4579|±  |0.0019|\n"
   ]
  },
  {
   "cell_type": "markdown",
   "metadata": {},
   "source": [
    "### Random Shuffle with a proportion of the documents beeing random tokens as a control"
   ]
  },
  {
   "cell_type": "code",
   "execution_count": 13,
   "metadata": {},
   "outputs": [],
   "source": [
    "args = {\n",
    "    \"dataset_folder\": \"./curricula/datasets/curriculum_10M_2024_noisy\",# reuse one created above\n",
    "   \n",
    "}\n",
    "args[\"raw_dataset_folder_babylm\"] = \"./train_10M\"\n",
    "args[\"curriculum_path\"] = \"./curricula/random_10M_2024_noisy\"\n",
    "args[\"eval_dataset_folder\"] = \"./curricula/datasets/curriculum_10M_2024_eval\"\n",
    "args[\"epochs\"] = 10\n",
    "\n",
    "args[\"proportion_noise\"] = 0.05\n"
   ]
  },
  {
   "cell_type": "code",
   "execution_count": 14,
   "metadata": {},
   "outputs": [],
   "source": [
    "import datasets\n",
    "dataset = datasets.load_from_disk(\"./curricula/datasets/curriculum_10M_2024\")"
   ]
  },
  {
   "cell_type": "code",
   "execution_count": 15,
   "metadata": {},
   "outputs": [
    {
     "data": {
      "text/plain": [
       "{'text': ' Towns Shim achieving Rapid Tight scrollIn Meter daNar lenses',\n",
       " 'source': 'noise'}"
      ]
     },
     "execution_count": 15,
     "metadata": {},
     "output_type": "execute_result"
    }
   ],
   "source": [
    "from transformers import RobertaTokenizerFast\n",
    "tokenizer = RobertaTokenizerFast.from_pretrained(\"FacebookAI/roberta-base\", max_len=512)\n",
    "def replace_with_noise(example):\n",
    "    tokenized = tokenizer(example[\"text\"], return_special_tokens_mask=True, truncation=True, max_length=512)[\"input_ids\"]\n",
    "    example[\"text\"] = tokenizer.decode(torch.randint(0, tokenizer.vocab_size, (len(tokenized),)), skip_special_tokens=True)\n",
    "    example[\"source\"] = \"noise\"\n",
    "    return example\n",
    "replace_with_noise(dataset[1000000])\n"
   ]
  },
  {
   "cell_type": "code",
   "execution_count": 16,
   "metadata": {},
   "outputs": [
    {
     "data": {
      "application/vnd.jupyter.widget-view+json": {
       "model_id": "3d7371b5ba844eda8896fbebc198d9cf",
       "version_major": 2,
       "version_minor": 0
      },
      "text/plain": [
       "Saving the dataset (0/1 shards):   0%|          | 0/1179014 [00:00<?, ? examples/s]"
      ]
     },
     "metadata": {},
     "output_type": "display_data"
    },
    {
     "data": {
      "text/plain": [
       "{'dataset_folder': './curricula/datasets/curriculum_10M_2024_noisy',\n",
       " 'raw_dataset_folder_babylm': './train_10M',\n",
       " 'curriculum_path': './curricula/random_10M_2024_noisy',\n",
       " 'eval_dataset_folder': './curricula/datasets/curriculum_10M_2024_eval',\n",
       " 'epochs': 10,\n",
       " 'proportion_noise': 0.05}"
      ]
     },
     "execution_count": 16,
     "metadata": {},
     "output_type": "execute_result"
    }
   ],
   "source": [
    "import torch \n",
    "torch.manual_seed(0)\n",
    "ind_to_replace_with_noise = torch.randperm(int(len(dataset)*args[\"proportion_noise\"]))\n",
    "dl = dataset.to_list()\n",
    "for i in ind_to_replace_with_noise:\n",
    "    dl[i] = replace_with_noise(dl[i])\n",
    "from collections import ChainMap\n",
    "\n",
    "\n",
    "dataset = datasets.Dataset.from_dict({k: [line[k] for line in dl] for k in dl[0]})\n",
    "dataset = dataset.shuffle()\n",
    "dataset.save_to_disk(args[\"dataset_folder\"])\n",
    "random_order = torch.stack([torch.randperm(len(dataset)) for _ in range(0,args[\"epochs\"])])\n",
    "torch.save(random_order, args[\"curriculum_path\"])\n",
    "with open(\"./configs/random_10M_2024_noisy\", 'w') as f:\n",
    "    json.dump(args, f)\n",
    "args"
   ]
  },
  {
   "cell_type": "code",
   "execution_count": 17,
   "metadata": {},
   "outputs": [
    {
     "data": {
      "text/plain": [
       "tensor(20294)"
      ]
     },
     "execution_count": 17,
     "metadata": {},
     "output_type": "execute_result"
    }
   ],
   "source": [
    "ind_to_replace_with_noise[0]"
   ]
  },
  {
   "cell_type": "markdown",
   "metadata": {},
   "source": [
    "## Test random"
   ]
  },
  {
   "cell_type": "code",
   "execution_count": 18,
   "metadata": {},
   "outputs": [],
   "source": [
    "args = {\n",
    "    \"dataset_folder\": \"./curricula/datasets/test\",   \n",
    "}\n",
    "args[\"raw_dataset_folder_babylm\"] = \"./train_10M\"\n",
    "args[\"curriculum_path\"] = \"./curricula/test_random_curriculum\"\n",
    "args[\"eval_dataset_folder\"] = \"./curricula/datasets/test_eval\"\n",
    "args[\"epochs\"] = 3"
   ]
  },
  {
   "cell_type": "code",
   "execution_count": 19,
   "metadata": {},
   "outputs": [
    {
     "data": {
      "application/vnd.jupyter.widget-view+json": {
       "model_id": "2ccea2b76cd74a87a63704052cd5e3a8",
       "version_major": 2,
       "version_minor": 0
      },
      "text/plain": [
       "Saving the dataset (0/1 shards):   0%|          | 0/1179 [00:00<?, ? examples/s]"
      ]
     },
     "metadata": {},
     "output_type": "display_data"
    },
    {
     "data": {
      "application/vnd.jupyter.widget-view+json": {
       "model_id": "ed98723ce1ef476b9a46aa6214b61570",
       "version_major": 2,
       "version_minor": 0
      },
      "text/plain": [
       "Saving the dataset (0/1 shards):   0%|          | 0/117 [00:00<?, ? examples/s]"
      ]
     },
     "metadata": {},
     "output_type": "display_data"
    },
    {
     "data": {
      "text/plain": [
       "{'dataset_folder': './curricula/datasets/test',\n",
       " 'raw_dataset_folder_babylm': './train_10M',\n",
       " 'curriculum_path': './curricula/test_random_curriculum',\n",
       " 'eval_dataset_folder': './curricula/datasets/test_eval',\n",
       " 'epochs': 3}"
      ]
     },
     "execution_count": 19,
     "metadata": {},
     "output_type": "execute_result"
    }
   ],
   "source": [
    "import datasets\n",
    "import torch \n",
    "torch.manual_seed(0)\n",
    "import json\n",
    "#dataset = load_dataset(\"text\", data_dir =\"/data/loriss21dm/babylm/train_test\", cache_dir='/data/loriss21dm/cache')[\"train\"] \n",
    "dataset = datasets.load_from_disk(\"./curricula/datasets/curriculum_10M_2024\") # reuse one created above\n",
    "dataset = dataset.shuffle()\n",
    "dataset = datasets.Dataset.from_dict(dataset[0:len(dataset)//1000]) # TODO\n",
    "dataset.save_to_disk(args[\"dataset_folder\"])\n",
    "\n",
    "random_order = torch.stack([torch.randperm(len(dataset)) for _ in range(0,args[\"epochs\"])])\n",
    "torch.save(random_order, args[\"curriculum_path\"])\n",
    "\n",
    "\n",
    "dataset = datasets.Dataset.from_dict(dataset[0:len(dataset)//10]) # TODO\n",
    "dataset.save_to_disk(args[\"eval_dataset_folder\"])\n",
    "\n",
    "with open(\"./configs/test\", 'w') as f:\n",
    "    json.dump(args, f)\n",
    "args"
   ]
  },
  {
   "cell_type": "markdown",
   "metadata": {},
   "source": [
    "## New Curriculum based on Influence during learning on randomly shuffled data"
   ]
  },
  {
   "cell_type": "code",
   "execution_count": 20,
   "metadata": {},
   "outputs": [
    {
     "name": "stdout",
     "output_type": "stream",
     "text": [
      "{'dataset_folder': './curricula/datasets/curriculum_10M_2024', 'raw_dataset_folder_babylm': './train_10M', 'curriculum_path': './curricula/random_10M_2024', 'eval_dataset_folder': './curricula/datasets/curriculum_10M_2024_eval', 'epochs': 10}\n"
     ]
    },
    {
     "data": {
      "text/html": [
       "<div>\n",
       "<style scoped>\n",
       "    .dataframe tbody tr th:only-of-type {\n",
       "        vertical-align: middle;\n",
       "    }\n",
       "\n",
       "    .dataframe tbody tr th {\n",
       "        vertical-align: top;\n",
       "    }\n",
       "\n",
       "    .dataframe thead th {\n",
       "        text-align: right;\n",
       "    }\n",
       "</style>\n",
       "<table border=\"1\" class=\"dataframe\">\n",
       "  <thead>\n",
       "    <tr style=\"text-align: right;\">\n",
       "      <th></th>\n",
       "      <th>9212</th>\n",
       "      <th>18424</th>\n",
       "      <th>27636</th>\n",
       "      <th>36848</th>\n",
       "      <th>46060</th>\n",
       "      <th>55272</th>\n",
       "      <th>64484</th>\n",
       "      <th>73696</th>\n",
       "      <th>82908</th>\n",
       "      <th>92120</th>\n",
       "      <th>total</th>\n",
       "      <th>text</th>\n",
       "      <th>source</th>\n",
       "      <th>document_lenght</th>\n",
       "    </tr>\n",
       "  </thead>\n",
       "  <tbody>\n",
       "    <tr>\n",
       "      <th>0</th>\n",
       "      <td>0.000000</td>\n",
       "      <td>0.196915</td>\n",
       "      <td>0.464265</td>\n",
       "      <td>0.168282</td>\n",
       "      <td>0.054872</td>\n",
       "      <td>0.023046</td>\n",
       "      <td>0.051617</td>\n",
       "      <td>0.032035</td>\n",
       "      <td>0.015906</td>\n",
       "      <td>0.008399</td>\n",
       "      <td>1.015337</td>\n",
       "      <td>Now you're putting it on me like I'm gonna aba...</td>\n",
       "      <td>open_subtitles.train</td>\n",
       "      <td>14</td>\n",
       "    </tr>\n",
       "    <tr>\n",
       "      <th>1</th>\n",
       "      <td>0.215043</td>\n",
       "      <td>0.052703</td>\n",
       "      <td>0.130161</td>\n",
       "      <td>0.045186</td>\n",
       "      <td>0.015314</td>\n",
       "      <td>0.025799</td>\n",
       "      <td>0.008130</td>\n",
       "      <td>-0.002933</td>\n",
       "      <td>0.086384</td>\n",
       "      <td>0.044641</td>\n",
       "      <td>0.620429</td>\n",
       "      <td>= = = childes/CHILDES_UK/Edinburgh/hakeem0903....</td>\n",
       "      <td>childes.train</td>\n",
       "      <td>8</td>\n",
       "    </tr>\n",
       "    <tr>\n",
       "      <th>2</th>\n",
       "      <td>0.130555</td>\n",
       "      <td>0.031752</td>\n",
       "      <td>0.398065</td>\n",
       "      <td>0.113166</td>\n",
       "      <td>0.084688</td>\n",
       "      <td>0.072645</td>\n",
       "      <td>0.047322</td>\n",
       "      <td>0.034912</td>\n",
       "      <td>0.011752</td>\n",
       "      <td>0.005345</td>\n",
       "      <td>0.930202</td>\n",
       "      <td>*CHI:\\tI don't wear my sweatshirt.</td>\n",
       "      <td>childes.train</td>\n",
       "      <td>7</td>\n",
       "    </tr>\n",
       "    <tr>\n",
       "      <th>3</th>\n",
       "      <td>-0.000313</td>\n",
       "      <td>0.001169</td>\n",
       "      <td>0.000973</td>\n",
       "      <td>0.000264</td>\n",
       "      <td>0.029773</td>\n",
       "      <td>0.007767</td>\n",
       "      <td>0.044175</td>\n",
       "      <td>0.013503</td>\n",
       "      <td>0.004643</td>\n",
       "      <td>0.006240</td>\n",
       "      <td>0.108195</td>\n",
       "      <td>The program caused different reactions from co...</td>\n",
       "      <td>simple_wiki.train</td>\n",
       "      <td>37</td>\n",
       "    </tr>\n",
       "    <tr>\n",
       "      <th>4</th>\n",
       "      <td>0.002561</td>\n",
       "      <td>0.122183</td>\n",
       "      <td>0.139494</td>\n",
       "      <td>0.037030</td>\n",
       "      <td>0.055496</td>\n",
       "      <td>0.016643</td>\n",
       "      <td>0.027887</td>\n",
       "      <td>0.010327</td>\n",
       "      <td>0.008796</td>\n",
       "      <td>0.119937</td>\n",
       "      <td>0.540355</td>\n",
       "      <td></td>\n",
       "      <td>simple_wiki.train</td>\n",
       "      <td>1</td>\n",
       "    </tr>\n",
       "    <tr>\n",
       "      <th>...</th>\n",
       "      <td>...</td>\n",
       "      <td>...</td>\n",
       "      <td>...</td>\n",
       "      <td>...</td>\n",
       "      <td>...</td>\n",
       "      <td>...</td>\n",
       "      <td>...</td>\n",
       "      <td>...</td>\n",
       "      <td>...</td>\n",
       "      <td>...</td>\n",
       "      <td>...</td>\n",
       "      <td>...</td>\n",
       "      <td>...</td>\n",
       "      <td>...</td>\n",
       "    </tr>\n",
       "    <tr>\n",
       "      <th>1179009</th>\n",
       "      <td>0.011064</td>\n",
       "      <td>-0.028697</td>\n",
       "      <td>-0.005899</td>\n",
       "      <td>-0.017692</td>\n",
       "      <td>-0.005494</td>\n",
       "      <td>-0.000605</td>\n",
       "      <td>-0.001288</td>\n",
       "      <td>-0.000507</td>\n",
       "      <td>-0.000258</td>\n",
       "      <td>-0.000148</td>\n",
       "      <td>-0.049523</td>\n",
       "      <td></td>\n",
       "      <td>childes.train</td>\n",
       "      <td>1</td>\n",
       "    </tr>\n",
       "    <tr>\n",
       "      <th>1179010</th>\n",
       "      <td>0.000000</td>\n",
       "      <td>0.000000</td>\n",
       "      <td>0.000000</td>\n",
       "      <td>0.000000</td>\n",
       "      <td>0.000000</td>\n",
       "      <td>0.000000</td>\n",
       "      <td>0.000000</td>\n",
       "      <td>-0.002727</td>\n",
       "      <td>-0.001382</td>\n",
       "      <td>-0.000334</td>\n",
       "      <td>-0.004443</td>\n",
       "      <td>\"Here in London. It is a powerful and wealthy ...</td>\n",
       "      <td>gutenberg.train</td>\n",
       "      <td>27</td>\n",
       "    </tr>\n",
       "    <tr>\n",
       "      <th>1179011</th>\n",
       "      <td>0.000385</td>\n",
       "      <td>0.001423</td>\n",
       "      <td>0.000343</td>\n",
       "      <td>-0.000568</td>\n",
       "      <td>0.000187</td>\n",
       "      <td>-0.000054</td>\n",
       "      <td>0.000143</td>\n",
       "      <td>0.010581</td>\n",
       "      <td>0.008184</td>\n",
       "      <td>0.010588</td>\n",
       "      <td>0.031212</td>\n",
       "      <td>*MOT:\\tDada's waiting for you.</td>\n",
       "      <td>childes.train</td>\n",
       "      <td>6</td>\n",
       "    </tr>\n",
       "    <tr>\n",
       "      <th>1179012</th>\n",
       "      <td>-0.001100</td>\n",
       "      <td>0.107309</td>\n",
       "      <td>0.023218</td>\n",
       "      <td>0.009043</td>\n",
       "      <td>-0.000616</td>\n",
       "      <td>0.000789</td>\n",
       "      <td>0.000879</td>\n",
       "      <td>0.000590</td>\n",
       "      <td>0.000725</td>\n",
       "      <td>0.003571</td>\n",
       "      <td>0.144407</td>\n",
       "      <td>*MOT:\\there can I fix it?</td>\n",
       "      <td>childes.train</td>\n",
       "      <td>7</td>\n",
       "    </tr>\n",
       "    <tr>\n",
       "      <th>1179013</th>\n",
       "      <td>0.000000</td>\n",
       "      <td>0.000000</td>\n",
       "      <td>0.000000</td>\n",
       "      <td>0.000000</td>\n",
       "      <td>0.000000</td>\n",
       "      <td>0.000000</td>\n",
       "      <td>0.000000</td>\n",
       "      <td>0.000000</td>\n",
       "      <td>0.000000</td>\n",
       "      <td>0.000000</td>\n",
       "      <td>0.000000</td>\n",
       "      <td>*CHI:\\tum a mouse.</td>\n",
       "      <td>childes.train</td>\n",
       "      <td>5</td>\n",
       "    </tr>\n",
       "  </tbody>\n",
       "</table>\n",
       "<p>1179014 rows × 14 columns</p>\n",
       "</div>"
      ],
      "text/plain": [
       "             9212     18424     27636     36848     46060     55272     64484  \\\n",
       "0        0.000000  0.196915  0.464265  0.168282  0.054872  0.023046  0.051617   \n",
       "1        0.215043  0.052703  0.130161  0.045186  0.015314  0.025799  0.008130   \n",
       "2        0.130555  0.031752  0.398065  0.113166  0.084688  0.072645  0.047322   \n",
       "3       -0.000313  0.001169  0.000973  0.000264  0.029773  0.007767  0.044175   \n",
       "4        0.002561  0.122183  0.139494  0.037030  0.055496  0.016643  0.027887   \n",
       "...           ...       ...       ...       ...       ...       ...       ...   \n",
       "1179009  0.011064 -0.028697 -0.005899 -0.017692 -0.005494 -0.000605 -0.001288   \n",
       "1179010  0.000000  0.000000  0.000000  0.000000  0.000000  0.000000  0.000000   \n",
       "1179011  0.000385  0.001423  0.000343 -0.000568  0.000187 -0.000054  0.000143   \n",
       "1179012 -0.001100  0.107309  0.023218  0.009043 -0.000616  0.000789  0.000879   \n",
       "1179013  0.000000  0.000000  0.000000  0.000000  0.000000  0.000000  0.000000   \n",
       "\n",
       "            73696     82908     92120     total  \\\n",
       "0        0.032035  0.015906  0.008399  1.015337   \n",
       "1       -0.002933  0.086384  0.044641  0.620429   \n",
       "2        0.034912  0.011752  0.005345  0.930202   \n",
       "3        0.013503  0.004643  0.006240  0.108195   \n",
       "4        0.010327  0.008796  0.119937  0.540355   \n",
       "...           ...       ...       ...       ...   \n",
       "1179009 -0.000507 -0.000258 -0.000148 -0.049523   \n",
       "1179010 -0.002727 -0.001382 -0.000334 -0.004443   \n",
       "1179011  0.010581  0.008184  0.010588  0.031212   \n",
       "1179012  0.000590  0.000725  0.003571  0.144407   \n",
       "1179013  0.000000  0.000000  0.000000  0.000000   \n",
       "\n",
       "                                                      text  \\\n",
       "0        Now you're putting it on me like I'm gonna aba...   \n",
       "1        = = = childes/CHILDES_UK/Edinburgh/hakeem0903....   \n",
       "2                       *CHI:\\tI don't wear my sweatshirt.   \n",
       "3        The program caused different reactions from co...   \n",
       "4                                                            \n",
       "...                                                    ...   \n",
       "1179009                                                      \n",
       "1179010  \"Here in London. It is a powerful and wealthy ...   \n",
       "1179011                    *MOT:\\tDada's waiting for you.    \n",
       "1179012                          *MOT:\\there can I fix it?   \n",
       "1179013                                *CHI:\\tum a mouse.    \n",
       "\n",
       "                       source  document_lenght  \n",
       "0        open_subtitles.train               14  \n",
       "1               childes.train                8  \n",
       "2               childes.train                7  \n",
       "3           simple_wiki.train               37  \n",
       "4           simple_wiki.train                1  \n",
       "...                       ...              ...  \n",
       "1179009         childes.train                1  \n",
       "1179010       gutenberg.train               27  \n",
       "1179011         childes.train                6  \n",
       "1179012         childes.train                7  \n",
       "1179013         childes.train                5  \n",
       "\n",
       "[1179014 rows x 14 columns]"
      ]
     },
     "metadata": {},
     "output_type": "display_data"
    },
    {
     "data": {
      "image/png": "[encoded data removed]",
      "text/plain": [
       "<Figure size 640x480 with 1 Axes>"
      ]
     },
     "metadata": {},
     "output_type": "display_data"
    }
   ],
   "source": [
    "import numpy as np\n",
    "import numpy as np\n",
    "import matplotlib.pyplot as plt\n",
    "\n",
    "from scipy.stats import norm\n",
    "from scipy.stats import f\n",
    "from scipy.stats import lognorm\n",
    "\n",
    "\n",
    "import json\n",
    "import os\n",
    "import pandas as pd\n",
    "import torch\n",
    "import datasets\n",
    "from datasets import load_dataset\n",
    "\n",
    "\n",
    "\n",
    "def gaussian_filter(size, **args):\n",
    "    indices = np.arange(-size, size+1, 1)\n",
    "    weights =  norm.pdf(indices, **args)\n",
    "    return weights# / np.sum(weights)\n",
    "\n",
    "\n",
    "def f_filter(size, **args):\n",
    "    indices = np.arange(-size, size+1, 1)\n",
    "    print(indices)\n",
    "    weights = f.pdf(indices+1, **args)\n",
    "    return weights# / np.sum(weights)\n",
    "def lognorm_filter(size, **args):\n",
    "    #print(args)\n",
    "    indices = np.arange(-size, size+1, 1)\n",
    "    #print(indices)\n",
    "    weights = lognorm.pdf(indices+1, **args)\n",
    "    return weights / np.sum(weights)\n",
    "\n",
    "\n",
    "\n",
    "with open(\"./configs/random_10M_2024\") as f:\n",
    "    config = json.load(f)\n",
    "    print(config)\n",
    "config[\"influence_output_dir\"] = os.path.join(\"./influence\", os.path.basename(config[\"curriculum_path\"]))\n",
    "dataset = datasets.load_from_disk(config[\"dataset_folder\"])\n",
    "df = pd.DataFrame({int(result_checkpoint): torch.load(os.path.join(config[\"influence_output_dir\"],result_checkpoint),weights_only=True,map_location=\"cpu\").numpy().flatten() for result_checkpoint in os.listdir(config[\"influence_output_dir\"])})\n",
    "df.sort_index(axis=1)\n",
    "\n",
    "df = df.reindex(sorted(df.columns, reverse=False), axis=1)\n",
    "influence_cols = df.columns\n",
    "df[\"total\"] = df.sum(axis=1)\n",
    "df[[\"text\", \"source\"]] = dataset.to_pandas()\n",
    "df[\"document_lenght\"] = df[\"text\"].str.split(r\"\\S+\").str.len()\n",
    "\n",
    "\n",
    "\n",
    "\n",
    "def reweight_df(df, influence_cols, filter_weights):\n",
    "    scores = pd.DataFrame(np.apply_along_axis(lambda m: np.convolve(m,filter_weights, mode=\"valid\")[1:-1], axis=1, arr=df[influence_cols].to_numpy()))\n",
    "    scores.columns = influence_cols\n",
    "    df_reweighted = df.copy()\n",
    "    df_reweighted[influence_cols] = scores\n",
    "    df_reweighted[\"total\"] = df_reweighted[influence_cols].sum(axis=1)\n",
    "    return df_reweighted\n",
    "\n",
    "\n",
    "\n",
    "filter_weights = lognorm_filter(len(influence_cols), s=1, loc=0, scale=0.5)\n",
    "plt.plot(np.arange(-len(influence_cols),len(influence_cols)+1, 1),filter_weights)\n",
    "plt.vlines([0], ymin=0, ymax=max(filter_weights)+0.1, colors=[\"red\"])\n",
    "df_reweighted = reweight_df(df, influence_cols, lognorm_filter(len(influence_cols), s=1, loc=0, scale=0.5))\n",
    "display(df_reweighted)\n",
    "\n",
    "\n"
   ]
  },
  {
   "cell_type": "code",
   "execution_count": 21,
   "metadata": {},
   "outputs": [
    {
     "data": {
      "text/plain": [
       "Dataset({\n",
       "    features: ['text', 'source'],\n",
       "    num_rows: 1179014\n",
       "})"
      ]
     },
     "execution_count": 21,
     "metadata": {},
     "output_type": "execute_result"
    }
   ],
   "source": [
    "dataset"
   ]
  },
  {
   "cell_type": "code",
   "execution_count": 22,
   "metadata": {},
   "outputs": [
    {
     "ename": "NameError",
     "evalue": "name 'packed_dataset' is not defined",
     "output_type": "error",
     "traceback": [
      "\u001b[0;31m---------------------------------------------------------------------------\u001b[0m",
      "\u001b[0;31mNameError\u001b[0m                                 Traceback (most recent call last)",
      "Cell \u001b[0;32mIn[22], line 1\u001b[0m\n\u001b[0;32m----> 1\u001b[0m \u001b[38;5;28mlen\u001b[39m(\u001b[43mpacked_dataset\u001b[49m[\u001b[38;5;241m0\u001b[39m][\u001b[38;5;124m\"\u001b[39m\u001b[38;5;124minput_ids\u001b[39m\u001b[38;5;124m\"\u001b[39m])\n",
      "\u001b[0;31mNameError\u001b[0m: name 'packed_dataset' is not defined"
     ]
    }
   ],
   "source": [
    "len(packed_dataset[0][\"input_ids\"])"
   ]
  },
  {
   "cell_type": "code",
   "execution_count": null,
   "metadata": {},
   "outputs": [],
   "source": [
    "args = {\n",
    "    \"dataset_folder\": config[\"dataset_folder\"],   \n",
    "}\n",
    "args[\"raw_dataset_folder_babylm\"] = \"./train_10M\"\n",
    "args[\"curriculum_path\"] = \"./curricula/lognorm_curriculum_from_random_10M_2024\"\n",
    "args[\"eval_dataset_folder\"] = config[\"eval_dataset_folder\"]\n",
    "args[\"epochs\"] = config[\"epochs\"]\n",
    "\n",
    "torch.save(torch.stack([torch.tensor(df[checkpoint].sort_values(ascending=False).index.to_numpy()) for checkpoint in influence_cols]), args[\"curriculum_path\"])\n",
    "\n",
    "\n",
    "with open(\"./configs/lognorm_curriculum_from_random_10M_2024\", 'w') as f:\n",
    "    json.dump(args, f)"
   ]
  }
 ],
 "metadata": {
  "kernelspec": {
   "display_name": "Python 3",
   "language": "python",
   "name": "python3"
  },
  "language_info": {
   "codemirror_mode": {
    "name": "ipython",
    "version": 3
   },
   "file_extension": ".py",
   "mimetype": "text/x-python",
   "name": "python",
   "nbconvert_exporter": "python",
   "pygments_lexer": "ipython3",
   "version": "3.11.9"
  }
 },
 "nbformat": 4,
 "nbformat_minor": 2
}
