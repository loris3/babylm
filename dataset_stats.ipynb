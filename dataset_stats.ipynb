{
 "cells": [
  {
   "cell_type": "code",
   "execution_count": 1,
   "metadata": {},
   "outputs": [],
   "source": [
    "import os\n",
    "os.environ['HF_HOME'] = '/data/loriss21dm/cache'\n",
    "from datasets import load_dataset"
   ]
  },
  {
   "cell_type": "code",
   "execution_count": 2,
   "metadata": {},
   "outputs": [],
   "source": [
    "dataset_name = \"loris3/stratified_10m_curriculum\""
   ]
  },
  {
   "cell_type": "code",
   "execution_count": 3,
   "metadata": {},
   "outputs": [],
   "source": [
    "dataset = load_dataset(dataset_name)"
   ]
  },
  {
   "cell_type": "code",
   "execution_count": 4,
   "metadata": {},
   "outputs": [],
   "source": [
    "df = dataset[\"train\"].to_pandas()"
   ]
  },
  {
   "cell_type": "code",
   "execution_count": 5,
   "metadata": {},
   "outputs": [
    {
     "data": {
      "text/html": [
       "<div>\n",
       "<style scoped>\n",
       "    .dataframe tbody tr th:only-of-type {\n",
       "        vertical-align: middle;\n",
       "    }\n",
       "\n",
       "    .dataframe tbody tr th {\n",
       "        vertical-align: top;\n",
       "    }\n",
       "\n",
       "    .dataframe thead th {\n",
       "        text-align: right;\n",
       "    }\n",
       "</style>\n",
       "<table border=\"1\" class=\"dataframe\">\n",
       "  <thead>\n",
       "    <tr style=\"text-align: right;\">\n",
       "      <th></th>\n",
       "      <th>text</th>\n",
       "      <th>source</th>\n",
       "      <th>stage</th>\n",
       "    </tr>\n",
       "  </thead>\n",
       "  <tbody>\n",
       "    <tr>\n",
       "      <th>0</th>\n",
       "      <td>huh .</td>\n",
       "      <td>aochildes.txt</td>\n",
       "      <td>C1: Child Directed Speech</td>\n",
       "    </tr>\n",
       "    <tr>\n",
       "      <th>1</th>\n",
       "      <td>michael .</td>\n",
       "      <td>aochildes.txt</td>\n",
       "      <td>C1: Child Directed Speech</td>\n",
       "    </tr>\n",
       "    <tr>\n",
       "      <th>2</th>\n",
       "      <td>done !</td>\n",
       "      <td>aochildes.txt</td>\n",
       "      <td>C1: Child Directed Speech</td>\n",
       "    </tr>\n",
       "    <tr>\n",
       "      <th>3</th>\n",
       "      <td>you wanna put that in there okay don't knock i...</td>\n",
       "      <td>aochildes.txt</td>\n",
       "      <td>C1: Child Directed Speech</td>\n",
       "    </tr>\n",
       "    <tr>\n",
       "      <th>4</th>\n",
       "      <td>the female is half brown ?</td>\n",
       "      <td>aochildes.txt</td>\n",
       "      <td>C1: Child Directed Speech</td>\n",
       "    </tr>\n",
       "    <tr>\n",
       "      <th>...</th>\n",
       "      <td>...</td>\n",
       "      <td>...</td>\n",
       "      <td>...</td>\n",
       "    </tr>\n",
       "    <tr>\n",
       "      <th>1070316</th>\n",
       "      <td>suppose the sun to be somewhere. If her Majest...</td>\n",
       "      <td>gutenberg.txt</td>\n",
       "      <td>C5: Written English</td>\n",
       "    </tr>\n",
       "    <tr>\n",
       "      <th>1070317</th>\n",
       "      <td>reputed to be) that of a Mrs. Leakey, an amiab...</td>\n",
       "      <td>gutenberg.txt</td>\n",
       "      <td>C5: Written English</td>\n",
       "    </tr>\n",
       "    <tr>\n",
       "      <th>1070318</th>\n",
       "      <td>the people. Hokosa was the accuser. In brief a...</td>\n",
       "      <td>gutenberg.txt</td>\n",
       "      <td>C5: Written English</td>\n",
       "    </tr>\n",
       "    <tr>\n",
       "      <th>1070319</th>\n",
       "      <td>himself. One thing and one alone had developed...</td>\n",
       "      <td>gutenberg.txt</td>\n",
       "      <td>C5: Written English</td>\n",
       "    </tr>\n",
       "    <tr>\n",
       "      <th>1070320</th>\n",
       "      <td></td>\n",
       "      <td>gutenberg.txt</td>\n",
       "      <td>C5: Written English</td>\n",
       "    </tr>\n",
       "  </tbody>\n",
       "</table>\n",
       "<p>1070321 rows × 3 columns</p>\n",
       "</div>"
      ],
      "text/plain": [
       "                                                      text         source  \\\n",
       "0                                                    huh .  aochildes.txt   \n",
       "1                                                michael .  aochildes.txt   \n",
       "2                                                   done !  aochildes.txt   \n",
       "3        you wanna put that in there okay don't knock i...  aochildes.txt   \n",
       "4                               the female is half brown ?  aochildes.txt   \n",
       "...                                                    ...            ...   \n",
       "1070316  suppose the sun to be somewhere. If her Majest...  gutenberg.txt   \n",
       "1070317  reputed to be) that of a Mrs. Leakey, an amiab...  gutenberg.txt   \n",
       "1070318  the people. Hokosa was the accuser. In brief a...  gutenberg.txt   \n",
       "1070319  himself. One thing and one alone had developed...  gutenberg.txt   \n",
       "1070320                                                     gutenberg.txt   \n",
       "\n",
       "                             stage  \n",
       "0        C1: Child Directed Speech  \n",
       "1        C1: Child Directed Speech  \n",
       "2        C1: Child Directed Speech  \n",
       "3        C1: Child Directed Speech  \n",
       "4        C1: Child Directed Speech  \n",
       "...                            ...  \n",
       "1070316        C5: Written English  \n",
       "1070317        C5: Written English  \n",
       "1070318        C5: Written English  \n",
       "1070319        C5: Written English  \n",
       "1070320        C5: Written English  \n",
       "\n",
       "[1070321 rows x 3 columns]"
      ]
     },
     "execution_count": 5,
     "metadata": {},
     "output_type": "execute_result"
    }
   ],
   "source": [
    "df"
   ]
  },
  {
   "cell_type": "code",
   "execution_count": 15,
   "metadata": {},
   "outputs": [
    {
     "data": {
      "text/plain": [
       "{'C1: Child Directed Speech': ['aochildes.txt'],\n",
       " \"C2: Children's Books\": ['children_stories.txt',\n",
       "  'cbt_test.txt',\n",
       "  'cbt_train.txt',\n",
       "  'cbt_valid.txt'],\n",
       " 'C3: Dialogue': ['switchboard.txt', 'bnc_spoken.txt', 'open_subtitles.txt'],\n",
       " 'C4: Educational': ['qed.txt', 'simple_wiki.txt'],\n",
       " 'C5: Written English': ['wikipedia.txt', 'gutenberg.txt']}"
      ]
     },
     "execution_count": 15,
     "metadata": {},
     "output_type": "execute_result"
    }
   ],
   "source": [
    "import json\n",
    "import pandas as pd\n",
    "from huggingface_hub import hf_hub_download\n",
    "info = None\n",
    "with open(hf_hub_download(repo_id=dataset_name, filename=\"info.json\", repo_type=\"dataset\")) as f:\n",
    "    info = json.load(f)\n",
    "\n",
    "info[\"curriculum\"]"
   ]
  },
  {
   "cell_type": "code",
   "execution_count": 8,
   "metadata": {},
   "outputs": [],
   "source": [
    "df[\"word_count\"] = df[\"text\"].apply(lambda d: len(d.split()))"
   ]
  },
  {
   "cell_type": "code",
   "execution_count": 28,
   "metadata": {},
   "outputs": [],
   "source": [
    "counts = df.groupby(by=\"stage\")[\"stage\"].count()\n",
    "counts.name = \"Documents\""
   ]
  },
  {
   "cell_type": "code",
   "execution_count": 33,
   "metadata": {},
   "outputs": [],
   "source": [
    "counts_proportion = df.groupby(by=\"stage\")[\"stage\"].count() / df.groupby(by=\"stage\")[\"stage\"].count().sum()\n",
    "counts_proportion = counts_proportion.map(lambda n: '{:,.2%}'.format(n))\n",
    "counts_proportion.name = \"\""
   ]
  },
  {
   "cell_type": "code",
   "execution_count": 34,
   "metadata": {},
   "outputs": [],
   "source": [
    "words = df.groupby(by=\"stage\")[\"word_count\"].sum()\n",
    "words.name = \"Words\""
   ]
  },
  {
   "cell_type": "code",
   "execution_count": 37,
   "metadata": {},
   "outputs": [],
   "source": [
    "words_proportion = df.groupby(by=\"stage\")[\"word_count\"].sum() / df[\"word_count\"].sum()\n",
    "words_proportion = words_proportion.map(lambda n: '{:,.2%}'.format(n))\n",
    "words_proportion.name = \"\""
   ]
  },
  {
   "cell_type": "code",
   "execution_count": 47,
   "metadata": {},
   "outputs": [
    {
     "data": {
      "text/html": [
       "<div>\n",
       "<style scoped>\n",
       "    .dataframe tbody tr th:only-of-type {\n",
       "        vertical-align: middle;\n",
       "    }\n",
       "\n",
       "    .dataframe tbody tr th {\n",
       "        vertical-align: top;\n",
       "    }\n",
       "\n",
       "    .dataframe thead th {\n",
       "        text-align: right;\n",
       "    }\n",
       "</style>\n",
       "<table border=\"1\" class=\"dataframe\">\n",
       "  <thead>\n",
       "    <tr style=\"text-align: right;\">\n",
       "      <th></th>\n",
       "      <th>Words</th>\n",
       "      <th></th>\n",
       "      <th>Documents</th>\n",
       "      <th></th>\n",
       "    </tr>\n",
       "    <tr>\n",
       "      <th>Stage</th>\n",
       "      <th></th>\n",
       "      <th></th>\n",
       "      <th></th>\n",
       "      <th></th>\n",
       "    </tr>\n",
       "  </thead>\n",
       "  <tbody>\n",
       "    <tr>\n",
       "      <th>C1: Child Directed Speech</th>\n",
       "      <td>1999999</td>\n",
       "      <td>20.00%</td>\n",
       "      <td>360533</td>\n",
       "      <td>33.68%</td>\n",
       "    </tr>\n",
       "    <tr>\n",
       "      <th>C2: Children's Books</th>\n",
       "      <td>1999995</td>\n",
       "      <td>20.00%</td>\n",
       "      <td>77384</td>\n",
       "      <td>7.23%</td>\n",
       "    </tr>\n",
       "    <tr>\n",
       "      <th>C3: Dialogue</th>\n",
       "      <td>1999987</td>\n",
       "      <td>20.00%</td>\n",
       "      <td>349650</td>\n",
       "      <td>32.67%</td>\n",
       "    </tr>\n",
       "    <tr>\n",
       "      <th>C4: Educational</th>\n",
       "      <td>1999999</td>\n",
       "      <td>20.00%</td>\n",
       "      <td>161554</td>\n",
       "      <td>15.09%</td>\n",
       "    </tr>\n",
       "    <tr>\n",
       "      <th>C5: Written English</th>\n",
       "      <td>1999945</td>\n",
       "      <td>20.00%</td>\n",
       "      <td>121200</td>\n",
       "      <td>11.32%</td>\n",
       "    </tr>\n",
       "  </tbody>\n",
       "</table>\n",
       "</div>"
      ],
      "text/plain": [
       "                             Words          Documents        \n",
       "Stage                                                        \n",
       "C1: Child Directed Speech  1999999  20.00%     360533  33.68%\n",
       "C2: Children's Books       1999995  20.00%      77384   7.23%\n",
       "C3: Dialogue               1999987  20.00%     349650  32.67%\n",
       "C4: Educational            1999999  20.00%     161554  15.09%\n",
       "C5: Written English        1999945  20.00%     121200  11.32%"
      ]
     },
     "execution_count": 47,
     "metadata": {},
     "output_type": "execute_result"
    }
   ],
   "source": [
    "stats = pd.concat([words,words_proportion, counts, counts_proportion], axis=1)\n",
    "stats.index.name = \"Stage\"\n",
    "stats"
   ]
  },
  {
   "cell_type": "code",
   "execution_count": null,
   "metadata": {},
   "outputs": [],
   "source": []
  },
  {
   "cell_type": "code",
   "execution_count": null,
   "metadata": {},
   "outputs": [],
   "source": []
  }
 ],
 "metadata": {
  "kernelspec": {
   "display_name": ".venv",
   "language": "python",
   "name": "python3"
  },
  "language_info": {
   "codemirror_mode": {
    "name": "ipython",
    "version": 3
   },
   "file_extension": ".py",
   "mimetype": "text/x-python",
   "name": "python",
   "nbconvert_exporter": "python",
   "pygments_lexer": "ipython3",
   "version": "3.10.12"
  }
 },
 "nbformat": 4,
 "nbformat_minor": 2
}
