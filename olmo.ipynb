{
 "cells": [
  {
   "cell_type": "markdown",
   "metadata": {},
   "source": [
    "# Mean Pairwise TracIn(Ideal/CP) of Training Examples on Test-Set"
   ]
  },
  {
   "cell_type": "code",
   "execution_count": null,
   "metadata": {},
   "outputs": [],
   "source": []
  },
  {
   "cell_type": "markdown",
   "metadata": {},
   "source": [
    "I.e., mean influence a given document from the training data had on all examples in a test set.\n",
    "\n",
    "Requirements:\n",
    " - Training dataset: A sample from the (pretraining/finetuning) data \n",
    " - Test dataset: A set of examples for wich training data influence is to be estimated (as a group!)\n",
    "\n",
    "Use Case:\n",
    " - You have multiple sets ([noisy, not noisy, ood, etc] or (verbalized, percentage, no ce) or (math, news, books, child directed)]\n",
    " - You want to know the most useful documents from the training data when predicting examples from those sets\n",
    "\n",
    "Why not per-train-test-instance?\n",
    "- Theoretically possible but not implemented (would not have made sense for BabyLM)\n",
    "- Way more expensive to compute across checkpoints"
   ]
  },
  {
   "cell_type": "code",
   "execution_count": null,
   "metadata": {},
   "outputs": [],
   "source": []
  },
  {
   "cell_type": "markdown",
   "metadata": {},
   "source": [
    "$\\sum_i=0^k$"
   ]
  },
  {
   "cell_type": "markdown",
   "metadata": {},
   "source": []
  },
  {
   "cell_type": "markdown",
   "metadata": {},
   "source": []
  },
  {
   "cell_type": "code",
   "execution_count": 1,
   "metadata": {},
   "outputs": [],
   "source": [
    "from dotenv import load_dotenv\n",
    "load_dotenv()\n",
    "\n",
    "import os\n",
    "os.environ[\"CUDA_VISIBLE_DEVICES\"] = \"\"\n",
    "from datasets import load_dataset\n",
    "import plotting\n",
    "from util import tokenize_tulu_dataset, get_checkpoints_olmo\n",
    "import pandas as pd\n",
    "import swifter\n",
    "\n",
    "import torch\n",
    "from transformers import AutoTokenizer"
   ]
  },
  {
   "cell_type": "code",
   "execution_count": 2,
   "metadata": {},
   "outputs": [],
   "source": [
    "# import argparse\n",
    "# import os\n",
    "\n",
    "# import setproctitle\n",
    "# from dotenv import load_dotenv\n",
    "# load_dotenv()\n",
    "# import wandb\n",
    "\n",
    "# from util import batch \n",
    "\n",
    "# from functools import partial\n",
    "# from multiprocessing.pool import ThreadPool\n",
    "\n",
    "\n",
    "\n",
    "# import json\n",
    "\n",
    "# from datasets import load_dataset\n",
    "\n",
    "model_name = \"loris3/stratified_equitoken_10m_curriculum_random\"\n",
    "dataset_train_name =\"loris3/stratified_equitoken_10m_curriculum\"\n",
    "dataset_train_split_name = \"train\"\n",
    "dataset_test_name = \"loris3/stratified_equitoken_10m_curriculum\"\n",
    "dataset_test_split_name = \"train\"\n",
    "\n",
    "\n",
    "# gradient_output_dir_train = os.path.join(\"./gradients\", os.path.basename(model_name), os.path.basename(dataset_train_name), dataset_train_split_name)\n",
    "# gradient_output_dir_test = os.path.join(\"./gradients\", os.path.basename(model_name), os.path.basename(dataset_test_name), dataset_test_split_name)\n",
    "\n",
    "\n",
    "# if not os.path.exists(\"./influence\"):\n",
    "#     os.makedirs(\"./influence\")\n",
    "    \n",
    "# influence_output_dir = os.path.join(\"./influence\", os.path.basename(model_name), \"_\".join([os.path.basename(dataset_train_name), dataset_train_split_name, os.path.basename(dataset_test_name), dataset_test_split_name]))\n",
    "# if not os.path.exists(influence_output_dir):\n",
    "#     os.makedirs(influence_output_dir)\n",
    "\n",
    "\n",
    "# os.environ[\"TOKENIZERS_PARALLELISM\"] = \"True\"\n",
    "\n",
    "\n",
    "\n",
    "\n",
    "# import torch\n",
    "\n",
    "\n",
    "# import logging\n",
    "# logging.basicConfig(\n",
    "#                     level=logging.INFO,\n",
    "#                     format='%(asctime)s - %(levelname)s - %(message)s')\n",
    "\n",
    "\n",
    "\n",
    "\n",
    "# import util\n",
    "\n",
    "\n",
    "# import time\n",
    "\n",
    "# import datasets\n",
    "\n",
    "\n",
    "\n",
    "\n",
    "# # TODO we only need to know the lenght of the dataset here\n",
    "\n",
    "\n",
    "# dataset_train = load_dataset(dataset_train_name)[dataset_train_split_name] \n",
    "\n",
    "# dataset_test = load_dataset(dataset_test_name)[dataset_test_split_name] \n",
    "\n",
    "\n",
    "\n",
    "\n",
    "\n",
    "\n",
    "\n",
    "\n",
    "# import util\n",
    "\n",
    "\n",
    "# ##########################################\n",
    "\n",
    "\n",
    "# import torch \n",
    "# import time\n",
    "# from concurrent.futures import ThreadPoolExecutor\n",
    "\n",
    "\n",
    "\n",
    "# #########################################\n",
    "# from multiprocessing import Pool, current_process, Queue\n",
    "# import time \n",
    "# import datetime\n",
    "# import os\n",
    "# from pathlib import Path\n",
    "# import torch\n",
    "# from itertools import cycle\n",
    "\n",
    "\n",
    "# import sys\n",
    "\n",
    "# from transformers import RobertaTokenizerFast\n",
    "\n",
    "# tokenizer = RobertaTokenizerFast.from_pretrained(model_name, max_len=512)\n",
    "\n",
    "\n",
    "# from util import get_checkpoints_hub\n",
    "# checkpoints =  get_checkpoints_hub(model_name)\n",
    "\n",
    "# from util import DeterministicDataCollatorForLanguageModeling\n",
    "\n",
    "\n",
    "\n",
    "\n",
    "# import sys\n",
    "\n",
    "# from multiprocessing import Pool, Manager\n",
    "\n",
    "\n",
    "# import shutil\n",
    "\n",
    "\n",
    "\n",
    "\n",
    "# checkpoint = checkpoints[0]\n",
    "    \n",
    "# ###############\n",
    "\n",
    "# chunks_train = [ os.path.join(gradient_output_dir_train, os.path.basename(checkpoint), str(i) + \"_\" + str(i + 1000)) for i in list(range(0, len(dataset_train), 1000))]\n",
    "\n",
    "# chunks_test = [ os.path.join(gradient_output_dir_test, os.path.basename(checkpoint), str(i) + \"_\" + str(i + 1000)) for i in range(0, len(dataset_test), 1000)]\n",
    "\n",
    "\n",
    "# device = \"cpu\"\n",
    "\n",
    "# load_fn = lambda chunk_path: torch.load(chunk_path, weights_only=True, map_location=device).flatten(1)\n",
    "# chunks_a = None\n",
    "# with ThreadPoolExecutor(max_workers=50) as executor:\n",
    "#     chunks_a = list(executor.map(lambda task: (load_fn(task)), chunks_train))\n",
    "# chunks_b = None\n",
    "# with ThreadPoolExecutor(max_workers=50) as executor:\n",
    "#     chunks_b = list(executor.map(lambda task: (load_fn(task)), chunks_test))\n",
    "# ###############\n",
    "\n",
    "\n",
    "\n",
    "# c = torch.cat(chunks_a, dim=0)\n",
    "# del chunks_a\n",
    "# d = torch.cat(chunks_b, dim=0)\n",
    "# del chunks_b\n",
    "\n",
    "# assert c.shape[0] == len(dataset_train)\n",
    "\n",
    "# simple = torch.matmul(c, d.T)\n",
    "\n",
    "# simple.shape"
   ]
  },
  {
   "cell_type": "code",
   "execution_count": 4,
   "metadata": {},
   "outputs": [],
   "source": []
  },
  {
   "cell_type": "code",
   "execution_count": 5,
   "metadata": {},
   "outputs": [],
   "source": []
  },
  {
   "cell_type": "code",
   "execution_count": 6,
   "metadata": {},
   "outputs": [],
   "source": []
  },
  {
   "cell_type": "code",
   "execution_count": 41,
   "metadata": {},
   "outputs": [],
   "source": [
    "def convert_to_float(value):\n",
    "    if value and isinstance(value, str):\n",
    "        value = value.replace(\"tokens\", \"\")\n",
    "        num = ''.join([char for char in value if char.isdigit()])\n",
    "        suffix = ''.join([char for char in value if char.isalpha()])\n",
    "        num = float(num)\n",
    "        if suffix == 'B':\n",
    "            num *= 1e9  # Billion\n",
    "        elif suffix == 'M':\n",
    "            num *= 1e6  # Million\n",
    "        elif suffix == 'K':\n",
    "            num *= 1e3  # Thousand\n",
    "        return num\n",
    "    return None\n"
   ]
  },
  {
   "cell_type": "code",
   "execution_count": 42,
   "metadata": {},
   "outputs": [],
   "source": [
    "selection = []"
   ]
  },
  {
   "cell_type": "code",
   "execution_count": 51,
   "metadata": {},
   "outputs": [],
   "source": [
    "checkpoints = pd.DataFrame(get_checkpoints_olmo())\n",
    "checkpoints.columns = [\"name\"]\n",
    "checkpoints[['stage', 'ingredient', 'step', 'tokens']] = checkpoints[\"name\"].str.extract(r'(stage\\d+)-(ingredient\\d+)?-?(step\\d+)?-?(tokens\\d+\\w+)?')\n",
    "checkpoints.set_index(\"name\")\n",
    "\n",
    "checkpoints[\"step\"] = pd.to_numeric(checkpoints[\"step\"].str.replace(\"step\",\"\"))\n",
    "checkpoints[\"stage\"] = pd.to_numeric(checkpoints[\"stage\"].str.replace(\"stage\",\"\"))\n",
    "checkpoints['tokens'] = checkpoints['tokens'].apply(convert_to_float)\n",
    "\n",
    "# checkpoints = checkpoints[checkpoints[\"stage\"] == \"stage2\"]"
   ]
  },
  {
   "cell_type": "code",
   "execution_count": 52,
   "metadata": {},
   "outputs": [
    {
     "data": {
      "text/html": [
       "<div>\n",
       "<style scoped>\n",
       "    .dataframe tbody tr th:only-of-type {\n",
       "        vertical-align: middle;\n",
       "    }\n",
       "\n",
       "    .dataframe tbody tr th {\n",
       "        vertical-align: top;\n",
       "    }\n",
       "\n",
       "    .dataframe thead th {\n",
       "        text-align: right;\n",
       "    }\n",
       "</style>\n",
       "<table border=\"1\" class=\"dataframe\">\n",
       "  <thead>\n",
       "    <tr style=\"text-align: right;\">\n",
       "      <th></th>\n",
       "      <th>name</th>\n",
       "      <th>stage</th>\n",
       "      <th>ingredient</th>\n",
       "      <th>step</th>\n",
       "      <th>tokens</th>\n",
       "    </tr>\n",
       "  </thead>\n",
       "  <tbody>\n",
       "    <tr>\n",
       "      <th>0</th>\n",
       "      <td>stage1-step150-tokens1B</td>\n",
       "      <td>1.0</td>\n",
       "      <td>NaN</td>\n",
       "      <td>150.0</td>\n",
       "      <td>1.000000e+09</td>\n",
       "    </tr>\n",
       "    <tr>\n",
       "      <th>1</th>\n",
       "      <td>stage1-step600-tokens3B</td>\n",
       "      <td>1.0</td>\n",
       "      <td>NaN</td>\n",
       "      <td>600.0</td>\n",
       "      <td>3.000000e+09</td>\n",
       "    </tr>\n",
       "    <tr>\n",
       "      <th>2</th>\n",
       "      <td>stage1-step700-tokens3B</td>\n",
       "      <td>1.0</td>\n",
       "      <td>NaN</td>\n",
       "      <td>700.0</td>\n",
       "      <td>3.000000e+09</td>\n",
       "    </tr>\n",
       "    <tr>\n",
       "      <th>3</th>\n",
       "      <td>stage1-step850-tokens4B</td>\n",
       "      <td>1.0</td>\n",
       "      <td>NaN</td>\n",
       "      <td>850.0</td>\n",
       "      <td>4.000000e+09</td>\n",
       "    </tr>\n",
       "    <tr>\n",
       "      <th>4</th>\n",
       "      <td>stage1-step900-tokens4B</td>\n",
       "      <td>1.0</td>\n",
       "      <td>NaN</td>\n",
       "      <td>900.0</td>\n",
       "      <td>4.000000e+09</td>\n",
       "    </tr>\n",
       "    <tr>\n",
       "      <th>...</th>\n",
       "      <td>...</td>\n",
       "      <td>...</td>\n",
       "      <td>...</td>\n",
       "      <td>...</td>\n",
       "      <td>...</td>\n",
       "    </tr>\n",
       "    <tr>\n",
       "      <th>960</th>\n",
       "      <td>stage2-ingredient3-step9000-tokens38B</td>\n",
       "      <td>2.0</td>\n",
       "      <td>ingredient3</td>\n",
       "      <td>9000.0</td>\n",
       "      <td>3.800000e+10</td>\n",
       "    </tr>\n",
       "    <tr>\n",
       "      <th>961</th>\n",
       "      <td>stage2-ingredient3-step10000-tokens42B</td>\n",
       "      <td>2.0</td>\n",
       "      <td>ingredient3</td>\n",
       "      <td>10000.0</td>\n",
       "      <td>4.200000e+10</td>\n",
       "    </tr>\n",
       "    <tr>\n",
       "      <th>962</th>\n",
       "      <td>stage2-ingredient3-step11000-tokens47B</td>\n",
       "      <td>2.0</td>\n",
       "      <td>ingredient3</td>\n",
       "      <td>11000.0</td>\n",
       "      <td>4.700000e+10</td>\n",
       "    </tr>\n",
       "    <tr>\n",
       "      <th>963</th>\n",
       "      <td>stage2-ingredient3-step11931-tokens50B</td>\n",
       "      <td>2.0</td>\n",
       "      <td>ingredient3</td>\n",
       "      <td>11931.0</td>\n",
       "      <td>5.000000e+10</td>\n",
       "    </tr>\n",
       "    <tr>\n",
       "      <th>964</th>\n",
       "      <td>main</td>\n",
       "      <td>NaN</td>\n",
       "      <td>NaN</td>\n",
       "      <td>NaN</td>\n",
       "      <td>NaN</td>\n",
       "    </tr>\n",
       "  </tbody>\n",
       "</table>\n",
       "<p>965 rows × 5 columns</p>\n",
       "</div>"
      ],
      "text/plain": [
       "                                       name  stage   ingredient     step  \\\n",
       "0                   stage1-step150-tokens1B    1.0          NaN    150.0   \n",
       "1                   stage1-step600-tokens3B    1.0          NaN    600.0   \n",
       "2                   stage1-step700-tokens3B    1.0          NaN    700.0   \n",
       "3                   stage1-step850-tokens4B    1.0          NaN    850.0   \n",
       "4                   stage1-step900-tokens4B    1.0          NaN    900.0   \n",
       "..                                      ...    ...          ...      ...   \n",
       "960   stage2-ingredient3-step9000-tokens38B    2.0  ingredient3   9000.0   \n",
       "961  stage2-ingredient3-step10000-tokens42B    2.0  ingredient3  10000.0   \n",
       "962  stage2-ingredient3-step11000-tokens47B    2.0  ingredient3  11000.0   \n",
       "963  stage2-ingredient3-step11931-tokens50B    2.0  ingredient3  11931.0   \n",
       "964                                    main    NaN          NaN      NaN   \n",
       "\n",
       "           tokens  \n",
       "0    1.000000e+09  \n",
       "1    3.000000e+09  \n",
       "2    3.000000e+09  \n",
       "3    4.000000e+09  \n",
       "4    4.000000e+09  \n",
       "..            ...  \n",
       "960  3.800000e+10  \n",
       "961  4.200000e+10  \n",
       "962  4.700000e+10  \n",
       "963  5.000000e+10  \n",
       "964           NaN  \n",
       "\n",
       "[965 rows x 5 columns]"
      ]
     },
     "execution_count": 52,
     "metadata": {},
     "output_type": "execute_result"
    }
   ],
   "source": [
    "checkpoints"
   ]
  },
  {
   "cell_type": "code",
   "execution_count": 57,
   "metadata": {},
   "outputs": [
    {
     "data": {
      "text/plain": [
       "<Axes: xlabel='step'>"
      ]
     },
     "execution_count": 57,
     "metadata": {},
     "output_type": "execute_result"
    },
    {
     "data": {
      "image/png": "[encoded data removed]",
      "text/plain": [
       "<Figure size 640x480 with 1 Axes>"
      ]
     },
     "metadata": {},
     "output_type": "display_data"
    }
   ],
   "source": [
    "checkpoints['delta_step'] = checkpoints['step'].diff()\n",
    "\n",
    "checkpoints[['step', 'delta_step']].plot(x='step', y='delta_step', kind='line')\n"
   ]
  },
  {
   "cell_type": "code",
   "execution_count": 58,
   "metadata": {},
   "outputs": [
    {
     "data": {
      "text/plain": [
       "0         NaN\n",
       "1       450.0\n",
       "2       100.0\n",
       "3       150.0\n",
       "4        50.0\n",
       "        ...  \n",
       "960    1000.0\n",
       "961    1000.0\n",
       "962    1000.0\n",
       "963     931.0\n",
       "964       NaN\n",
       "Name: delta_step, Length: 965, dtype: float64"
      ]
     },
     "execution_count": 58,
     "metadata": {},
     "output_type": "execute_result"
    }
   ],
   "source": [
    "checkpoints['delta_step']"
   ]
  },
  {
   "cell_type": "code",
   "execution_count": 59,
   "metadata": {},
   "outputs": [
    {
     "data": {
      "text/plain": [
       "<Axes: xlabel='tokens'>"
      ]
     },
     "execution_count": 59,
     "metadata": {},
     "output_type": "execute_result"
    },
    {
     "data": {
      "image/png": "[encoded data removed]",
      "text/plain": [
       "<Figure size 640x480 with 1 Axes>"
      ]
     },
     "metadata": {},
     "output_type": "display_data"
    }
   ],
   "source": [
    "checkpoints[[\"step\", \"tokens\"]].plot(y='step', x='tokens', kind='line')\n"
   ]
  },
  {
   "cell_type": "code",
   "execution_count": 60,
   "metadata": {},
   "outputs": [
    {
     "data": {
      "text/html": [
       "<div>\n",
       "<style scoped>\n",
       "    .dataframe tbody tr th:only-of-type {\n",
       "        vertical-align: middle;\n",
       "    }\n",
       "\n",
       "    .dataframe tbody tr th {\n",
       "        vertical-align: top;\n",
       "    }\n",
       "\n",
       "    .dataframe thead th {\n",
       "        text-align: right;\n",
       "    }\n",
       "</style>\n",
       "<table border=\"1\" class=\"dataframe\">\n",
       "  <thead>\n",
       "    <tr style=\"text-align: right;\">\n",
       "      <th></th>\n",
       "      <th>name</th>\n",
       "      <th>stage</th>\n",
       "      <th>ingredient</th>\n",
       "      <th>step</th>\n",
       "      <th>tokens</th>\n",
       "      <th>delta_step</th>\n",
       "    </tr>\n",
       "  </thead>\n",
       "  <tbody>\n",
       "    <tr>\n",
       "      <th>0</th>\n",
       "      <td>stage1-step150-tokens1B</td>\n",
       "      <td>1.0</td>\n",
       "      <td>NaN</td>\n",
       "      <td>150.0</td>\n",
       "      <td>1.000000e+09</td>\n",
       "      <td>NaN</td>\n",
       "    </tr>\n",
       "    <tr>\n",
       "      <th>1</th>\n",
       "      <td>stage1-step600-tokens3B</td>\n",
       "      <td>1.0</td>\n",
       "      <td>NaN</td>\n",
       "      <td>600.0</td>\n",
       "      <td>3.000000e+09</td>\n",
       "      <td>450.0</td>\n",
       "    </tr>\n",
       "    <tr>\n",
       "      <th>2</th>\n",
       "      <td>stage1-step700-tokens3B</td>\n",
       "      <td>1.0</td>\n",
       "      <td>NaN</td>\n",
       "      <td>700.0</td>\n",
       "      <td>3.000000e+09</td>\n",
       "      <td>100.0</td>\n",
       "    </tr>\n",
       "    <tr>\n",
       "      <th>3</th>\n",
       "      <td>stage1-step850-tokens4B</td>\n",
       "      <td>1.0</td>\n",
       "      <td>NaN</td>\n",
       "      <td>850.0</td>\n",
       "      <td>4.000000e+09</td>\n",
       "      <td>150.0</td>\n",
       "    </tr>\n",
       "    <tr>\n",
       "      <th>4</th>\n",
       "      <td>stage1-step900-tokens4B</td>\n",
       "      <td>1.0</td>\n",
       "      <td>NaN</td>\n",
       "      <td>900.0</td>\n",
       "      <td>4.000000e+09</td>\n",
       "      <td>50.0</td>\n",
       "    </tr>\n",
       "    <tr>\n",
       "      <th>...</th>\n",
       "      <td>...</td>\n",
       "      <td>...</td>\n",
       "      <td>...</td>\n",
       "      <td>...</td>\n",
       "      <td>...</td>\n",
       "      <td>...</td>\n",
       "    </tr>\n",
       "    <tr>\n",
       "      <th>960</th>\n",
       "      <td>stage2-ingredient3-step9000-tokens38B</td>\n",
       "      <td>2.0</td>\n",
       "      <td>ingredient3</td>\n",
       "      <td>9000.0</td>\n",
       "      <td>3.800000e+10</td>\n",
       "      <td>1000.0</td>\n",
       "    </tr>\n",
       "    <tr>\n",
       "      <th>961</th>\n",
       "      <td>stage2-ingredient3-step10000-tokens42B</td>\n",
       "      <td>2.0</td>\n",
       "      <td>ingredient3</td>\n",
       "      <td>10000.0</td>\n",
       "      <td>4.200000e+10</td>\n",
       "      <td>1000.0</td>\n",
       "    </tr>\n",
       "    <tr>\n",
       "      <th>962</th>\n",
       "      <td>stage2-ingredient3-step11000-tokens47B</td>\n",
       "      <td>2.0</td>\n",
       "      <td>ingredient3</td>\n",
       "      <td>11000.0</td>\n",
       "      <td>4.700000e+10</td>\n",
       "      <td>1000.0</td>\n",
       "    </tr>\n",
       "    <tr>\n",
       "      <th>963</th>\n",
       "      <td>stage2-ingredient3-step11931-tokens50B</td>\n",
       "      <td>2.0</td>\n",
       "      <td>ingredient3</td>\n",
       "      <td>11931.0</td>\n",
       "      <td>5.000000e+10</td>\n",
       "      <td>931.0</td>\n",
       "    </tr>\n",
       "    <tr>\n",
       "      <th>964</th>\n",
       "      <td>main</td>\n",
       "      <td>NaN</td>\n",
       "      <td>NaN</td>\n",
       "      <td>NaN</td>\n",
       "      <td>NaN</td>\n",
       "      <td>NaN</td>\n",
       "    </tr>\n",
       "  </tbody>\n",
       "</table>\n",
       "<p>965 rows × 6 columns</p>\n",
       "</div>"
      ],
      "text/plain": [
       "                                       name  stage   ingredient     step  \\\n",
       "0                   stage1-step150-tokens1B    1.0          NaN    150.0   \n",
       "1                   stage1-step600-tokens3B    1.0          NaN    600.0   \n",
       "2                   stage1-step700-tokens3B    1.0          NaN    700.0   \n",
       "3                   stage1-step850-tokens4B    1.0          NaN    850.0   \n",
       "4                   stage1-step900-tokens4B    1.0          NaN    900.0   \n",
       "..                                      ...    ...          ...      ...   \n",
       "960   stage2-ingredient3-step9000-tokens38B    2.0  ingredient3   9000.0   \n",
       "961  stage2-ingredient3-step10000-tokens42B    2.0  ingredient3  10000.0   \n",
       "962  stage2-ingredient3-step11000-tokens47B    2.0  ingredient3  11000.0   \n",
       "963  stage2-ingredient3-step11931-tokens50B    2.0  ingredient3  11931.0   \n",
       "964                                    main    NaN          NaN      NaN   \n",
       "\n",
       "           tokens  delta_step  \n",
       "0    1.000000e+09         NaN  \n",
       "1    3.000000e+09       450.0  \n",
       "2    3.000000e+09       100.0  \n",
       "3    4.000000e+09       150.0  \n",
       "4    4.000000e+09        50.0  \n",
       "..            ...         ...  \n",
       "960  3.800000e+10      1000.0  \n",
       "961  4.200000e+10      1000.0  \n",
       "962  4.700000e+10      1000.0  \n",
       "963  5.000000e+10       931.0  \n",
       "964           NaN         NaN  \n",
       "\n",
       "[965 rows x 6 columns]"
      ]
     },
     "execution_count": 60,
     "metadata": {},
     "output_type": "execute_result"
    }
   ],
   "source": [
    "checkpoints"
   ]
  },
  {
   "cell_type": "code",
   "execution_count": 61,
   "metadata": {},
   "outputs": [],
   "source": [
    "import numpy as np\n",
    "\n"
   ]
  },
  {
   "cell_type": "code",
   "execution_count": 62,
   "metadata": {},
   "outputs": [
    {
     "data": {
      "text/html": [
       "<div>\n",
       "<style scoped>\n",
       "    .dataframe tbody tr th:only-of-type {\n",
       "        vertical-align: middle;\n",
       "    }\n",
       "\n",
       "    .dataframe tbody tr th {\n",
       "        vertical-align: top;\n",
       "    }\n",
       "\n",
       "    .dataframe thead th {\n",
       "        text-align: right;\n",
       "    }\n",
       "</style>\n",
       "<table border=\"1\" class=\"dataframe\">\n",
       "  <thead>\n",
       "    <tr style=\"text-align: right;\">\n",
       "      <th></th>\n",
       "      <th>name</th>\n",
       "      <th>stage</th>\n",
       "      <th>ingredient</th>\n",
       "      <th>step</th>\n",
       "      <th>tokens</th>\n",
       "      <th>delta_step</th>\n",
       "    </tr>\n",
       "  </thead>\n",
       "  <tbody>\n",
       "    <tr>\n",
       "      <th>1</th>\n",
       "      <td>stage1-step600-tokens3B</td>\n",
       "      <td>1.0</td>\n",
       "      <td>NaN</td>\n",
       "      <td>600.0</td>\n",
       "      <td>3.000000e+09</td>\n",
       "      <td>450.0</td>\n",
       "    </tr>\n",
       "    <tr>\n",
       "      <th>96</th>\n",
       "      <td>stage1-step91000-tokens382B</td>\n",
       "      <td>1.0</td>\n",
       "      <td>NaN</td>\n",
       "      <td>91000.0</td>\n",
       "      <td>3.820000e+11</td>\n",
       "      <td>1000.0</td>\n",
       "    </tr>\n",
       "    <tr>\n",
       "      <th>191</th>\n",
       "      <td>stage1-step188000-tokens789B</td>\n",
       "      <td>1.0</td>\n",
       "      <td>NaN</td>\n",
       "      <td>188000.0</td>\n",
       "      <td>7.890000e+11</td>\n",
       "      <td>1000.0</td>\n",
       "    </tr>\n",
       "    <tr>\n",
       "      <th>286</th>\n",
       "      <td>stage1-step283000-tokens1187B</td>\n",
       "      <td>1.0</td>\n",
       "      <td>NaN</td>\n",
       "      <td>283000.0</td>\n",
       "      <td>1.187000e+12</td>\n",
       "      <td>1000.0</td>\n",
       "    </tr>\n",
       "    <tr>\n",
       "      <th>381</th>\n",
       "      <td>stage1-step379000-tokens1590B</td>\n",
       "      <td>1.0</td>\n",
       "      <td>NaN</td>\n",
       "      <td>379000.0</td>\n",
       "      <td>1.590000e+12</td>\n",
       "      <td>1000.0</td>\n",
       "    </tr>\n",
       "    <tr>\n",
       "      <th>476</th>\n",
       "      <td>stage1-step474000-tokens1989B</td>\n",
       "      <td>1.0</td>\n",
       "      <td>NaN</td>\n",
       "      <td>474000.0</td>\n",
       "      <td>1.989000e+12</td>\n",
       "      <td>1000.0</td>\n",
       "    </tr>\n",
       "    <tr>\n",
       "      <th>571</th>\n",
       "      <td>stage1-step570000-tokens2391B</td>\n",
       "      <td>1.0</td>\n",
       "      <td>NaN</td>\n",
       "      <td>570000.0</td>\n",
       "      <td>2.391000e+12</td>\n",
       "      <td>1000.0</td>\n",
       "    </tr>\n",
       "    <tr>\n",
       "      <th>666</th>\n",
       "      <td>stage1-step667000-tokens2798B</td>\n",
       "      <td>1.0</td>\n",
       "      <td>NaN</td>\n",
       "      <td>667000.0</td>\n",
       "      <td>2.798000e+12</td>\n",
       "      <td>1000.0</td>\n",
       "    </tr>\n",
       "    <tr>\n",
       "      <th>761</th>\n",
       "      <td>stage1-step763000-tokens3201B</td>\n",
       "      <td>1.0</td>\n",
       "      <td>NaN</td>\n",
       "      <td>763000.0</td>\n",
       "      <td>3.201000e+12</td>\n",
       "      <td>1000.0</td>\n",
       "    </tr>\n",
       "    <tr>\n",
       "      <th>856</th>\n",
       "      <td>stage1-step858000-tokens3599B</td>\n",
       "      <td>1.0</td>\n",
       "      <td>NaN</td>\n",
       "      <td>858000.0</td>\n",
       "      <td>3.599000e+12</td>\n",
       "      <td>1000.0</td>\n",
       "    </tr>\n",
       "  </tbody>\n",
       "</table>\n",
       "</div>"
      ],
      "text/plain": [
       "                              name  stage ingredient      step        tokens  \\\n",
       "1          stage1-step600-tokens3B    1.0        NaN     600.0  3.000000e+09   \n",
       "96     stage1-step91000-tokens382B    1.0        NaN   91000.0  3.820000e+11   \n",
       "191   stage1-step188000-tokens789B    1.0        NaN  188000.0  7.890000e+11   \n",
       "286  stage1-step283000-tokens1187B    1.0        NaN  283000.0  1.187000e+12   \n",
       "381  stage1-step379000-tokens1590B    1.0        NaN  379000.0  1.590000e+12   \n",
       "476  stage1-step474000-tokens1989B    1.0        NaN  474000.0  1.989000e+12   \n",
       "571  stage1-step570000-tokens2391B    1.0        NaN  570000.0  2.391000e+12   \n",
       "666  stage1-step667000-tokens2798B    1.0        NaN  667000.0  2.798000e+12   \n",
       "761  stage1-step763000-tokens3201B    1.0        NaN  763000.0  3.201000e+12   \n",
       "856  stage1-step858000-tokens3599B    1.0        NaN  858000.0  3.599000e+12   \n",
       "\n",
       "     delta_step  \n",
       "1         450.0  \n",
       "96       1000.0  \n",
       "191      1000.0  \n",
       "286      1000.0  \n",
       "381      1000.0  \n",
       "476      1000.0  \n",
       "571      1000.0  \n",
       "666      1000.0  \n",
       "761      1000.0  \n",
       "856      1000.0  "
      ]
     },
     "execution_count": 62,
     "metadata": {},
     "output_type": "execute_result"
    }
   ],
   "source": [
    "n = 10\n",
    "checkpoints_ = checkpoints[~checkpoints[\"ingredient\"].isin([\"ingredient2\", \"ingredient3\"])].reset_index(drop=True)\n",
    "checkpoints_.iloc[1::int(np.ceil( len(checkpoints_) / n ))]\n"
   ]
  },
  {
   "cell_type": "code",
   "execution_count": 63,
   "metadata": {},
   "outputs": [
    {
     "data": {
      "text/html": [
       "<div>\n",
       "<style scoped>\n",
       "    .dataframe tbody tr th:only-of-type {\n",
       "        vertical-align: middle;\n",
       "    }\n",
       "\n",
       "    .dataframe tbody tr th {\n",
       "        vertical-align: top;\n",
       "    }\n",
       "\n",
       "    .dataframe thead th {\n",
       "        text-align: right;\n",
       "    }\n",
       "</style>\n",
       "<table border=\"1\" class=\"dataframe\">\n",
       "  <thead>\n",
       "    <tr style=\"text-align: right;\">\n",
       "      <th></th>\n",
       "      <th>name</th>\n",
       "      <th>stage</th>\n",
       "      <th>ingredient</th>\n",
       "      <th>step</th>\n",
       "      <th>tokens</th>\n",
       "      <th>delta_step</th>\n",
       "    </tr>\n",
       "  </thead>\n",
       "  <tbody>\n",
       "    <tr>\n",
       "      <th>0</th>\n",
       "      <td>stage1-step150-tokens1B</td>\n",
       "      <td>1.0</td>\n",
       "      <td>NaN</td>\n",
       "      <td>150.0</td>\n",
       "      <td>1.000000e+09</td>\n",
       "      <td>NaN</td>\n",
       "    </tr>\n",
       "    <tr>\n",
       "      <th>95</th>\n",
       "      <td>stage1-step90000-tokens378B</td>\n",
       "      <td>1.0</td>\n",
       "      <td>NaN</td>\n",
       "      <td>90000.0</td>\n",
       "      <td>3.780000e+11</td>\n",
       "      <td>1000.0</td>\n",
       "    </tr>\n",
       "    <tr>\n",
       "      <th>190</th>\n",
       "      <td>stage1-step187000-tokens785B</td>\n",
       "      <td>1.0</td>\n",
       "      <td>NaN</td>\n",
       "      <td>187000.0</td>\n",
       "      <td>7.850000e+11</td>\n",
       "      <td>1000.0</td>\n",
       "    </tr>\n",
       "    <tr>\n",
       "      <th>285</th>\n",
       "      <td>stage1-step282000-tokens1183B</td>\n",
       "      <td>1.0</td>\n",
       "      <td>NaN</td>\n",
       "      <td>282000.0</td>\n",
       "      <td>1.183000e+12</td>\n",
       "      <td>1000.0</td>\n",
       "    </tr>\n",
       "    <tr>\n",
       "      <th>380</th>\n",
       "      <td>stage1-step378000-tokens1586B</td>\n",
       "      <td>1.0</td>\n",
       "      <td>NaN</td>\n",
       "      <td>378000.0</td>\n",
       "      <td>1.586000e+12</td>\n",
       "      <td>1000.0</td>\n",
       "    </tr>\n",
       "    <tr>\n",
       "      <th>475</th>\n",
       "      <td>stage1-step473000-tokens1984B</td>\n",
       "      <td>1.0</td>\n",
       "      <td>NaN</td>\n",
       "      <td>473000.0</td>\n",
       "      <td>1.984000e+12</td>\n",
       "      <td>1000.0</td>\n",
       "    </tr>\n",
       "    <tr>\n",
       "      <th>570</th>\n",
       "      <td>stage1-step569000-tokens2387B</td>\n",
       "      <td>1.0</td>\n",
       "      <td>NaN</td>\n",
       "      <td>569000.0</td>\n",
       "      <td>2.387000e+12</td>\n",
       "      <td>1000.0</td>\n",
       "    </tr>\n",
       "    <tr>\n",
       "      <th>665</th>\n",
       "      <td>stage1-step666000-tokens2794B</td>\n",
       "      <td>1.0</td>\n",
       "      <td>NaN</td>\n",
       "      <td>666000.0</td>\n",
       "      <td>2.794000e+12</td>\n",
       "      <td>1000.0</td>\n",
       "    </tr>\n",
       "    <tr>\n",
       "      <th>760</th>\n",
       "      <td>stage1-step762000-tokens3197B</td>\n",
       "      <td>1.0</td>\n",
       "      <td>NaN</td>\n",
       "      <td>762000.0</td>\n",
       "      <td>3.197000e+12</td>\n",
       "      <td>1000.0</td>\n",
       "    </tr>\n",
       "    <tr>\n",
       "      <th>855</th>\n",
       "      <td>stage1-step857000-tokens3595B</td>\n",
       "      <td>1.0</td>\n",
       "      <td>NaN</td>\n",
       "      <td>857000.0</td>\n",
       "      <td>3.595000e+12</td>\n",
       "      <td>1000.0</td>\n",
       "    </tr>\n",
       "  </tbody>\n",
       "</table>\n",
       "</div>"
      ],
      "text/plain": [
       "                              name  stage ingredient      step        tokens  \\\n",
       "0          stage1-step150-tokens1B    1.0        NaN     150.0  1.000000e+09   \n",
       "95     stage1-step90000-tokens378B    1.0        NaN   90000.0  3.780000e+11   \n",
       "190   stage1-step187000-tokens785B    1.0        NaN  187000.0  7.850000e+11   \n",
       "285  stage1-step282000-tokens1183B    1.0        NaN  282000.0  1.183000e+12   \n",
       "380  stage1-step378000-tokens1586B    1.0        NaN  378000.0  1.586000e+12   \n",
       "475  stage1-step473000-tokens1984B    1.0        NaN  473000.0  1.984000e+12   \n",
       "570  stage1-step569000-tokens2387B    1.0        NaN  569000.0  2.387000e+12   \n",
       "665  stage1-step666000-tokens2794B    1.0        NaN  666000.0  2.794000e+12   \n",
       "760  stage1-step762000-tokens3197B    1.0        NaN  762000.0  3.197000e+12   \n",
       "855  stage1-step857000-tokens3595B    1.0        NaN  857000.0  3.595000e+12   \n",
       "\n",
       "     delta_step  \n",
       "0           NaN  \n",
       "95       1000.0  \n",
       "190      1000.0  \n",
       "285      1000.0  \n",
       "380      1000.0  \n",
       "475      1000.0  \n",
       "570      1000.0  \n",
       "665      1000.0  \n",
       "760      1000.0  \n",
       "855      1000.0  "
      ]
     },
     "execution_count": 63,
     "metadata": {},
     "output_type": "execute_result"
    }
   ],
   "source": [
    "checkpoints_.iloc[::int(np.ceil( len(checkpoints_) / n ))]\n"
   ]
  },
  {
   "cell_type": "code",
   "execution_count": 64,
   "metadata": {},
   "outputs": [
    {
     "data": {
      "text/html": [
       "<div>\n",
       "<style scoped>\n",
       "    .dataframe tbody tr th:only-of-type {\n",
       "        vertical-align: middle;\n",
       "    }\n",
       "\n",
       "    .dataframe tbody tr th {\n",
       "        vertical-align: top;\n",
       "    }\n",
       "\n",
       "    .dataframe thead th {\n",
       "        text-align: right;\n",
       "    }\n",
       "</style>\n",
       "<table border=\"1\" class=\"dataframe\">\n",
       "  <thead>\n",
       "    <tr style=\"text-align: right;\">\n",
       "      <th></th>\n",
       "      <th>name</th>\n",
       "      <th>stage</th>\n",
       "      <th>ingredient</th>\n",
       "      <th>step</th>\n",
       "      <th>tokens</th>\n",
       "      <th>delta_step</th>\n",
       "    </tr>\n",
       "  </thead>\n",
       "  <tbody>\n",
       "    <tr>\n",
       "      <th>0</th>\n",
       "      <td>stage1-step150-tokens1B</td>\n",
       "      <td>1.0</td>\n",
       "      <td>NaN</td>\n",
       "      <td>150.0</td>\n",
       "      <td>1.000000e+09</td>\n",
       "      <td>NaN</td>\n",
       "    </tr>\n",
       "    <tr>\n",
       "      <th>1</th>\n",
       "      <td>stage1-step600-tokens3B</td>\n",
       "      <td>1.0</td>\n",
       "      <td>NaN</td>\n",
       "      <td>600.0</td>\n",
       "      <td>3.000000e+09</td>\n",
       "      <td>450.0</td>\n",
       "    </tr>\n",
       "    <tr>\n",
       "      <th>2</th>\n",
       "      <td>stage1-step700-tokens3B</td>\n",
       "      <td>1.0</td>\n",
       "      <td>NaN</td>\n",
       "      <td>700.0</td>\n",
       "      <td>3.000000e+09</td>\n",
       "      <td>100.0</td>\n",
       "    </tr>\n",
       "    <tr>\n",
       "      <th>3</th>\n",
       "      <td>stage1-step850-tokens4B</td>\n",
       "      <td>1.0</td>\n",
       "      <td>NaN</td>\n",
       "      <td>850.0</td>\n",
       "      <td>4.000000e+09</td>\n",
       "      <td>150.0</td>\n",
       "    </tr>\n",
       "    <tr>\n",
       "      <th>4</th>\n",
       "      <td>stage1-step900-tokens4B</td>\n",
       "      <td>1.0</td>\n",
       "      <td>NaN</td>\n",
       "      <td>900.0</td>\n",
       "      <td>4.000000e+09</td>\n",
       "      <td>50.0</td>\n",
       "    </tr>\n",
       "    <tr>\n",
       "      <th>...</th>\n",
       "      <td>...</td>\n",
       "      <td>...</td>\n",
       "      <td>...</td>\n",
       "      <td>...</td>\n",
       "      <td>...</td>\n",
       "      <td>...</td>\n",
       "    </tr>\n",
       "    <tr>\n",
       "      <th>936</th>\n",
       "      <td>stage2-ingredient1-step9000-tokens38B</td>\n",
       "      <td>2.0</td>\n",
       "      <td>ingredient1</td>\n",
       "      <td>9000.0</td>\n",
       "      <td>3.800000e+10</td>\n",
       "      <td>1000.0</td>\n",
       "    </tr>\n",
       "    <tr>\n",
       "      <th>937</th>\n",
       "      <td>stage2-ingredient1-step10000-tokens42B</td>\n",
       "      <td>2.0</td>\n",
       "      <td>ingredient1</td>\n",
       "      <td>10000.0</td>\n",
       "      <td>4.200000e+10</td>\n",
       "      <td>1000.0</td>\n",
       "    </tr>\n",
       "    <tr>\n",
       "      <th>938</th>\n",
       "      <td>stage2-ingredient1-step11000-tokens47B</td>\n",
       "      <td>2.0</td>\n",
       "      <td>ingredient1</td>\n",
       "      <td>11000.0</td>\n",
       "      <td>4.700000e+10</td>\n",
       "      <td>1000.0</td>\n",
       "    </tr>\n",
       "    <tr>\n",
       "      <th>939</th>\n",
       "      <td>stage2-ingredient1-step11931-tokens50B</td>\n",
       "      <td>2.0</td>\n",
       "      <td>ingredient1</td>\n",
       "      <td>11931.0</td>\n",
       "      <td>5.000000e+10</td>\n",
       "      <td>931.0</td>\n",
       "    </tr>\n",
       "    <tr>\n",
       "      <th>940</th>\n",
       "      <td>main</td>\n",
       "      <td>NaN</td>\n",
       "      <td>NaN</td>\n",
       "      <td>NaN</td>\n",
       "      <td>NaN</td>\n",
       "      <td>NaN</td>\n",
       "    </tr>\n",
       "  </tbody>\n",
       "</table>\n",
       "<p>941 rows × 6 columns</p>\n",
       "</div>"
      ],
      "text/plain": [
       "                                       name  stage   ingredient     step  \\\n",
       "0                   stage1-step150-tokens1B    1.0          NaN    150.0   \n",
       "1                   stage1-step600-tokens3B    1.0          NaN    600.0   \n",
       "2                   stage1-step700-tokens3B    1.0          NaN    700.0   \n",
       "3                   stage1-step850-tokens4B    1.0          NaN    850.0   \n",
       "4                   stage1-step900-tokens4B    1.0          NaN    900.0   \n",
       "..                                      ...    ...          ...      ...   \n",
       "936   stage2-ingredient1-step9000-tokens38B    2.0  ingredient1   9000.0   \n",
       "937  stage2-ingredient1-step10000-tokens42B    2.0  ingredient1  10000.0   \n",
       "938  stage2-ingredient1-step11000-tokens47B    2.0  ingredient1  11000.0   \n",
       "939  stage2-ingredient1-step11931-tokens50B    2.0  ingredient1  11931.0   \n",
       "940                                    main    NaN          NaN      NaN   \n",
       "\n",
       "           tokens  delta_step  \n",
       "0    1.000000e+09         NaN  \n",
       "1    3.000000e+09       450.0  \n",
       "2    3.000000e+09       100.0  \n",
       "3    4.000000e+09       150.0  \n",
       "4    4.000000e+09        50.0  \n",
       "..            ...         ...  \n",
       "936  3.800000e+10      1000.0  \n",
       "937  4.200000e+10      1000.0  \n",
       "938  4.700000e+10      1000.0  \n",
       "939  5.000000e+10       931.0  \n",
       "940           NaN         NaN  \n",
       "\n",
       "[941 rows x 6 columns]"
      ]
     },
     "execution_count": 64,
     "metadata": {},
     "output_type": "execute_result"
    }
   ],
   "source": [
    "checkpoints_"
   ]
  },
  {
   "cell_type": "code",
   "execution_count": 65,
   "metadata": {},
   "outputs": [
    {
     "ename": "ValueError",
     "evalue": "The truth value of a Series is ambiguous. Use a.empty, a.bool(), a.item(), a.any() or a.all().",
     "output_type": "error",
     "traceback": [
      "\u001b[0;31m---------------------------------------------------------------------------\u001b[0m",
      "\u001b[0;31mValueError\u001b[0m                                Traceback (most recent call last)",
      "\u001b[0;32m/tmp/ipykernel_1003733/1779530362.py\u001b[0m in \u001b[0;36m?\u001b[0;34m()\u001b[0m\n\u001b[0;32m----> 1\u001b[0;31m \u001b[0mcheckpoints\u001b[0m\u001b[0;34m[\u001b[0m\u001b[0;34m\"ingredient\"\u001b[0m\u001b[0;34m]\u001b[0m \u001b[0;32mnot\u001b[0m \u001b[0;32min\u001b[0m \u001b[0;34m[\u001b[0m\u001b[0;34m\"ingredient2\"\u001b[0m\u001b[0;34m,\u001b[0m\u001b[0;34m\"ingredient3\"\u001b[0m\u001b[0;34m]\u001b[0m\u001b[0;34m\u001b[0m\u001b[0;34m\u001b[0m\u001b[0m\n\u001b[0m",
      "\u001b[0;32m/data/loriss21dm/babylm/.conda/lib/python3.12/site-packages/pandas/core/generic.py\u001b[0m in \u001b[0;36m?\u001b[0;34m(self)\u001b[0m\n\u001b[1;32m   1575\u001b[0m     \u001b[0;34m@\u001b[0m\u001b[0mfinal\u001b[0m\u001b[0;34m\u001b[0m\u001b[0;34m\u001b[0m\u001b[0m\n\u001b[1;32m   1576\u001b[0m     \u001b[0;32mdef\u001b[0m \u001b[0m__nonzero__\u001b[0m\u001b[0;34m(\u001b[0m\u001b[0mself\u001b[0m\u001b[0;34m)\u001b[0m \u001b[0;34m->\u001b[0m \u001b[0mNoReturn\u001b[0m\u001b[0;34m:\u001b[0m\u001b[0;34m\u001b[0m\u001b[0;34m\u001b[0m\u001b[0m\n\u001b[0;32m-> 1577\u001b[0;31m         raise ValueError(\n\u001b[0m\u001b[1;32m   1578\u001b[0m             \u001b[0;34mf\"\u001b[0m\u001b[0;34mThe truth value of a \u001b[0m\u001b[0;34m{\u001b[0m\u001b[0mtype\u001b[0m\u001b[0;34m(\u001b[0m\u001b[0mself\u001b[0m\u001b[0;34m)\u001b[0m\u001b[0;34m.\u001b[0m\u001b[0m__name__\u001b[0m\u001b[0;34m}\u001b[0m\u001b[0;34m is ambiguous. \u001b[0m\u001b[0;34m\"\u001b[0m\u001b[0;34m\u001b[0m\u001b[0;34m\u001b[0m\u001b[0m\n\u001b[1;32m   1579\u001b[0m             \u001b[0;34m\"Use a.empty, a.bool(), a.item(), a.any() or a.all().\"\u001b[0m\u001b[0;34m\u001b[0m\u001b[0;34m\u001b[0m\u001b[0m\n\u001b[1;32m   1580\u001b[0m         \u001b[0;34m)\u001b[0m\u001b[0;34m\u001b[0m\u001b[0;34m\u001b[0m\u001b[0m\n",
      "\u001b[0;31mValueError\u001b[0m: The truth value of a Series is ambiguous. Use a.empty, a.bool(), a.item(), a.any() or a.all()."
     ]
    }
   ],
   "source": [
    "checkpoints[\"ingredient\"] not in [\"ingredient2\",\"ingredient3\"]"
   ]
  },
  {
   "cell_type": "code",
   "execution_count": 66,
   "metadata": {},
   "outputs": [],
   "source": [
    "stage1 = checkpoints[checkpoints[\"stage\"] == \"stage1\"]"
   ]
  },
  {
   "cell_type": "code",
   "execution_count": 26,
   "metadata": {},
   "outputs": [
    {
     "data": {
      "text/plain": [
       "928"
      ]
     },
     "execution_count": 26,
     "metadata": {},
     "output_type": "execute_result"
    }
   ],
   "source": [
    "len(stage1)"
   ]
  },
  {
   "cell_type": "code",
   "execution_count": null,
   "metadata": {},
   "outputs": [
    {
     "data": {
      "text/html": [
       "<div>\n",
       "<style scoped>\n",
       "    .dataframe tbody tr th:only-of-type {\n",
       "        vertical-align: middle;\n",
       "    }\n",
       "\n",
       "    .dataframe tbody tr th {\n",
       "        vertical-align: top;\n",
       "    }\n",
       "\n",
       "    .dataframe thead th {\n",
       "        text-align: right;\n",
       "    }\n",
       "</style>\n",
       "<table border=\"1\" class=\"dataframe\">\n",
       "  <thead>\n",
       "    <tr style=\"text-align: right;\">\n",
       "      <th></th>\n",
       "      <th>name</th>\n",
       "      <th>stage</th>\n",
       "      <th>ingredient</th>\n",
       "      <th>step</th>\n",
       "      <th>tokens</th>\n",
       "    </tr>\n",
       "  </thead>\n",
       "  <tbody>\n",
       "    <tr>\n",
       "      <th>309</th>\n",
       "      <td>stage1-step306000-tokens1284B</td>\n",
       "      <td>stage1</td>\n",
       "      <td>NaN</td>\n",
       "      <td>step306000</td>\n",
       "      <td>tokens1284B</td>\n",
       "    </tr>\n",
       "    <tr>\n",
       "      <th>618</th>\n",
       "      <td>stage1-step618000-tokens2593B</td>\n",
       "      <td>stage1</td>\n",
       "      <td>NaN</td>\n",
       "      <td>step618000</td>\n",
       "      <td>tokens2593B</td>\n",
       "    </tr>\n",
       "    <tr>\n",
       "      <th>927</th>\n",
       "      <td>stage1-step928646-tokens3896B</td>\n",
       "      <td>stage1</td>\n",
       "      <td>NaN</td>\n",
       "      <td>step928646</td>\n",
       "      <td>tokens3896B</td>\n",
       "    </tr>\n",
       "  </tbody>\n",
       "</table>\n",
       "</div>"
      ],
      "text/plain": [
       "                              name   stage ingredient        step       tokens\n",
       "309  stage1-step306000-tokens1284B  stage1        NaN  step306000  tokens1284B\n",
       "618  stage1-step618000-tokens2593B  stage1        NaN  step618000  tokens2593B\n",
       "927  stage1-step928646-tokens3896B  stage1        NaN  step928646  tokens3896B"
      ]
     },
     "execution_count": 21,
     "metadata": {},
     "output_type": "execute_result"
    }
   ],
   "source": [
    "n = 3\n",
    "selection_stage1 = stage1.iloc[range(0, len(stage1), len(stage1)//n)][1:]\n",
    "selection.append(selection_stage1)\n",
    "selection_stage1"
   ]
  },
  {
   "cell_type": "code",
   "execution_count": 23,
   "metadata": {},
   "outputs": [],
   "source": [
    "stage2 = checkpoints[checkpoints[\"stage\"] == \"stage2\"]"
   ]
  },
  {
   "cell_type": "code",
   "execution_count": null,
   "metadata": {},
   "outputs": [
    {
     "ename": "NameError",
     "evalue": "name 'dsaf' is not defined",
     "output_type": "error",
     "traceback": [
      "\u001b[0;31m---------------------------------------------------------------------------\u001b[0m",
      "\u001b[0;31mNameError\u001b[0m                                 Traceback (most recent call last)",
      "Cell \u001b[0;32mIn[6], line 1\u001b[0m\n\u001b[0;32m----> 1\u001b[0m \u001b[43mdsaf\u001b[49m\n",
      "\u001b[0;31mNameError\u001b[0m: name 'dsaf' is not defined"
     ]
    }
   ],
   "source": [
    "dsaf"
   ]
  },
  {
   "cell_type": "code",
   "execution_count": 6,
   "metadata": {},
   "outputs": [],
   "source": [
    "# checkpoints"
   ]
  },
  {
   "cell_type": "code",
   "execution_count": 7,
   "metadata": {},
   "outputs": [],
   "source": [
    "# checkpoints"
   ]
  },
  {
   "cell_type": "code",
   "execution_count": null,
   "metadata": {},
   "outputs": [],
   "source": []
  },
  {
   "cell_type": "code",
   "execution_count": 8,
   "metadata": {},
   "outputs": [],
   "source": [
    "# # dataset_train_name = \"allenai/tulu-v2-sft-mixture\"\n",
    "# # dataset_train_split_name = \"train[:1%]\"\n",
    "\n",
    "# # dataset_test_name = \"allenai/tulu-v2-sft-mixture\"\n",
    "# # dataset_test_split_name=\"train[5%:6%]\"\n",
    "\n",
    "# model_name = \"allenai/OLMo-2-1124-7B\"\n",
    "\n",
    "# dataset = tokenize_tulu_dataset(\"allenai/tulu-v2-sft-mixture\", \"train[:1%]\")\n",
    "influence_output_dir = os.path.join(\"./influence\", os.path.basename(model_name), \"_\".join([os.path.basename(dataset_train_name), dataset_train_split_name, os.path.basename(dataset_test_name), dataset_test_split_name]))\n"
   ]
  },
  {
   "cell_type": "code",
   "execution_count": 9,
   "metadata": {},
   "outputs": [
    {
     "data": {
      "text/plain": [
       "'./influence/stratified_equitoken_10m_curriculum_random/stratified_equitoken_10m_curriculum_train_stratified_equitoken_10m_curriculum_train'"
      ]
     },
     "execution_count": 9,
     "metadata": {},
     "output_type": "execute_result"
    }
   ],
   "source": [
    "influence_output_dir"
   ]
  },
  {
   "cell_type": "code",
   "execution_count": 10,
   "metadata": {},
   "outputs": [
    {
     "data": {
      "text/plain": [
       "['checkpoint-6174']"
      ]
     },
     "execution_count": 10,
     "metadata": {},
     "output_type": "execute_result"
    }
   ],
   "source": [
    "os.listdir(influence_output_dir)"
   ]
  },
  {
   "cell_type": "code",
   "execution_count": 11,
   "metadata": {},
   "outputs": [],
   "source": [
    "# dataset_train = tokenize_tulu_dataset(dataset_train_name, dataset_train_split_name)\n",
    "# dataset_test = tokenize_tulu_dataset(dataset_train_name, dataset_test_split_name)"
   ]
  },
  {
   "cell_type": "code",
   "execution_count": 12,
   "metadata": {},
   "outputs": [],
   "source": [
    "tokenizer = AutoTokenizer.from_pretrained(\"allenai/OLMo-2-1124-7B\")"
   ]
  },
  {
   "cell_type": "code",
   "execution_count": 13,
   "metadata": {},
   "outputs": [],
   "source": [
    "# {(result_checkpoint): torch.load(os.path.join(influence_output_dir,result_checkpoint),weights_only=True,map_location=\"cpu\").float().numpy() for result_checkpoint in os.listdir(influence_output_dir)}"
   ]
  },
  {
   "cell_type": "code",
   "execution_count": 14,
   "metadata": {},
   "outputs": [],
   "source": [
    "data = {(result_checkpoint): torch.load(os.path.join(influence_output_dir,result_checkpoint),weights_only=True,map_location=\"cpu\").to(dtype=torch.float16).numpy() for result_checkpoint in os.listdir(influence_output_dir)}"
   ]
  },
  {
   "cell_type": "code",
   "execution_count": 15,
   "metadata": {},
   "outputs": [],
   "source": [
    "d = data[\"checkpoint-6174\"]"
   ]
  },
  {
   "cell_type": "code",
   "execution_count": 16,
   "metadata": {},
   "outputs": [],
   "source": [
    "from sklearn.preprocessing import minmax_scale #  TODO choose\n",
    "\n",
    "import numpy as np"
   ]
  },
  {
   "cell_type": "code",
   "execution_count": 34,
   "metadata": {},
   "outputs": [
    {
     "name": "stderr",
     "output_type": "stream",
     "text": [
      "/tmp/ipykernel_990606/2514398711.py:2: RuntimeWarning: invalid value encountered in divide\n",
      "  d_sm = e_x / e_x.sum(axis=0)\n"
     ]
    }
   ],
   "source": [
    "e_x = np.exp(d - np.max(d))\n",
    "d_sm = e_x / e_x.sum(axis=0)"
   ]
  },
  {
   "cell_type": "code",
   "execution_count": null,
   "metadata": {},
   "outputs": [],
   "source": []
  },
  {
   "cell_type": "code",
   "execution_count": 18,
   "metadata": {},
   "outputs": [],
   "source": [
    "d_normalized = minmax_scale(d, axis=0)"
   ]
  },
  {
   "cell_type": "code",
   "execution_count": 19,
   "metadata": {},
   "outputs": [
    {
     "data": {
      "text/plain": [
       "(100000, 100000)"
      ]
     },
     "execution_count": 19,
     "metadata": {},
     "output_type": "execute_result"
    }
   ],
   "source": [
    "d_normalized.shape"
   ]
  },
  {
   "cell_type": "code",
   "execution_count": 20,
   "metadata": {},
   "outputs": [],
   "source": []
  },
  {
   "cell_type": "code",
   "execution_count": 21,
   "metadata": {},
   "outputs": [],
   "source": [
    "import matplotlib.pyplot as plt\n",
    "import seaborn as sns\n"
   ]
  },
  {
   "cell_type": "code",
   "execution_count": 24,
   "metadata": {},
   "outputs": [
    {
     "data": {
      "text/plain": [
       "<Axes: ylabel='Count'>"
      ]
     },
     "execution_count": 24,
     "metadata": {},
     "output_type": "execute_result"
    },
    {
     "data": {
      "image/png": "[encoded data removed]",
      "text/plain": [
       "<Figure size 640x480 with 1 Axes>"
      ]
     },
     "metadata": {},
     "output_type": "display_data"
    }
   ],
   "source": [
    "m = d_normalized.mean(axis=1)\n",
    "\n",
    "sns.histplot(m)"
   ]
  },
  {
   "cell_type": "code",
   "execution_count": 33,
   "metadata": {},
   "outputs": [
    {
     "data": {
      "text/plain": [
       "array([[0.368, 0.368, 0.368, ..., 0.368, 0.368, 0.368],\n",
       "       [0.368, 0.368, 0.368, ..., 0.368, 0.368, 0.368],\n",
       "       [0.368, 0.368, 0.368, ..., 0.368, 0.368, 0.368],\n",
       "       ...,\n",
       "       [0.368, 0.368, 0.368, ..., 0.368, 0.368, 0.368],\n",
       "       [0.368, 0.368, 0.368, ..., 0.368, 0.368, 0.368],\n",
       "       [0.368, 0.368, 0.368, ..., 0.368, 0.368, 0.368]],\n",
       "      shape=(100000, 100000), dtype=float16)"
      ]
     },
     "execution_count": 33,
     "metadata": {},
     "output_type": "execute_result"
    }
   ],
   "source": [
    "d_sm"
   ]
  },
  {
   "cell_type": "code",
   "execution_count": 29,
   "metadata": {},
   "outputs": [
    {
     "data": {
      "text/plain": [
       "np.float16(0.3677)"
      ]
     },
     "execution_count": 29,
     "metadata": {},
     "output_type": "execute_result"
    }
   ],
   "source": [
    "m_sm.min()"
   ]
  },
  {
   "cell_type": "code",
   "execution_count": 23,
   "metadata": {},
   "outputs": [
    {
     "ename": "NameError",
     "evalue": "name 'trhzdfcx' is not defined",
     "output_type": "error",
     "traceback": [
      "\u001b[0;31m---------------------------------------------------------------------------\u001b[0m",
      "\u001b[0;31mNameError\u001b[0m                                 Traceback (most recent call last)",
      "Cell \u001b[0;32mIn[23], line 1\u001b[0m\n\u001b[0;32m----> 1\u001b[0m \u001b[43mtrhzdfcx\u001b[49m\n",
      "\u001b[0;31mNameError\u001b[0m: name 'trhzdfcx' is not defined"
     ]
    }
   ],
   "source": [
    "trhzdfcx"
   ]
  },
  {
   "cell_type": "code",
   "execution_count": null,
   "metadata": {},
   "outputs": [],
   "source": []
  },
  {
   "cell_type": "code",
   "execution_count": null,
   "metadata": {},
   "outputs": [],
   "source": [
    "z_scores = (data[\"checkpoint-6174\"] - data[\"checkpoint-6174\"].mean())/data[\"checkpoint-6174\"].std()"
   ]
  },
  {
   "cell_type": "code",
   "execution_count": null,
   "metadata": {},
   "outputs": [],
   "source": [
    "z_scores"
   ]
  },
  {
   "cell_type": "code",
   "execution_count": 15,
   "metadata": {},
   "outputs": [],
   "source": [
    "# a = simple.float().numpy()\n",
    "# b = data[\"checkpoint-6174\"].to_numpy()#[:2000,:]\n",
    "# (np.abs(a-b)).mean()\n",
    "# np.allclose(a,b, rtol=10e-3)"
   ]
  },
  {
   "cell_type": "code",
   "execution_count": 16,
   "metadata": {},
   "outputs": [],
   "source": [
    "# df = pd.DataFrame(torch.load(os.path.join(influence_output_dir,os.listdir(influence_output_dir)[0]),weights_only=True,map_location=\"cpu\"))"
   ]
  },
  {
   "cell_type": "code",
   "execution_count": 17,
   "metadata": {},
   "outputs": [],
   "source": [
    "# df.to_parquet(\"a\")"
   ]
  },
  {
   "cell_type": "code",
   "execution_count": null,
   "metadata": {},
   "outputs": [],
   "source": []
  },
  {
   "cell_type": "code",
   "execution_count": 18,
   "metadata": {},
   "outputs": [],
   "source": [
    "# ddf.head()"
   ]
  },
  {
   "cell_type": "code",
   "execution_count": 19,
   "metadata": {},
   "outputs": [],
   "source": [
    "# dff"
   ]
  },
  {
   "cell_type": "code",
   "execution_count": 20,
   "metadata": {},
   "outputs": [],
   "source": [
    "# ddf.compute()"
   ]
  },
  {
   "cell_type": "code",
   "execution_count": 21,
   "metadata": {},
   "outputs": [],
   "source": [
    "# ddf"
   ]
  },
  {
   "cell_type": "code",
   "execution_count": 22,
   "metadata": {},
   "outputs": [],
   "source": [
    "# ddf.head()"
   ]
  },
  {
   "cell_type": "code",
   "execution_count": null,
   "metadata": {},
   "outputs": [],
   "source": [
    "gtsr4qartgsf"
   ]
  },
  {
   "cell_type": "code",
   "execution_count": null,
   "metadata": {},
   "outputs": [],
   "source": []
  },
  {
   "cell_type": "code",
   "execution_count": null,
   "metadata": {},
   "outputs": [],
   "source": [
    "import pandas as pd\n",
    "import swifter\n",
    "\n",
    "import numpy as np\n",
    "\n",
    "\n",
    "df = pd.DataFrame(np.random.randn(100, 3))\n",
    "\n",
    "df[(np.abs(stats.zscore(df)) < 3).all(axis=1)]"
   ]
  },
  {
   "cell_type": "code",
   "execution_count": null,
   "metadata": {},
   "outputs": [],
   "source": [
    "äkrhipz98ur09iekovfmlkgnht9rifko"
   ]
  },
  {
   "cell_type": "code",
   "execution_count": 36,
   "metadata": {},
   "outputs": [],
   "source": [
    "import numpy as np"
   ]
  },
  {
   "cell_type": "code",
   "execution_count": null,
   "metadata": {},
   "outputs": [],
   "source": [
    "pd.DataFrame(data)"
   ]
  },
  {
   "cell_type": "code",
   "execution_count": null,
   "metadata": {},
   "outputs": [],
   "source": [
    "df = pd.DataFrame({(result_checkpoint): torch.load(os.path.join(influence_output_dir,result_checkpoint),weights_only=True,map_location=\"cpu\").float().numpy() for result_checkpoint in os.listdir(influence_output_dir)})\n",
    "df.sort_index(axis=1)\n",
    "print(len(df))"
   ]
  },
  {
   "cell_type": "code",
   "execution_count": null,
   "metadata": {},
   "outputs": [],
   "source": [
    "torch.load(os.path.join(influence_output_dir,result_checkpoint),weights_only=True,map_location=\"cpu\").float().numpy()"
   ]
  },
  {
   "cell_type": "code",
   "execution_count": null,
   "metadata": {},
   "outputs": [],
   "source": [
    "df"
   ]
  },
  {
   "cell_type": "code",
   "execution_count": null,
   "metadata": {},
   "outputs": [],
   "source": [
    "df = pd.DataFrame({(result_checkpoint): torch.load(os.path.join(influence_output_dir,result_checkpoint),weights_only=True,map_location=\"cpu\").numpy().flatten() for result_checkpoint in os.listdir(influence_output_dir)})\n",
    "df.sort_index(axis=1)\n",
    "print(len(df))\n",
    "\n",
    "df = df.reindex(sorted(df.columns, reverse=False), axis=1)\n",
    "influence_cols = df.columns\n",
    "df[\"total\"] = df.sum(axis=1)\n",
    "df[\"text\"] = dataset_train.to_pandas()[\"input_ids\"].apply(lambda x: tokenizer.decode(x, skip_special_tokens=True))\n",
    "# df[\"document_lenght\"] = df[\"text\"].str.split().str.len()"
   ]
  },
  {
   "cell_type": "code",
   "execution_count": null,
   "metadata": {},
   "outputs": [],
   "source": [
    "pd.set_option('display.max_colwidth', 1000)\n",
    "df.sort_values(by=\"total\", ascending=False)"
   ]
  },
  {
   "cell_type": "code",
   "execution_count": null,
   "metadata": {},
   "outputs": [],
   "source": [
    "len(dataset_train)"
   ]
  },
  {
   "cell_type": "code",
   "execution_count": null,
   "metadata": {},
   "outputs": [],
   "source": [
    "dataset[0][\"input_ids\"]"
   ]
  },
  {
   "cell_type": "code",
   "execution_count": null,
   "metadata": {},
   "outputs": [],
   "source": [
    "dataset[0]"
   ]
  },
  {
   "cell_type": "code",
   "execution_count": 16,
   "metadata": {},
   "outputs": [],
   "source": [
    "from pathlib import Path\n",
    "import numpy as np\n",
    "\n",
    "\n",
    "\n"
   ]
  },
  {
   "cell_type": "code",
   "execution_count": null,
   "metadata": {},
   "outputs": [],
   "source": [
    "checkpoint_names"
   ]
  },
  {
   "cell_type": "code",
   "execution_count": 6,
   "metadata": {},
   "outputs": [],
   "source": [
    "from transformers import AutoModelForCausalLM, AutoTokenizer\n",
    "import torch\n",
    "\n",
    "\n"
   ]
  },
  {
   "cell_type": "code",
   "execution_count": null,
   "metadata": {},
   "outputs": [],
   "source": [
    "\n",
    "message = [\"Language modeling is \"]\n",
    "\n",
    "oldmos = []\n",
    "for i in [1,100,500,900]:\n",
    "    \n",
    "    olmo = AutoModelForCausalLM.from_pretrained(\"allenai/OLMo-2-1124-7B\", revision=checkpoint_names[i])\n",
    "    inputs = tokenizer(message, return_tensors='pt', return_token_type_ids=False)\n",
    "    # optional verifying cuda\n",
    "    inputs = {k: v.to('cuda') for k,v in inputs.items()}\n",
    "    olmo = olmo.to('cuda')\n",
    "    oldmos.append(olmo)\n",
    "    response = olmo.generate(**inputs, max_new_tokens=100, do_sample=True, top_k=50, top_p=0.95)\n",
    "    print(tokenizer.batch_decode(response, skip_special_tokens=True)[0])"
   ]
  },
  {
   "cell_type": "code",
   "execution_count": null,
   "metadata": {},
   "outputs": [],
   "source": [
    "\n",
    "checkpoints_stage_2"
   ]
  },
  {
   "cell_type": "code",
   "execution_count": null,
   "metadata": {},
   "outputs": [],
   "source": [
    "checkpoints_stage1"
   ]
  },
  {
   "cell_type": "code",
   "execution_count": null,
   "metadata": {},
   "outputs": [],
   "source": []
  }
 ],
 "metadata": {
  "kernelspec": {
   "display_name": ".conda",
   "language": "python",
   "name": "python3"
  },
  "language_info": {
   "codemirror_mode": {
    "name": "ipython",
    "version": 3
   },
   "file_extension": ".py",
   "mimetype": "text/x-python",
   "name": "python",
   "nbconvert_exporter": "python",
   "pygments_lexer": "ipython3",
   "version": "3.12.8"
  }
 },
 "nbformat": 4,
 "nbformat_minor": 2
}
