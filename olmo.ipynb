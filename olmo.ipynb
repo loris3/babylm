{
 "cells": [
  {
   "cell_type": "markdown",
   "metadata": {},
   "source": [
    "# Mean Pairwise TracIn(Ideal/CP) of Training Examples on Test-Set"
   ]
  },
  {
   "cell_type": "code",
   "execution_count": 9,
   "metadata": {},
   "outputs": [
    {
     "data": {
      "text/plain": [
       "['[0%:100%]']"
      ]
     },
     "execution_count": 9,
     "metadata": {},
     "output_type": "execute_result"
    }
   ],
   "source": [
    "superbatches = 1\n",
    "\n",
    "[f\"[{i}%:{i + 100 // superbatches}%]\" for i in range(0, 100, 100 // superbatches)]"
   ]
  },
  {
   "cell_type": "code",
   "execution_count": 27,
   "metadata": {},
   "outputs": [
    {
     "data": {
      "text/plain": [
       "0"
      ]
     },
     "execution_count": 27,
     "metadata": {},
     "output_type": "execute_result"
    }
   ],
   "source": []
  },
  {
   "cell_type": "markdown",
   "metadata": {},
   "source": [
    "I.e., mean influence a given document from the training data had on all examples in a test set.\n",
    "\n",
    "Requirements:\n",
    " - Training dataset: A sample from the (pretraining/finetuning) data \n",
    " - Test dataset: A set of examples for wich training data influence is to be estimated (as a group!)\n",
    "\n",
    "Use Case:\n",
    " - You have multiple sets ([noisy, not noisy, ood, etc] or (verbalized, percentage, no ce) or (math, news, books, child directed)]\n",
    " - You want to know the most useful documents from the training data when predicting examples from those sets\n",
    "\n",
    "Why not per-train-test-instance?\n",
    "- Theoretically possible but not implemented (would not have made sense for BabyLM)\n",
    "- Way more expensive to compute across checkpoints"
   ]
  },
  {
   "cell_type": "code",
   "execution_count": 1,
   "metadata": {},
   "outputs": [],
   "source": [
    "from dotenv import load_dotenv\n",
    "load_dotenv()\n",
    "\n",
    "import os\n",
    "os.environ[\"CUDA_VISIBLE_DEVICES\"] = \"\"\n",
    "from datasets import load_dataset\n",
    "import plotting\n",
    "from util import tokenize_tulu_dataset, get_checkpoints_olmo\n",
    "import pandas as pd\n",
    "import swifter\n",
    "\n",
    "import torch\n",
    "from transformers import AutoTokenizer"
   ]
  },
  {
   "cell_type": "code",
   "execution_count": 2,
   "metadata": {},
   "outputs": [],
   "source": [
    "\n",
    "model_name = \"allenai/OLMo-2-1124-7B\"\n",
    "dataset_train_name =\"yahma/alpaca-cleaned\"\n",
    "dataset_train_split_name = \"train\"\n",
    "dataset_test_name = \"yahma/alpaca-cleaned\"\n",
    "dataset_test_split_name = \"train\"\n"
   ]
  },
  {
   "cell_type": "code",
   "execution_count": 3,
   "metadata": {},
   "outputs": [
    {
     "name": "stdout",
     "output_type": "stream",
     "text": [
      "influence_output_dir ./mean_influence/OLMo-2-1124-7B/alpaca-cleaned_train_alpaca-cleaned_train\n"
     ]
    }
   ],
   "source": [
    "df,_ = plotting.load_data_for_plotting(dataset_train_name, dataset_train_split_name,model_name)"
   ]
  },
  {
   "cell_type": "code",
   "execution_count": 5,
   "metadata": {},
   "outputs": [],
   "source": [
    "pd.set_option('display.max_colwidth', None)"
   ]
  },
  {
   "cell_type": "code",
   "execution_count": 13,
   "metadata": {},
   "outputs": [],
   "source": [
    "df.to_excel(os.path.basename(model_name) + \"_\" +os.path.basename(dataset_train_name) + \".xlsx\")"
   ]
  },
  {
   "cell_type": "code",
   "execution_count": 6,
   "metadata": {},
   "outputs": [
    {
     "data": {
      "text/html": [
       "<div>\n",
       "<style scoped>\n",
       "    .dataframe tbody tr th:only-of-type {\n",
       "        vertical-align: middle;\n",
       "    }\n",
       "\n",
       "    .dataframe tbody tr th {\n",
       "        vertical-align: top;\n",
       "    }\n",
       "\n",
       "    .dataframe thead th {\n",
       "        text-align: right;\n",
       "    }\n",
       "</style>\n",
       "<table border=\"1\" class=\"dataframe\">\n",
       "  <thead>\n",
       "    <tr style=\"text-align: right;\">\n",
       "      <th></th>\n",
       "      <th>stage1-step150-tokens1B</th>\n",
       "      <th>total</th>\n",
       "      <th>output</th>\n",
       "      <th>input</th>\n",
       "      <th>instruction</th>\n",
       "    </tr>\n",
       "  </thead>\n",
       "  <tbody>\n",
       "    <tr>\n",
       "      <th>16381</th>\n",
       "      <td>0.299903</td>\n",
       "      <td>0.299903</td>\n",
       "      <td>Here is an implementation of a red-black tree in C++:\\n\\n```\\n#include &lt;iostream&gt;\\n\\nusing namespace std;\\n\\nenum Color {RED, BLACK};\\n\\nstruct Node {\\n    int val;\\n    Color color;\\n    Node *left, *right, *parent;\\n    \\n    Node() {}\\n    \\n    Node(int v, Color c) {\\n        val = v;\\n        color = c;\\n        left = right = parent = NULL;\\n    }\\n};\\n\\nclass RedBlackTree {\\n    private:\\n        Node *root;\\n        \\n    public:\\n        RedBlackTree() { root = NULL; }\\n        \\n        /* Helper functions */\\n        Node* grandparent(Node *n) {\\n            if (n &amp;&amp; n-&gt;parent) { return n-&gt;parent-&gt;parent; }\\n            else { return NULL; }\\n        }\\n        \\n        Node* uncle(Node *n) {\\n            Node *g = grandparent(n);\\n            if (!g) { return NULL; }\\n            if (n-&gt;parent == g-&gt;left) { return g-&gt;right; }\\n            else { return g-&gt;left; }\\n        }\\n        \\n        Node* sibling(Node *n) {\\n            if (!n || !n-&gt;parent) { return NULL; }\\n            if (n == n-&gt;parent-&gt;left) { return n-&gt;parent-&gt;right; }\\n            else { return n-&gt;parent-&gt;left; }\\n        }\\n        \\n        void fix_tree(Node *n) {\\n            while (n != root &amp;&amp; n-&gt;color == RED &amp;&amp; n-&gt;parent-&gt;color == RED) {\\n                Node *p = n-&gt;parent;\\n                Node *g = grandparent(n);\\n                Node *u = uncle(n);\\n                \\n                if (u &amp;&amp; u-&gt;color == RED) {\\n                    p-&gt;color = BLACK;\\n                    u-&gt;color = BLACK;\\n                    g-&gt;color = RED;\\n                    n = g;\\n                } else {\\n                    if (p == g-&gt;left) {\\n                        if (n == p-&gt;right) {\\n                            n = p;\\n                            left_rotate(n);\\n                        }\\n                        p-&gt;color = BLACK;\\n                        g-&gt;color = RED;\\n                        right_rotate(g);\\n                    } else {\\n                        if (n == p-&gt;left) {\\n                            n = p;\\n                            right_rotate(n);\\n                        }\\n                        p-&gt;color = BLACK;\\n                        g-&gt;color = RED;\\n                        left_rotate(g);\\n                    }\\n                }\\n            }\\n            root-&gt;color = BLACK;\\n        }\\n        \\n        void left_rotate(Node *n) {\\n            Node *r = n-&gt;right;\\n            n-&gt;right = r-&gt;left;\\n            if (r-&gt;left) { r-&gt;left-&gt;parent = n; }\\n            r-&gt;parent = n-&gt;parent;\\n            if (!n-&gt;parent) { root = r; }\\n            else if (n == n-&gt;parent-&gt;left) { n-&gt;parent-&gt;left = r; }\\n            else { n-&gt;parent-&gt;right = r; }\\n            r-&gt;left = n;\\n            n-&gt;parent = r;\\n        }\\n        \\n        void right_rotate(Node *n) {\\n            Node *l = n-&gt;left;\\n            n-&gt;left = l-&gt;right;\\n            if (l-&gt;right) { l-&gt;right-&gt;parent = n; }\\n            l-&gt;parent = n-&gt;parent;\\n            if (!n-&gt;parent) { root = l; }\\n            else if (n == n-&gt;parent-&gt;left) { n-&gt;parent-&gt;left = l; }\\n            else { n-&gt;parent-&gt;right = l; }\\n            l-&gt;right = n;\\n            n-&gt;parent = l;\\n        }\\n        \\n        void insert_node(int val) {\\n            Node *n = new Node(val, RED);\\n            if (!root) { root = n; }\\n            else {\\n                Node *current = root;\\n                Node *parent = NULL;\\n                \\n                while (current) {\\n                    parent = current;\\n                    if (val &lt; current-&gt;val) { current = current-&gt;left; }\\n                    else { current = current-&gt;right; }\\n                }\\n                n-&gt;parent = parent;\\n                if (val &lt; parent-&gt;val) { parent-&gt;left = n; }\\n                else { parent-&gt;right = n; }\\n                fix_tree(n);\\n            }\\n        }\\n        \\n        Node* search_node(int val) {\\n            Node *current = root;\\n            while (current &amp;&amp; current-&gt;val != val) {\\n                if (val &lt; current-&gt;val) { current = current-&gt;left; }\\n                else { current = current-&gt;right; }\\n            }\\n            return current;\\n        }\\n        \\n        void inorder(Node *n) {\\n            if (!n) { return; }\\n            inorder(n-&gt;left);\\n            cout &lt;&lt; n-&gt;val &lt;&lt; \" \";\\n            inorder(n-&gt;right);\\n        }\\n        \\n        void print_tree() {\\n            inorder(root);\\n            cout &lt;&lt; endl;\\n        }\\n};\\n```\\n\\nThis implementation includes the insertion of nodes, searching for nodes, and printing the tree using an inorder traversal. The fix_tree function is responsible for maintaining the red-black balance after each insert.</td>\n",
       "      <td></td>\n",
       "      <td>Implement red-black tree in C++.</td>\n",
       "    </tr>\n",
       "    <tr>\n",
       "      <th>23019</th>\n",
       "      <td>0.364567</td>\n",
       "      <td>0.364567</td>\n",
       "      <td>Sure, here's an implementation of a suffix tree in C++.\\n\\n```\\n#include &lt;iostream&gt;\\n#include &lt;vector&gt;\\n#include &lt;unordered_map&gt;\\n\\nusing namespace std;\\n\\nclass SuffixTree {\\nprivate:\\n    struct Node {\\n        int start;\\n        int end;\\n        Node* suffixLink;\\n        unordered_map&lt;char, Node*&gt; children;\\n\\n        Node(int start, int end) {\\n            this-&gt;start = start;\\n            this-&gt;end = end;\\n            suffixLink = nullptr;\\n        }\\n\\n        int getLength() {\\n            return min(end, (int)text.size()) - start;\\n        }\\n\\n        string getText() {\\n            return text.substr(start, getLength());\\n        }\\n\\n        void addChild(Node* node) {\\n            char c = text[node-&gt;start];\\n            children[c] = node;\\n        }\\n    };\\n\\n    Node* root;\\n    Node* activeNode;\\n    int activeEdge;\\n    int activeLength;\\n    int remaining;\\n\\n    string text;\\n\\npublic:\\n    SuffixTree(string text) {\\n        this-&gt;text = text;\\n        root = new Node(-1, -1);\\n        activeNode = root;\\n        activeEdge = -1;\\n        activeLength = 0;\\n        remaining = 0;\\n        build();\\n    }\\n\\n    void print() {\\n        printHelper(root, 0);\\n    }\\n\\nprivate:\\n    Node* split(Node* node) {\\n        if (activeLength == 0) {\\n            return node;\\n        }\\n\\n        char startChar = text[node-&gt;start + activeEdge];\\n        Node* child = node-&gt;children[startChar];\\n        int splitEnd = node-&gt;start + activeEdge + activeLength - 1;\\n\\n        if (child-&gt;getLength() == activeLength) {\\n            return child;\\n        }\\n\\n        Node* splitNode = new Node(child-&gt;start, child-&gt;start + activeLength);\\n        node-&gt;addChild(splitNode);\\n        child-&gt;start += activeLength;\\n        splitNode-&gt;addChild(child);\\n        return splitNode;\\n    }\\n\\n    void extend(int index) {\\n        remaining++;\\n        Node* lastNode = nullptr;\\n\\n        while (remaining &gt; 0) {\\n            if (activeLength == 0) {\\n                activeEdge = index;\\n            }\\n\\n            char nextChar = text[index];\\n            if (activeNode-&gt;children[nextChar] == nullptr) {\\n                Node* newNode = new Node(index, text.size());\\n                activeNode-&gt;addChild(newNode);\\n                if (lastNode != nullptr) {\\n                    lastNode-&gt;suffixLink = activeNode;\\n                }\\n                lastNode = activeNode;\\n            } else {\\n                Node* nextNode = activeNode-&gt;children[nextChar];\\n                if (walkDown(nextNode)) {\\n                    continue;\\n                }\\n\\n                char nextChar2 = text[nextNode-&gt;start + activeLength];\\n                if (nextChar == nextChar2) {\\n                    activeLength++;\\n                    if (lastNode != nullptr) {\\n                        lastNode-&gt;suffixLink = activeNode;\\n                    }\\n                    break;\\n                }\\n\\n                Node* splitNode = split(nextNode);\\n                Node* newNode = new Node(index, text.size());\\n                activeNode-&gt;addChild(splitNode);\\n                newNode-&gt;addChild(splitNode);\\n                activeNode-&gt;addChild(newNode);\\n                if (lastNode != nullptr) {\\n                    lastNode-&gt;suffixLink = newNode;\\n                }\\n                lastNode = newNode;\\n            }\\n\\n            remaining--;\\n            if (activeNode == root &amp;&amp; activeLength &gt; 0) {\\n                activeLength--;\\n                activeEdge = index - remaining + 1;\\n            } else {\\n                activeNode = activeNode-&gt;suffixLink != nullptr ? activeNode-&gt;suffixLink : root;\\n            }\\n        }\\n    }\\n\\n    bool walkDown(Node* node) {\\n        int length = node-&gt;getLength();\\n        if (activeLength &gt;= length) {\\n            activeEdge += length;\\n            activeLength -= length;\\n            activeNode = node;\\n            return true;\\n        }\\n        return false;\\n    }\\n\\n    void build() {\\n        for (int i = 0; i &lt; text.size(); i++) {\\n            extend(i);\\n        }\\n    }\\n\\n    void printHelper(Node* node, int level) {\\n        cout &lt;&lt; string(level * 2, ' ') &lt;&lt; node-&gt;getText() &lt;&lt; endl;\\n        for (auto child : node-&gt;children) {\\n            printHelper(child.second, level + 1);\\n        }\\n    }\\n};\\n\\nint main() {\\n    string text = \"abcabxabcd\";\\n    SuffixTree st(text);\\n    st.print();\\n    return 0;\\n}\\n```</td>\n",
       "      <td></td>\n",
       "      <td>Implement suffix tree in C++. The input strings only contain characters from the lowercase English alphabet ('a' to 'z').</td>\n",
       "    </tr>\n",
       "    <tr>\n",
       "      <th>1398</th>\n",
       "      <td>0.365340</td>\n",
       "      <td>0.365340</td>\n",
       "      <td>Here's a refactored version of the code that makes it more readable:\\n\\n```\\ndef run(self):\\n    with gr.Blocks() as demo:\\n        with gr.Column():\\n            instruction_text = gr.Textbox(\\n                lines=2,\\n                label=\"Instruction\",\\n                value=self.instruction,\\n                interactive=True\\n            )\\n\\n            input_text = gr.Textbox(\\n                lines=1,\\n                label=\"Input\",\\n                value=self.input,\\n                interactive=True\\n            )\\n\\n            old_output_text = gr.Textbox(\\n                lines=2,\\n                label=\"Old Output\",\\n                value=self.old_output,\\n                interactive=False\\n            )\\n\\n            modified_output_text = gr.Textbox(\\n                lines=10,\\n                label=\"Modified Output\",\\n                value=self.modified_output,\\n                interactive=True\\n            )\\n\\n        with gr.Row():\\n            button_next = gr.Button(\\n                value=\"Next\"\\n            )\\n\\n            button_next.click(\\n                self.next_callback,\\n                inputs=[instruction_text, input_text, old_output_text, modified_output_text],\\n                outputs=[instruction_text, input_text, old_output_text, modified_output_text]\\n            )\\n\\n            button_save = gr.Button(\\n                value=\"Save\"\\n            )\\n\\n            button_save.click(\\n                self.save_callback,\\n                inputs=[instruction_text, input_text, old_output_text, modified_output_text]\\n            )\\n\\n            button_reset = gr.Button(\\n                value=\"Reset To Beginning\"\\n            )\\n\\n            button_reset.click(\\n                self.reset_callback,\\n                inputs=[instruction_text, input_text, old_output_text, modified_output_text],\\n                outputs=[instruction_text, input_text, old_output_text, modified_output_text]\\n            )\\n\\n        with gr.Row():\\n            skip_ahead = gr.Number(\\n                label=\"Items to skip\",\\n                value=0,\\n                interactive=True\\n            )\\n\\n            button_skip = gr.Button(\\n                value=\"Skip Ahead\"\\n            )\\n\\n            button_skip.click(\\n                self.skip_ahead,\\n                inputs=[skip_ahead, instruction_text, input_text, old_output_text, modified_output_text],\\n                outputs=[instruction_text, input_text, old_output_text, modified_output_text]\\n            )\\n\\n        with gr.Row():\\n            gpt_api_key = gr.Textbox(\\n                label=\"API key\",\\n                placeholder=\"Enter your OpenAI API Key (optional)\"\\n            )\\n\\n            button_ask_gpt = gr.Button(\\n                value=\"Ask GPT\"\\n            )\\n\\n            button_ask_gpt.click(\\n                self.ask_gpt,\\n                inputs=[instruction_text, input_text, old_output_text, modified_output_text, gpt_api_key],\\n                outputs=[instruction_text, input_text, old_output_text, modified_output_text]\\n            )\\n\\n        demo.launch()\\n```</td>\n",
       "      <td>def run(self):\\n\\t\\twith gr.Blocks() as demo:\\n\\t\\t\\twith gr.Column():\\n\\t\\t\\t\\tinstruction_text = gr.Textbox(lines=2, label=\"Instruction\", value=self.instruction, interactive=True)\\n\\t\\t\\t\\tinput_text = gr.Textbox(lines=1, label=\"Input\", value=self.input, interactive=True)\\n\\t\\t\\t\\told_output_text = gr.Textbox(lines=2, label=\"Old Output\", value=self.old_output, interactive=False)\\n\\t\\t\\t\\tmodified_output_text = gr.Textbox(lines=10, label=\"Modified Output\", value=self.modified_output, interactive=True)\\n\\t\\t\\t\\n\\t\\t\\twith gr.Row():\\n\\t\\t\\t\\tbutton_next = gr.Button(value=\"Next\")\\n\\t\\t\\t\\tbutton_next.click(self.next_callback, \\n\\t\\t\\t\\t\\tinputs=[instruction_text, input_text, old_output_text, modified_output_text], \\n\\t\\t\\t\\t\\toutputs=[instruction_text, input_text, old_output_text, modified_output_text])\\n\\t\\t\\t\\tbutton_save = gr.Button(value=\"Save\")\\n\\t\\t\\t\\tbutton_save.click(self.save_callback,\\n\\t\\t\\t\\t\\tinputs=[instruction_text, input_text, old_output_text, modified_output_text])\\n\\t\\t\\t\\tbutton_reset = gr.Button(value=\"Reset To Begining\")\\n\\t\\t\\t\\tbutton_reset.click(self.reset_callback,\\n\\t\\t\\t\\t\\tinputs=[instruction_text, input_text, old_output_text, modified_output_text], \\n\\t\\t\\t\\t\\toutputs=[instruction_text, input_text, old_output_text, modified_output_text])\\n\\n\\t\\t\\twith gr.Row():\\n\\t\\t\\t\\tskip_ahead = gr.Number(label=\"Items to skip\", value=0, interactive=True)\\n\\t\\t\\t\\tbutton_skip = gr.Button(value=\"Skip Ahead\")\\n\\t\\t\\t\\tbutton_skip.click(self.skip_ahead,\\n\\t\\t\\t\\t\\tinputs=[skip_ahead, instruction_text, input_text, old_output_text, modified_output_text], \\n\\t\\t\\t\\t\\toutputs=[instruction_text, input_text, old_output_text, modified_output_text])\\n\\n\\t\\t\\twith gr.Row():\\n\\t\\t\\t\\tgpt_api_key = gr.Textbox(label=\"API key\", placeholder=\"Enter your OpenAI API Key (optional)\")\\n\\t\\t\\t\\tbutton_ask_gpt = gr.Button(value=\"Ask GPT\")\\n\\t\\t\\t\\tbutton_ask_gpt.click(self.ask_gpt,\\n\\t\\t\\t\\t\\tinputs=[instruction_text, input_text, old_output_text, modified_output_text, gpt_api_key], \\n\\t\\t\\t\\t\\toutputs=[instruction_text, input_text, old_output_text, modified_output_text])\\n\\n\\t\\tdemo.launch()</td>\n",
       "      <td>Refactor this code and make it more readable:</td>\n",
       "    </tr>\n",
       "    <tr>\n",
       "      <th>28350</th>\n",
       "      <td>0.423184</td>\n",
       "      <td>0.423184</td>\n",
       "      <td>You can solve this problem by splitting the input string into individual words, and then mapping each word to its corresponding integer value. You can keep track of the current value as you iterate through the words, applying the appropriate arithmetic operations based on the words encountered (e.g. multiplying by 100 for \"hundred\", adding 10 for \"ten\", etc.). Here's some sample Python code to accomplish this:\\n\\n```\\ndef number_from_text(numbertext):\\n    nums = {\"one\": 1, \"two\": 2, \"three\": 3, \"four\": 4, \"five\": 5,\\n            \"six\": 6, \"seven\": 7, \"eight\": 8, \"nine\": 9, \"ten\": 10,\\n            \"eleven\": 11, \"twelve\": 12, \"thirteen\": 13, \"fourteen\": 14,\\n            \"fifteen\": 15, \"sixteen\": 16, \"seventeen\": 17, \"eighteen\": 18,\\n            \"nineteen\": 19, \"twenty\": 20, \"thirty\": 30, \"forty\": 40,\\n            \"fifty\": 50, \"sixty\": 60, \"seventy\": 70, \"eighty\": 80,\\n            \"ninety\": 90, \"hundred\": 100}\\n\\n    total = 0\\n    last_num = None\\n    for word in numbertext.split():\\n        if word == \"hundred\":\\n            total *= 100\\n        elif word == \"ten\":\\n            if last_num and last_num &lt; 10:\\n                total = (total - last_num) + nums.get(last_num * 10 + nums[word], 0)\\n            else:\\n                total += nums[word]\\n        else:\\n            total += nums.get(word, 0)\\n        last_num = nums.get(word, None)\\n\\n    return total\\n```\\n\\nHere, `nums` is a dictionary mapping each word to its corresponding integer value. We start with `total` equal to 0, and initialize `last_num` to `None` to keep track of the last number encountered.\\n\\nWe then loop through each word in `numbertext.split()`, and apply the appropriate arithmetic operation based on the word. If the word is \"hundred\", we multiply `total` by 100. If the word is \"ten\", we check if the last number encountered was less than 10 (since these cases require special handling), and modify `total` accordingly. If the word is any other number word, we simply add its integer value to `total`.\\n\\nFinally, we return the total.</td>\n",
       "      <td></td>\n",
       "      <td>Given the string numbertext, which is a number in letters, you need to output the corresponding integer. For this, the counting system is revised: numbers 1 through 999 are all expressed in combinations of the basic strings one, two, three, four, five, six, seven, eight, nine and the higher values ten and hundred.\\n\\nFor 1 through 9, everything is normal. However: 10 through 999 are written only with combinations of the above strings, space-separated. Some examples:\\n10, 11, 12, etcetera: one ten, one ten one, one ten two, etcetera.\\n20, 30, ..., 90: two ten, three ten, ..., nine ten.\\n21, 31, ..., 91: two ten one, three ten one, ..., nine ten one.\\n100 is one hundred, 305 is three hundred five, 425 is four hundred two ten five, and 999 is nine hundred nine ten nine.\\n\\nBased on the given numbertext, you need to output the corresponding integer. For example, with input eight hundred two ten five you have to output 825.</td>\n",
       "    </tr>\n",
       "    <tr>\n",
       "      <th>43584</th>\n",
       "      <td>0.424459</td>\n",
       "      <td>0.424459</td>\n",
       "      <td>```json\\n{\\n    \"faq\": [\\n    {\\n        \"question\": \"What is a printing hack people are NOT talking about?\",\\n        \"answer\": \"Applying water to a mistake on a black shirt with water-based textile printing ink can remove the spot and salvage the garment.\"\\n    },\\n    {\\n        \"question\": \"What is a key to longevity in this industry?\",\\n        \"answer\": \"Listening to the customer and creating cost-effective solutions is key to longevity in the printing industry.\"\\n    },\\n    {\\n        \"question\": \"How would you market yourself in today's age?\",\\n        \"answer\": \"Starting with Instagram can be a great launching pad to take your business to the next level, and finding your niche market is important.\"\\n    },\\n    {\\n        \"question\": \"What would you tell yourself when you started printing with the knowledge that you know now?\",\\n        \"answer\": \"Doing your homework to find the best printing method for your business is important.\"\\n    },\\n    {\\n        \"question\": \"How would you maximize your DTG business?\",\\n        \"answer\": \"Good pretreat is the foundation of direct to garment printing and can make or break the entire print process.\"\\n    }]\\n}```</td>\n",
       "      <td>1. What is a printing hack people are NOT talking about?\\nIn regards to printing on black shirts, if you make a mistake by perhaps getting a spot of ink somewhere it is not supposed to be - DO NOT DRY IT! That garment is likely very salvageable in a super quick and easy way if the ink is not cured. Simply apply a little water to a q-tip or maintenance swab or even TAPE! With the water based textile printing ink, you can easily remove that mess up spot and save the garment AND the time/ink involved in reproducing the piece.\\n\\n2. What is a key to longevity in this industry?\\nListen to the customer and what their needs are for THEM to be successful in this business and then create solutions that are COST EFFECTIVE. This went hand in hand, Grant went on to say, with supporting THEIR CUSTOMERS. Everyone has a customer. Having a problem solving mindset and applying to making sense money wise is beneficial for everyone and will keep those customers coming back time and time again.\\n\\n3. How would you market yourself in today's age?\\nKristy gave a great answer here: start with INSTAGRAM. With the power of social media and the internet we are not limited to our geographical location to provide goods and services to our customers - and it’s FREE! Other popular e-commerce platforms come at a cost so especially for those just starting out IG can be a great launching pad to take your business to the next level. She went even further in her elaboration by advising to find your niche, your target market, your audience. I always tell folks the very same and to not try to be everything to everyone. If your niche market is rooted in something you are passionate about, even better.\\n\\n4. What would you tell yourself when you started printing with the knowledge that you know now?\\nIsidro communicated the value in doing your homework in regards to what sort of printing is going to be best for your business. There are so many options from desktop paper transfers, sublimation, laser engraving, screen printing - in 2022, there are no shortages of options to fit every volume and every budget and trade shows are a GREAT place to see what's out there.\\n\\n5. How would you maximize your DTG business?\\nThis list would not be complete without checking in with our dear friend, the inventor of the direct to garment printer, Epson's very own Matt Rhome and his answer did not disappoint or surprise me- PRETREAT. The foundation, the lifeblood of direct to garment printing, this part of the process can make or break your entire print. He summed it up in a simple way: Good pretreat makes a good shirt, bad pretreat makes a bad shirt. PERIOD.</td>\n",
       "      <td>Take the following article, summarize the answers, and return the result in the following JSON format:\\n\\n{\\n    \"faq\":[{\"question\":\"$QUESTION\",\"answer\":\"$ANSWER\"}]\\n}</td>\n",
       "    </tr>\n",
       "    <tr>\n",
       "      <th>...</th>\n",
       "      <td>...</td>\n",
       "      <td>...</td>\n",
       "      <td>...</td>\n",
       "      <td>...</td>\n",
       "      <td>...</td>\n",
       "    </tr>\n",
       "    <tr>\n",
       "      <th>38076</th>\n",
       "      <td>16.576199</td>\n",
       "      <td>16.576199</td>\n",
       "      <td>Lamp</td>\n",
       "      <td></td>\n",
       "      <td>Produce a random noun.</td>\n",
       "    </tr>\n",
       "    <tr>\n",
       "      <th>18330</th>\n",
       "      <td>16.628130</td>\n",
       "      <td>16.628130</td>\n",
       "      <td>SwiftTech369</td>\n",
       "      <td></td>\n",
       "      <td>Generate an effective username</td>\n",
       "    </tr>\n",
       "    <tr>\n",
       "      <th>12837</th>\n",
       "      <td>16.654097</td>\n",
       "      <td>16.654097</td>\n",
       "      <td>Apple.</td>\n",
       "      <td></td>\n",
       "      <td>Name a popular smartphone brand.</td>\n",
       "    </tr>\n",
       "    <tr>\n",
       "      <th>34058</th>\n",
       "      <td>16.865534</td>\n",
       "      <td>16.865534</td>\n",
       "      <td>Sadness</td>\n",
       "      <td></td>\n",
       "      <td>Name a negative emotion</td>\n",
       "    </tr>\n",
       "    <tr>\n",
       "      <th>46217</th>\n",
       "      <td>17.215456</td>\n",
       "      <td>17.215456</td>\n",
       "      <td>Durga</td>\n",
       "      <td></td>\n",
       "      <td>Name a Hindu goddess.</td>\n",
       "    </tr>\n",
       "  </tbody>\n",
       "</table>\n",
       "<p>51760 rows × 5 columns</p>\n",
       "</div>"
      ],
      "text/plain": [
       "       stage1-step150-tokens1B      total  \\\n",
       "16381                 0.299903   0.299903   \n",
       "23019                 0.364567   0.364567   \n",
       "1398                  0.365340   0.365340   \n",
       "28350                 0.423184   0.423184   \n",
       "43584                 0.424459   0.424459   \n",
       "...                        ...        ...   \n",
       "38076                16.576199  16.576199   \n",
       "18330                16.628130  16.628130   \n",
       "12837                16.654097  16.654097   \n",
       "34058                16.865534  16.865534   \n",
       "46217                17.215456  17.215456   \n",
       "\n",
       "                                                                                                                                                                                                                                                                                                                                                                                                                                                                                                                                                                                                                                                                                                                                                                                                                                                                                                                                                                                                                                                                                                                                                                                                                                                                                                                                                                                                                                                                                                                                                                                                                                                                                                                                                                                                                                                                                                                                                                                                                                                                                                                                                                                                                                                                                                                                                                                                                                                                                                                                                                                                                                                                                                                                                                                                                                                                                                                                                                                                                                                                                                                                                                                                                                                                                                                                                                                                                                                                                                                                                                                                                                                                                                                                                                                                                                                                                                                                                                                                                                                                                                                                                                                                                                                                                                                                                                                                                                                                                                                                                                                                                                                                                                                                                                                                                                                                output  \\\n",
       "16381  Here is an implementation of a red-black tree in C++:\\n\\n```\\n#include <iostream>\\n\\nusing namespace std;\\n\\nenum Color {RED, BLACK};\\n\\nstruct Node {\\n    int val;\\n    Color color;\\n    Node *left, *right, *parent;\\n    \\n    Node() {}\\n    \\n    Node(int v, Color c) {\\n        val = v;\\n        color = c;\\n        left = right = parent = NULL;\\n    }\\n};\\n\\nclass RedBlackTree {\\n    private:\\n        Node *root;\\n        \\n    public:\\n        RedBlackTree() { root = NULL; }\\n        \\n        /* Helper functions */\\n        Node* grandparent(Node *n) {\\n            if (n && n->parent) { return n->parent->parent; }\\n            else { return NULL; }\\n        }\\n        \\n        Node* uncle(Node *n) {\\n            Node *g = grandparent(n);\\n            if (!g) { return NULL; }\\n            if (n->parent == g->left) { return g->right; }\\n            else { return g->left; }\\n        }\\n        \\n        Node* sibling(Node *n) {\\n            if (!n || !n->parent) { return NULL; }\\n            if (n == n->parent->left) { return n->parent->right; }\\n            else { return n->parent->left; }\\n        }\\n        \\n        void fix_tree(Node *n) {\\n            while (n != root && n->color == RED && n->parent->color == RED) {\\n                Node *p = n->parent;\\n                Node *g = grandparent(n);\\n                Node *u = uncle(n);\\n                \\n                if (u && u->color == RED) {\\n                    p->color = BLACK;\\n                    u->color = BLACK;\\n                    g->color = RED;\\n                    n = g;\\n                } else {\\n                    if (p == g->left) {\\n                        if (n == p->right) {\\n                            n = p;\\n                            left_rotate(n);\\n                        }\\n                        p->color = BLACK;\\n                        g->color = RED;\\n                        right_rotate(g);\\n                    } else {\\n                        if (n == p->left) {\\n                            n = p;\\n                            right_rotate(n);\\n                        }\\n                        p->color = BLACK;\\n                        g->color = RED;\\n                        left_rotate(g);\\n                    }\\n                }\\n            }\\n            root->color = BLACK;\\n        }\\n        \\n        void left_rotate(Node *n) {\\n            Node *r = n->right;\\n            n->right = r->left;\\n            if (r->left) { r->left->parent = n; }\\n            r->parent = n->parent;\\n            if (!n->parent) { root = r; }\\n            else if (n == n->parent->left) { n->parent->left = r; }\\n            else { n->parent->right = r; }\\n            r->left = n;\\n            n->parent = r;\\n        }\\n        \\n        void right_rotate(Node *n) {\\n            Node *l = n->left;\\n            n->left = l->right;\\n            if (l->right) { l->right->parent = n; }\\n            l->parent = n->parent;\\n            if (!n->parent) { root = l; }\\n            else if (n == n->parent->left) { n->parent->left = l; }\\n            else { n->parent->right = l; }\\n            l->right = n;\\n            n->parent = l;\\n        }\\n        \\n        void insert_node(int val) {\\n            Node *n = new Node(val, RED);\\n            if (!root) { root = n; }\\n            else {\\n                Node *current = root;\\n                Node *parent = NULL;\\n                \\n                while (current) {\\n                    parent = current;\\n                    if (val < current->val) { current = current->left; }\\n                    else { current = current->right; }\\n                }\\n                n->parent = parent;\\n                if (val < parent->val) { parent->left = n; }\\n                else { parent->right = n; }\\n                fix_tree(n);\\n            }\\n        }\\n        \\n        Node* search_node(int val) {\\n            Node *current = root;\\n            while (current && current->val != val) {\\n                if (val < current->val) { current = current->left; }\\n                else { current = current->right; }\\n            }\\n            return current;\\n        }\\n        \\n        void inorder(Node *n) {\\n            if (!n) { return; }\\n            inorder(n->left);\\n            cout << n->val << \" \";\\n            inorder(n->right);\\n        }\\n        \\n        void print_tree() {\\n            inorder(root);\\n            cout << endl;\\n        }\\n};\\n```\\n\\nThis implementation includes the insertion of nodes, searching for nodes, and printing the tree using an inorder traversal. The fix_tree function is responsible for maintaining the red-black balance after each insert.   \n",
       "23019                                                                                                                                                                                                                                                       Sure, here's an implementation of a suffix tree in C++.\\n\\n```\\n#include <iostream>\\n#include <vector>\\n#include <unordered_map>\\n\\nusing namespace std;\\n\\nclass SuffixTree {\\nprivate:\\n    struct Node {\\n        int start;\\n        int end;\\n        Node* suffixLink;\\n        unordered_map<char, Node*> children;\\n\\n        Node(int start, int end) {\\n            this->start = start;\\n            this->end = end;\\n            suffixLink = nullptr;\\n        }\\n\\n        int getLength() {\\n            return min(end, (int)text.size()) - start;\\n        }\\n\\n        string getText() {\\n            return text.substr(start, getLength());\\n        }\\n\\n        void addChild(Node* node) {\\n            char c = text[node->start];\\n            children[c] = node;\\n        }\\n    };\\n\\n    Node* root;\\n    Node* activeNode;\\n    int activeEdge;\\n    int activeLength;\\n    int remaining;\\n\\n    string text;\\n\\npublic:\\n    SuffixTree(string text) {\\n        this->text = text;\\n        root = new Node(-1, -1);\\n        activeNode = root;\\n        activeEdge = -1;\\n        activeLength = 0;\\n        remaining = 0;\\n        build();\\n    }\\n\\n    void print() {\\n        printHelper(root, 0);\\n    }\\n\\nprivate:\\n    Node* split(Node* node) {\\n        if (activeLength == 0) {\\n            return node;\\n        }\\n\\n        char startChar = text[node->start + activeEdge];\\n        Node* child = node->children[startChar];\\n        int splitEnd = node->start + activeEdge + activeLength - 1;\\n\\n        if (child->getLength() == activeLength) {\\n            return child;\\n        }\\n\\n        Node* splitNode = new Node(child->start, child->start + activeLength);\\n        node->addChild(splitNode);\\n        child->start += activeLength;\\n        splitNode->addChild(child);\\n        return splitNode;\\n    }\\n\\n    void extend(int index) {\\n        remaining++;\\n        Node* lastNode = nullptr;\\n\\n        while (remaining > 0) {\\n            if (activeLength == 0) {\\n                activeEdge = index;\\n            }\\n\\n            char nextChar = text[index];\\n            if (activeNode->children[nextChar] == nullptr) {\\n                Node* newNode = new Node(index, text.size());\\n                activeNode->addChild(newNode);\\n                if (lastNode != nullptr) {\\n                    lastNode->suffixLink = activeNode;\\n                }\\n                lastNode = activeNode;\\n            } else {\\n                Node* nextNode = activeNode->children[nextChar];\\n                if (walkDown(nextNode)) {\\n                    continue;\\n                }\\n\\n                char nextChar2 = text[nextNode->start + activeLength];\\n                if (nextChar == nextChar2) {\\n                    activeLength++;\\n                    if (lastNode != nullptr) {\\n                        lastNode->suffixLink = activeNode;\\n                    }\\n                    break;\\n                }\\n\\n                Node* splitNode = split(nextNode);\\n                Node* newNode = new Node(index, text.size());\\n                activeNode->addChild(splitNode);\\n                newNode->addChild(splitNode);\\n                activeNode->addChild(newNode);\\n                if (lastNode != nullptr) {\\n                    lastNode->suffixLink = newNode;\\n                }\\n                lastNode = newNode;\\n            }\\n\\n            remaining--;\\n            if (activeNode == root && activeLength > 0) {\\n                activeLength--;\\n                activeEdge = index - remaining + 1;\\n            } else {\\n                activeNode = activeNode->suffixLink != nullptr ? activeNode->suffixLink : root;\\n            }\\n        }\\n    }\\n\\n    bool walkDown(Node* node) {\\n        int length = node->getLength();\\n        if (activeLength >= length) {\\n            activeEdge += length;\\n            activeLength -= length;\\n            activeNode = node;\\n            return true;\\n        }\\n        return false;\\n    }\\n\\n    void build() {\\n        for (int i = 0; i < text.size(); i++) {\\n            extend(i);\\n        }\\n    }\\n\\n    void printHelper(Node* node, int level) {\\n        cout << string(level * 2, ' ') << node->getText() << endl;\\n        for (auto child : node->children) {\\n            printHelper(child.second, level + 1);\\n        }\\n    }\\n};\\n\\nint main() {\\n    string text = \"abcabxabcd\";\\n    SuffixTree st(text);\\n    st.print();\\n    return 0;\\n}\\n```   \n",
       "1398                                                                                                                                                                                                                                                                                                                                                                                                                                                                                                                                                                                                                                                                                                                                                                                                                                                                                                                                                                                                                                                                                                                                                                                                                                                                                                                                                                                                                                                                                                                                                                                                                           Here's a refactored version of the code that makes it more readable:\\n\\n```\\ndef run(self):\\n    with gr.Blocks() as demo:\\n        with gr.Column():\\n            instruction_text = gr.Textbox(\\n                lines=2,\\n                label=\"Instruction\",\\n                value=self.instruction,\\n                interactive=True\\n            )\\n\\n            input_text = gr.Textbox(\\n                lines=1,\\n                label=\"Input\",\\n                value=self.input,\\n                interactive=True\\n            )\\n\\n            old_output_text = gr.Textbox(\\n                lines=2,\\n                label=\"Old Output\",\\n                value=self.old_output,\\n                interactive=False\\n            )\\n\\n            modified_output_text = gr.Textbox(\\n                lines=10,\\n                label=\"Modified Output\",\\n                value=self.modified_output,\\n                interactive=True\\n            )\\n\\n        with gr.Row():\\n            button_next = gr.Button(\\n                value=\"Next\"\\n            )\\n\\n            button_next.click(\\n                self.next_callback,\\n                inputs=[instruction_text, input_text, old_output_text, modified_output_text],\\n                outputs=[instruction_text, input_text, old_output_text, modified_output_text]\\n            )\\n\\n            button_save = gr.Button(\\n                value=\"Save\"\\n            )\\n\\n            button_save.click(\\n                self.save_callback,\\n                inputs=[instruction_text, input_text, old_output_text, modified_output_text]\\n            )\\n\\n            button_reset = gr.Button(\\n                value=\"Reset To Beginning\"\\n            )\\n\\n            button_reset.click(\\n                self.reset_callback,\\n                inputs=[instruction_text, input_text, old_output_text, modified_output_text],\\n                outputs=[instruction_text, input_text, old_output_text, modified_output_text]\\n            )\\n\\n        with gr.Row():\\n            skip_ahead = gr.Number(\\n                label=\"Items to skip\",\\n                value=0,\\n                interactive=True\\n            )\\n\\n            button_skip = gr.Button(\\n                value=\"Skip Ahead\"\\n            )\\n\\n            button_skip.click(\\n                self.skip_ahead,\\n                inputs=[skip_ahead, instruction_text, input_text, old_output_text, modified_output_text],\\n                outputs=[instruction_text, input_text, old_output_text, modified_output_text]\\n            )\\n\\n        with gr.Row():\\n            gpt_api_key = gr.Textbox(\\n                label=\"API key\",\\n                placeholder=\"Enter your OpenAI API Key (optional)\"\\n            )\\n\\n            button_ask_gpt = gr.Button(\\n                value=\"Ask GPT\"\\n            )\\n\\n            button_ask_gpt.click(\\n                self.ask_gpt,\\n                inputs=[instruction_text, input_text, old_output_text, modified_output_text, gpt_api_key],\\n                outputs=[instruction_text, input_text, old_output_text, modified_output_text]\\n            )\\n\\n        demo.launch()\\n```   \n",
       "28350                                                                                                                                                                                                                                                                                                                                                                                                                                                                                                                                                                                                                                                                                                                                                                                                                                                                                                                                                                                                                                                                                                                                                                                                                                                                                                                                                                                                                                                                                                                                                                                                                                                                                                                                                                                                                                                                                                                                                                                                                                                                                                                                                                                                                                                                                                                                                                                                                                                                                                                                                                                                                                                                                                                                       You can solve this problem by splitting the input string into individual words, and then mapping each word to its corresponding integer value. You can keep track of the current value as you iterate through the words, applying the appropriate arithmetic operations based on the words encountered (e.g. multiplying by 100 for \"hundred\", adding 10 for \"ten\", etc.). Here's some sample Python code to accomplish this:\\n\\n```\\ndef number_from_text(numbertext):\\n    nums = {\"one\": 1, \"two\": 2, \"three\": 3, \"four\": 4, \"five\": 5,\\n            \"six\": 6, \"seven\": 7, \"eight\": 8, \"nine\": 9, \"ten\": 10,\\n            \"eleven\": 11, \"twelve\": 12, \"thirteen\": 13, \"fourteen\": 14,\\n            \"fifteen\": 15, \"sixteen\": 16, \"seventeen\": 17, \"eighteen\": 18,\\n            \"nineteen\": 19, \"twenty\": 20, \"thirty\": 30, \"forty\": 40,\\n            \"fifty\": 50, \"sixty\": 60, \"seventy\": 70, \"eighty\": 80,\\n            \"ninety\": 90, \"hundred\": 100}\\n\\n    total = 0\\n    last_num = None\\n    for word in numbertext.split():\\n        if word == \"hundred\":\\n            total *= 100\\n        elif word == \"ten\":\\n            if last_num and last_num < 10:\\n                total = (total - last_num) + nums.get(last_num * 10 + nums[word], 0)\\n            else:\\n                total += nums[word]\\n        else:\\n            total += nums.get(word, 0)\\n        last_num = nums.get(word, None)\\n\\n    return total\\n```\\n\\nHere, `nums` is a dictionary mapping each word to its corresponding integer value. We start with `total` equal to 0, and initialize `last_num` to `None` to keep track of the last number encountered.\\n\\nWe then loop through each word in `numbertext.split()`, and apply the appropriate arithmetic operation based on the word. If the word is \"hundred\", we multiply `total` by 100. If the word is \"ten\", we check if the last number encountered was less than 10 (since these cases require special handling), and modify `total` accordingly. If the word is any other number word, we simply add its integer value to `total`.\\n\\nFinally, we return the total.   \n",
       "43584                                                                                                                                                                                                                                                                                                                                                                                                                                                                                                                                                                                                                                                                                                                                                                                                                                                                                                                                                                                                                                                                                                                                                                                                                                                                                                                                                                                                                                                                                                                                                                                                                                                                                                                                                                                                                                                                                                                                                                                                                                                                                                                                                                                                                                                                                                                                                                                                                                                                                                                                                                                                                                                                                                                                                                                                                                                                                                                                                                                                                                                                                                                                                                                                                                                                                                                                                                                                                                                                                                                                                                                                                                    ```json\\n{\\n    \"faq\": [\\n    {\\n        \"question\": \"What is a printing hack people are NOT talking about?\",\\n        \"answer\": \"Applying water to a mistake on a black shirt with water-based textile printing ink can remove the spot and salvage the garment.\"\\n    },\\n    {\\n        \"question\": \"What is a key to longevity in this industry?\",\\n        \"answer\": \"Listening to the customer and creating cost-effective solutions is key to longevity in the printing industry.\"\\n    },\\n    {\\n        \"question\": \"How would you market yourself in today's age?\",\\n        \"answer\": \"Starting with Instagram can be a great launching pad to take your business to the next level, and finding your niche market is important.\"\\n    },\\n    {\\n        \"question\": \"What would you tell yourself when you started printing with the knowledge that you know now?\",\\n        \"answer\": \"Doing your homework to find the best printing method for your business is important.\"\\n    },\\n    {\\n        \"question\": \"How would you maximize your DTG business?\",\\n        \"answer\": \"Good pretreat is the foundation of direct to garment printing and can make or break the entire print process.\"\\n    }]\\n}```   \n",
       "...                                                                                                                                                                                                                                                                                                                                                                                                                                                                                                                                                                                                                                                                                                                                                                                                                                                                                                                                                                                                                                                                                                                                                                                                                                                                                                                                                                                                                                                                                                                                                                                                                                                                                                                                                                                                                                                                                                                                                                                                                                                                                                                                                                                                                                                                                                                                                                                                                                                                                                                                                                                                                                                                                                                                                                                                                                                                                                                                                                                                                                                                                                                                                                                                                                                                                                                                                                                                                                                                                                                                                                                                                                                                                                                                                                                                                                                                                                                                                                                                                                                                                                                                                                                                                                                                                                                                                                                                                                                                                                                                                                                                                                                                                                                                                                                                                                                                ...   \n",
       "38076                                                                                                                                                                                                                                                                                                                                                                                                                                                                                                                                                                                                                                                                                                                                                                                                                                                                                                                                                                                                                                                                                                                                                                                                                                                                                                                                                                                                                                                                                                                                                                                                                                                                                                                                                                                                                                                                                                                                                                                                                                                                                                                                                                                                                                                                                                                                                                                                                                                                                                                                                                                                                                                                                                                                                                                                                                                                                                                                                                                                                                                                                                                                                                                                                                                                                                                                                                                                                                                                                                                                                                                                                                                                                                                                                                                                                                                                                                                                                                                                                                                                                                                                                                                                                                                                                                                                                                                                                                                                                                                                                                                                                                                                                                                                                                                                                                                             Lamp   \n",
       "18330                                                                                                                                                                                                                                                                                                                                                                                                                                                                                                                                                                                                                                                                                                                                                                                                                                                                                                                                                                                                                                                                                                                                                                                                                                                                                                                                                                                                                                                                                                                                                                                                                                                                                                                                                                                                                                                                                                                                                                                                                                                                                                                                                                                                                                                                                                                                                                                                                                                                                                                                                                                                                                                                                                                                                                                                                                                                                                                                                                                                                                                                                                                                                                                                                                                                                                                                                                                                                                                                                                                                                                                                                                                                                                                                                                                                                                                                                                                                                                                                                                                                                                                                                                                                                                                                                                                                                                                                                                                                                                                                                                                                                                                                                                                                                                                                                                                     SwiftTech369   \n",
       "12837                                                                                                                                                                                                                                                                                                                                                                                                                                                                                                                                                                                                                                                                                                                                                                                                                                                                                                                                                                                                                                                                                                                                                                                                                                                                                                                                                                                                                                                                                                                                                                                                                                                                                                                                                                                                                                                                                                                                                                                                                                                                                                                                                                                                                                                                                                                                                                                                                                                                                                                                                                                                                                                                                                                                                                                                                                                                                                                                                                                                                                                                                                                                                                                                                                                                                                                                                                                                                                                                                                                                                                                                                                                                                                                                                                                                                                                                                                                                                                                                                                                                                                                                                                                                                                                                                                                                                                                                                                                                                                                                                                                                                                                                                                                                                                                                                                                           Apple.   \n",
       "34058                                                                                                                                                                                                                                                                                                                                                                                                                                                                                                                                                                                                                                                                                                                                                                                                                                                                                                                                                                                                                                                                                                                                                                                                                                                                                                                                                                                                                                                                                                                                                                                                                                                                                                                                                                                                                                                                                                                                                                                                                                                                                                                                                                                                                                                                                                                                                                                                                                                                                                                                                                                                                                                                                                                                                                                                                                                                                                                                                                                                                                                                                                                                                                                                                                                                                                                                                                                                                                                                                                                                                                                                                                                                                                                                                                                                                                                                                                                                                                                                                                                                                                                                                                                                                                                                                                                                                                                                                                                                                                                                                                                                                                                                                                                                                                                                                                                          Sadness   \n",
       "46217                                                                                                                                                                                                                                                                                                                                                                                                                                                                                                                                                                                                                                                                                                                                                                                                                                                                                                                                                                                                                                                                                                                                                                                                                                                                                                                                                                                                                                                                                                                                                                                                                                                                                                                                                                                                                                                                                                                                                                                                                                                                                                                                                                                                                                                                                                                                                                                                                                                                                                                                                                                                                                                                                                                                                                                                                                                                                                                                                                                                                                                                                                                                                                                                                                                                                                                                                                                                                                                                                                                                                                                                                                                                                                                                                                                                                                                                                                                                                                                                                                                                                                                                                                                                                                                                                                                                                                                                                                                                                                                                                                                                                                                                                                                                                                                                                                                            Durga   \n",
       "\n",
       "                                                                                                                                                                                                                                                                                                                                                                                                                                                                                                                                                                                                                                                                                                                                                                                                                                                                                                                                                                                                                                                                                                                                                                                                                                                                                                                                                                                                                                                                                                                                                                                                                                                                                                                                                                                                                                                                                                                                                                                                                                                                                                                                                                                                                                                                                                                                                                                                                                                                                                                                                                                                                                                                                                                                                             input  \\\n",
       "16381                                                                                                                                                                                                                                                                                                                                                                                                                                                                                                                                                                                                                                                                                                                                                                                                                                                                                                                                                                                                                                                                                                                                                                                                                                                                                                                                                                                                                                                                                                                                                                                                                                                                                                                                                                                                                                                                                                                                                                                                                                                                                                                                                                                                                                                                                                                                                                                                                                                                                                                                                                                                                                                                                                                                                                \n",
       "23019                                                                                                                                                                                                                                                                                                                                                                                                                                                                                                                                                                                                                                                                                                                                                                                                                                                                                                                                                                                                                                                                                                                                                                                                                                                                                                                                                                                                                                                                                                                                                                                                                                                                                                                                                                                                                                                                                                                                                                                                                                                                                                                                                                                                                                                                                                                                                                                                                                                                                                                                                                                                                                                                                                                                                                \n",
       "1398                                                                                                                                                                                                                                                                                                                                                                                                                                                                                                                                                        def run(self):\\n\\t\\twith gr.Blocks() as demo:\\n\\t\\t\\twith gr.Column():\\n\\t\\t\\t\\tinstruction_text = gr.Textbox(lines=2, label=\"Instruction\", value=self.instruction, interactive=True)\\n\\t\\t\\t\\tinput_text = gr.Textbox(lines=1, label=\"Input\", value=self.input, interactive=True)\\n\\t\\t\\t\\told_output_text = gr.Textbox(lines=2, label=\"Old Output\", value=self.old_output, interactive=False)\\n\\t\\t\\t\\tmodified_output_text = gr.Textbox(lines=10, label=\"Modified Output\", value=self.modified_output, interactive=True)\\n\\t\\t\\t\\n\\t\\t\\twith gr.Row():\\n\\t\\t\\t\\tbutton_next = gr.Button(value=\"Next\")\\n\\t\\t\\t\\tbutton_next.click(self.next_callback, \\n\\t\\t\\t\\t\\tinputs=[instruction_text, input_text, old_output_text, modified_output_text], \\n\\t\\t\\t\\t\\toutputs=[instruction_text, input_text, old_output_text, modified_output_text])\\n\\t\\t\\t\\tbutton_save = gr.Button(value=\"Save\")\\n\\t\\t\\t\\tbutton_save.click(self.save_callback,\\n\\t\\t\\t\\t\\tinputs=[instruction_text, input_text, old_output_text, modified_output_text])\\n\\t\\t\\t\\tbutton_reset = gr.Button(value=\"Reset To Begining\")\\n\\t\\t\\t\\tbutton_reset.click(self.reset_callback,\\n\\t\\t\\t\\t\\tinputs=[instruction_text, input_text, old_output_text, modified_output_text], \\n\\t\\t\\t\\t\\toutputs=[instruction_text, input_text, old_output_text, modified_output_text])\\n\\n\\t\\t\\twith gr.Row():\\n\\t\\t\\t\\tskip_ahead = gr.Number(label=\"Items to skip\", value=0, interactive=True)\\n\\t\\t\\t\\tbutton_skip = gr.Button(value=\"Skip Ahead\")\\n\\t\\t\\t\\tbutton_skip.click(self.skip_ahead,\\n\\t\\t\\t\\t\\tinputs=[skip_ahead, instruction_text, input_text, old_output_text, modified_output_text], \\n\\t\\t\\t\\t\\toutputs=[instruction_text, input_text, old_output_text, modified_output_text])\\n\\n\\t\\t\\twith gr.Row():\\n\\t\\t\\t\\tgpt_api_key = gr.Textbox(label=\"API key\", placeholder=\"Enter your OpenAI API Key (optional)\")\\n\\t\\t\\t\\tbutton_ask_gpt = gr.Button(value=\"Ask GPT\")\\n\\t\\t\\t\\tbutton_ask_gpt.click(self.ask_gpt,\\n\\t\\t\\t\\t\\tinputs=[instruction_text, input_text, old_output_text, modified_output_text, gpt_api_key], \\n\\t\\t\\t\\t\\toutputs=[instruction_text, input_text, old_output_text, modified_output_text])\\n\\n\\t\\tdemo.launch()   \n",
       "28350                                                                                                                                                                                                                                                                                                                                                                                                                                                                                                                                                                                                                                                                                                                                                                                                                                                                                                                                                                                                                                                                                                                                                                                                                                                                                                                                                                                                                                                                                                                                                                                                                                                                                                                                                                                                                                                                                                                                                                                                                                                                                                                                                                                                                                                                                                                                                                                                                                                                                                                                                                                                                                                                                                                                                                \n",
       "43584  1. What is a printing hack people are NOT talking about?\\nIn regards to printing on black shirts, if you make a mistake by perhaps getting a spot of ink somewhere it is not supposed to be - DO NOT DRY IT! That garment is likely very salvageable in a super quick and easy way if the ink is not cured. Simply apply a little water to a q-tip or maintenance swab or even TAPE! With the water based textile printing ink, you can easily remove that mess up spot and save the garment AND the time/ink involved in reproducing the piece.\\n\\n2. What is a key to longevity in this industry?\\nListen to the customer and what their needs are for THEM to be successful in this business and then create solutions that are COST EFFECTIVE. This went hand in hand, Grant went on to say, with supporting THEIR CUSTOMERS. Everyone has a customer. Having a problem solving mindset and applying to making sense money wise is beneficial for everyone and will keep those customers coming back time and time again.\\n\\n3. How would you market yourself in today's age?\\nKristy gave a great answer here: start with INSTAGRAM. With the power of social media and the internet we are not limited to our geographical location to provide goods and services to our customers - and it’s FREE! Other popular e-commerce platforms come at a cost so especially for those just starting out IG can be a great launching pad to take your business to the next level. She went even further in her elaboration by advising to find your niche, your target market, your audience. I always tell folks the very same and to not try to be everything to everyone. If your niche market is rooted in something you are passionate about, even better.\\n\\n4. What would you tell yourself when you started printing with the knowledge that you know now?\\nIsidro communicated the value in doing your homework in regards to what sort of printing is going to be best for your business. There are so many options from desktop paper transfers, sublimation, laser engraving, screen printing - in 2022, there are no shortages of options to fit every volume and every budget and trade shows are a GREAT place to see what's out there.\\n\\n5. How would you maximize your DTG business?\\nThis list would not be complete without checking in with our dear friend, the inventor of the direct to garment printer, Epson's very own Matt Rhome and his answer did not disappoint or surprise me- PRETREAT. The foundation, the lifeblood of direct to garment printing, this part of the process can make or break your entire print. He summed it up in a simple way: Good pretreat makes a good shirt, bad pretreat makes a bad shirt. PERIOD.   \n",
       "...                                                                                                                                                                                                                                                                                                                                                                                                                                                                                                                                                                                                                                                                                                                                                                                                                                                                                                                                                                                                                                                                                                                                                                                                                                                                                                                                                                                                                                                                                                                                                                                                                                                                                                                                                                                                                                                                                                                                                                                                                                                                                                                                                                                                                                                                                                                                                                                                                                                                                                                                                                                                                                                                                                                                                            ...   \n",
       "38076                                                                                                                                                                                                                                                                                                                                                                                                                                                                                                                                                                                                                                                                                                                                                                                                                                                                                                                                                                                                                                                                                                                                                                                                                                                                                                                                                                                                                                                                                                                                                                                                                                                                                                                                                                                                                                                                                                                                                                                                                                                                                                                                                                                                                                                                                                                                                                                                                                                                                                                                                                                                                                                                                                                                                                \n",
       "18330                                                                                                                                                                                                                                                                                                                                                                                                                                                                                                                                                                                                                                                                                                                                                                                                                                                                                                                                                                                                                                                                                                                                                                                                                                                                                                                                                                                                                                                                                                                                                                                                                                                                                                                                                                                                                                                                                                                                                                                                                                                                                                                                                                                                                                                                                                                                                                                                                                                                                                                                                                                                                                                                                                                                                                \n",
       "12837                                                                                                                                                                                                                                                                                                                                                                                                                                                                                                                                                                                                                                                                                                                                                                                                                                                                                                                                                                                                                                                                                                                                                                                                                                                                                                                                                                                                                                                                                                                                                                                                                                                                                                                                                                                                                                                                                                                                                                                                                                                                                                                                                                                                                                                                                                                                                                                                                                                                                                                                                                                                                                                                                                                                                                \n",
       "34058                                                                                                                                                                                                                                                                                                                                                                                                                                                                                                                                                                                                                                                                                                                                                                                                                                                                                                                                                                                                                                                                                                                                                                                                                                                                                                                                                                                                                                                                                                                                                                                                                                                                                                                                                                                                                                                                                                                                                                                                                                                                                                                                                                                                                                                                                                                                                                                                                                                                                                                                                                                                                                                                                                                                                                \n",
       "46217                                                                                                                                                                                                                                                                                                                                                                                                                                                                                                                                                                                                                                                                                                                                                                                                                                                                                                                                                                                                                                                                                                                                                                                                                                                                                                                                                                                                                                                                                                                                                                                                                                                                                                                                                                                                                                                                                                                                                                                                                                                                                                                                                                                                                                                                                                                                                                                                                                                                                                                                                                                                                                                                                                                                                                \n",
       "\n",
       "                                                                                                                                                                                                                                                                                                                                                                                                                                                                                                                                                                                                                                                                                                                                                                                                                                                                                                                                                                instruction  \n",
       "16381                                                                                                                                                                                                                                                                                                                                                                                                                                                                                                                                                                                                                                                                                                                                                                                                                                                                                                                                      Implement red-black tree in C++.  \n",
       "23019                                                                                                                                                                                                                                                                                                                                                                                                                                                                                                                                                                                                                                                                                                                                                                                                                                             Implement suffix tree in C++. The input strings only contain characters from the lowercase English alphabet ('a' to 'z').  \n",
       "1398                                                                                                                                                                                                                                                                                                                                                                                                                                                                                                                                                                                                                                                                                                                                                                                                                                                                                                                          Refactor this code and make it more readable:  \n",
       "28350  Given the string numbertext, which is a number in letters, you need to output the corresponding integer. For this, the counting system is revised: numbers 1 through 999 are all expressed in combinations of the basic strings one, two, three, four, five, six, seven, eight, nine and the higher values ten and hundred.\\n\\nFor 1 through 9, everything is normal. However: 10 through 999 are written only with combinations of the above strings, space-separated. Some examples:\\n10, 11, 12, etcetera: one ten, one ten one, one ten two, etcetera.\\n20, 30, ..., 90: two ten, three ten, ..., nine ten.\\n21, 31, ..., 91: two ten one, three ten one, ..., nine ten one.\\n100 is one hundred, 305 is three hundred five, 425 is four hundred two ten five, and 999 is nine hundred nine ten nine.\\n\\nBased on the given numbertext, you need to output the corresponding integer. For example, with input eight hundred two ten five you have to output 825.  \n",
       "43584                                                                                                                                                                                                                                                                                                                                                                                                                                                                                                                                                                                                                                                                                                                                                                                               Take the following article, summarize the answers, and return the result in the following JSON format:\\n\\n{\\n    \"faq\":[{\"question\":\"$QUESTION\",\"answer\":\"$ANSWER\"}]\\n}  \n",
       "...                                                                                                                                                                                                                                                                                                                                                                                                                                                                                                                                                                                                                                                                                                                                                                                                                                                                                                                                                                     ...  \n",
       "38076                                                                                                                                                                                                                                                                                                                                                                                                                                                                                                                                                                                                                                                                                                                                                                                                                                                                                                                                                Produce a random noun.  \n",
       "18330                                                                                                                                                                                                                                                                                                                                                                                                                                                                                                                                                                                                                                                                                                                                                                                                                                                                                                                                        Generate an effective username  \n",
       "12837                                                                                                                                                                                                                                                                                                                                                                                                                                                                                                                                                                                                                                                                                                                                                                                                                                                                                                                                      Name a popular smartphone brand.  \n",
       "34058                                                                                                                                                                                                                                                                                                                                                                                                                                                                                                                                                                                                                                                                                                                                                                                                                                                                                                                                               Name a negative emotion  \n",
       "46217                                                                                                                                                                                                                                                                                                                                                                                                                                                                                                                                                                                                                                                                                                                                                                                                                                                                                                                                                 Name a Hindu goddess.  \n",
       "\n",
       "[51760 rows x 5 columns]"
      ]
     },
     "execution_count": 6,
     "metadata": {},
     "output_type": "execute_result"
    }
   ],
   "source": [
    "df.sort_values(by=\"total\", ascending=True)"
   ]
  },
  {
   "cell_type": "code",
   "execution_count": 18,
   "metadata": {},
   "outputs": [],
   "source": [
    "p = [\n",
    "    (\"allenai/OLMo2-7B-1124\", \"main\", None, \"pretrained\"),\n",
    "    (\"allenai/OLMo-2-1124-7B-SFT\", \"main\", \"allenai/tulu-3-sft-olmo-2-mixture\", \"+2 epochs tülu 3\"), \n",
    "    (\"allenai/OLMo-2-1124-7B-DPO\", \"main\", \"allenai/olmo-2-1124-7b-preference-mix\", \"+1 epoch olmo-2-1124-7b-preference-mix\"), \n",
    "    (\"allenai/OLMo-2-1124-7B-Instruct\", \"main\", \"allenai/RLVR-GSM\", \"+ PPO (1 Epoch RLVR)\")\n",
    " ]"
   ]
  },
  {
   "cell_type": "code",
   "execution_count": 19,
   "metadata": {},
   "outputs": [],
   "source": [
    "counts = [len(load_dataset(dataset_name)[\"train\"])  for _,_,dataset_name, _ in p if dataset_name is not None]"
   ]
  },
  {
   "cell_type": "code",
   "execution_count": 20,
   "metadata": {},
   "outputs": [
    {
     "data": {
      "text/plain": [
       "1325158"
      ]
     },
     "execution_count": 20,
     "metadata": {},
     "output_type": "execute_result"
    }
   ],
   "source": [
    "sum(counts)"
   ]
  },
  {
   "cell_type": "markdown",
   "metadata": {},
   "source": [
    "Create a synthetic dataset $\\subseteq  D_{{olmo_{post}}}$\n",
    "\n",
    "\n"
   ]
  },
  {
   "cell_type": "markdown",
   "metadata": {},
   "source": [
    "$\\sum_i=0^k$"
   ]
  },
  {
   "cell_type": "markdown",
   "metadata": {},
   "source": []
  },
  {
   "cell_type": "markdown",
   "metadata": {},
   "source": []
  },
  {
   "cell_type": "code",
   "execution_count": 2,
   "metadata": {},
   "outputs": [],
   "source": []
  },
  {
   "cell_type": "code",
   "execution_count": 21,
   "metadata": {},
   "outputs": [],
   "source": [
    "import argparse\n",
    "import os\n",
    "\n",
    "import setproctitle\n",
    "from dotenv import load_dotenv\n",
    "load_dotenv()\n",
    "import wandb\n",
    "\n",
    "from util import batch \n",
    "\n",
    "from functools import partial\n",
    "from multiprocessing.pool import ThreadPool\n",
    "\n",
    "\n",
    "\n",
    "import json\n",
    "\n",
    "from datasets import load_dataset"
   ]
  },
  {
   "cell_type": "code",
   "execution_count": 22,
   "metadata": {},
   "outputs": [],
   "source": [
    "\n",
    "dataset_train = load_dataset(dataset_train_name)[dataset_train_split_name] \n",
    "\n",
    "dataset_test = load_dataset(dataset_test_name)[dataset_test_split_name] \n"
   ]
  },
  {
   "cell_type": "code",
   "execution_count": 23,
   "metadata": {},
   "outputs": [
    {
     "data": {
      "text/plain": [
       "51.76"
      ]
     },
     "execution_count": 23,
     "metadata": {},
     "output_type": "execute_result"
    }
   ],
   "source": [
    "len(dataset_train)/1000"
   ]
  },
  {
   "cell_type": "code",
   "execution_count": 24,
   "metadata": {},
   "outputs": [
    {
     "name": "stdout",
     "output_type": "stream",
     "text": [
      "0\n",
      "1\n",
      "2\n",
      "3\n",
      "0\n",
      "1\n",
      "2\n",
      "3\n"
     ]
    }
   ],
   "source": [
    "num_processes_gradients = 8\n",
    "for _ in range(num_processes_gradients//4):\n",
    "\n",
    "    for i in range(0,4):\n",
    "        #  gpu_queue.put(i)\n",
    "        print(i)\n",
    "    "
   ]
  },
  {
   "cell_type": "code",
   "execution_count": 25,
   "metadata": {},
   "outputs": [
    {
     "ename": "KeyError",
     "evalue": "'messages'",
     "output_type": "error",
     "traceback": [
      "\u001b[0;31m---------------------------------------------------------------------------\u001b[0m",
      "\u001b[0;31mKeyError\u001b[0m                                  Traceback (most recent call last)",
      "Cell \u001b[0;32mIn[25], line 1\u001b[0m\n\u001b[0;32m----> 1\u001b[0m \u001b[43mdataset_train\u001b[49m\u001b[43m[\u001b[49m\u001b[38;5;241;43m0\u001b[39;49m\u001b[43m]\u001b[49m\u001b[43m[\u001b[49m\u001b[38;5;124;43m\"\u001b[39;49m\u001b[38;5;124;43mmessages\u001b[39;49m\u001b[38;5;124;43m\"\u001b[39;49m\u001b[43m]\u001b[49m\n",
      "\u001b[0;31mKeyError\u001b[0m: 'messages'"
     ]
    }
   ],
   "source": [
    "dataset_train[0][\"messages\"]"
   ]
  },
  {
   "cell_type": "code",
   "execution_count": 15,
   "metadata": {},
   "outputs": [
    {
     "data": {
      "text/plain": [
       "29354.5"
      ]
     },
     "execution_count": 15,
     "metadata": {},
     "output_type": "execute_result"
    }
   ],
   "source": [
    "(len(dataset_test)/1000)*31.25"
   ]
  },
  {
   "cell_type": "code",
   "execution_count": 17,
   "metadata": {},
   "outputs": [],
   "source": [
    "size_gradient_mb = 31250/1000"
   ]
  },
  {
   "cell_type": "code",
   "execution_count": 19,
   "metadata": {},
   "outputs": [],
   "source": [
    "disk_space_mb = 5e+6"
   ]
  },
  {
   "cell_type": "code",
   "execution_count": 56,
   "metadata": {},
   "outputs": [
    {
     "data": {
      "text/plain": [
       "5.555555555555555"
      ]
     },
     "execution_count": 56,
     "metadata": {},
     "output_type": "execute_result"
    }
   ],
   "source": [
    "(160000/4)*0.5/60/60"
   ]
  },
  {
   "cell_type": "code",
   "execution_count": 57,
   "metadata": {},
   "outputs": [
    {
     "data": {
      "text/plain": [
       "0.12074031926758923"
      ]
     },
     "execution_count": 57,
     "metadata": {},
     "output_type": "execute_result"
    }
   ],
   "source": [
    "160000/sum(counts)"
   ]
  },
  {
   "cell_type": "code",
   "execution_count": 20,
   "metadata": {},
   "outputs": [
    {
     "data": {
      "text/plain": [
       "160000.0"
      ]
     },
     "execution_count": 20,
     "metadata": {},
     "output_type": "execute_result"
    }
   ],
   "source": [
    "disk_space_mb / size_gradient_mb"
   ]
  },
  {
   "cell_type": "code",
   "execution_count": 22,
   "metadata": {},
   "outputs": [
    {
     "data": {
      "text/plain": [
       "5.8709"
      ]
     },
     "execution_count": 22,
     "metadata": {},
     "output_type": "execute_result"
    }
   ],
   "source": [
    "len(dataset_test) / (disk_space_mb / size_gradient_mb)"
   ]
  },
  {
   "cell_type": "code",
   "execution_count": 33,
   "metadata": {},
   "outputs": [
    {
     "data": {
      "text/plain": [
       "8.2822375"
      ]
     },
     "execution_count": 33,
     "metadata": {},
     "output_type": "execute_result"
    }
   ],
   "source": [
    "(sum(counts) *size_gradient_mb)/disk_space_mb"
   ]
  },
  {
   "cell_type": "code",
   "execution_count": 49,
   "metadata": {},
   "outputs": [
    {
     "data": {
      "text/plain": [
       "[(939344, 'SFT', 29.3545),\n",
       " (378341, 'DPO', 11.82315625),\n",
       " (7473, 'RLSV', 0.23353125)]"
      ]
     },
     "execution_count": 49,
     "metadata": {},
     "output_type": "execute_result"
    }
   ],
   "source": [
    "list(zip(counts, [\"SFT\", \"DPO\", \"RLSV\"], [(float(c)*size_gradient_mb)/1e+6\n",
    " for c in counts]))"
   ]
  },
  {
   "cell_type": "code",
   "execution_count": 50,
   "metadata": {},
   "outputs": [
    {
     "data": {
      "text/plain": [
       "41.411187500000004"
      ]
     },
     "execution_count": 50,
     "metadata": {},
     "output_type": "execute_result"
    }
   ],
   "source": [
    "sum([(float(c)*size_gradient_mb)/1e+6\n",
    " for c in counts])"
   ]
  },
  {
   "cell_type": "code",
   "execution_count": 46,
   "metadata": {},
   "outputs": [
    {
     "data": {
      "text/plain": [
       "31.25"
      ]
     },
     "execution_count": 46,
     "metadata": {},
     "output_type": "execute_result"
    }
   ],
   "source": [
    "size_gradient_mb"
   ]
  },
  {
   "cell_type": "code",
   "execution_count": 18,
   "metadata": {},
   "outputs": [
    {
     "data": {
      "text/plain": [
       "31.25"
      ]
     },
     "execution_count": 18,
     "metadata": {},
     "output_type": "execute_result"
    }
   ],
   "source": [
    "size_gradient_mb"
   ]
  },
  {
   "cell_type": "code",
   "execution_count": 8,
   "metadata": {},
   "outputs": [],
   "source": [
    "\n",
    "\n",
    "\n",
    "# gradient_output_dir_train = os.path.join(\"./gradients\", os.path.basename(model_name), os.path.basename(dataset_train_name), dataset_train_split_name)\n",
    "# gradient_output_dir_test = os.path.join(\"./gradients\", os.path.basename(model_name), os.path.basename(dataset_test_name), dataset_test_split_name)\n",
    "\n",
    "\n",
    "# if not os.path.exists(\"./influence\"):\n",
    "#     os.makedirs(\"./influence\")\n",
    "    \n",
    "# influence_output_dir = os.path.join(\"./influence\", os.path.basename(model_name), \"_\".join([os.path.basename(dataset_train_name), dataset_train_split_name, os.path.basename(dataset_test_name), dataset_test_split_name]))\n",
    "# if not os.path.exists(influence_output_dir):\n",
    "#     os.makedirs(influence_output_dir)\n",
    "\n",
    "\n",
    "# os.environ[\"TOKENIZERS_PARALLELISM\"] = \"True\"\n",
    "\n",
    "\n",
    "\n",
    "\n",
    "# import torch\n",
    "\n",
    "\n",
    "# import logging\n",
    "# logging.basicConfig(\n",
    "#                     level=logging.INFO,\n",
    "#                     format='%(asctime)s - %(levelname)s - %(message)s')\n",
    "\n",
    "\n",
    "\n",
    "\n",
    "# import util\n",
    "\n",
    "\n",
    "# import time\n",
    "\n",
    "# import datasets\n",
    "\n",
    "\n",
    "\n",
    "\n",
    "# # TODO we only need to know the lenght of the dataset here\n",
    "\n",
    "\n",
    "\n",
    "\n",
    "\n",
    "\n",
    "\n",
    "\n",
    "\n",
    "# import util\n",
    "\n",
    "\n",
    "# ##########################################\n",
    "\n",
    "\n",
    "# import torch \n",
    "# import time\n",
    "# from concurrent.futures import ThreadPoolExecutor\n",
    "\n",
    "\n",
    "\n",
    "# #########################################\n",
    "# from multiprocessing import Pool, current_process, Queue\n",
    "# import time \n",
    "# import datetime\n",
    "# import os\n",
    "# from pathlib import Path\n",
    "# import torch\n",
    "# from itertools import cycle\n",
    "\n",
    "\n",
    "# import sys\n",
    "\n",
    "# from transformers import RobertaTokenizerFast\n",
    "\n",
    "# tokenizer = RobertaTokenizerFast.from_pretrained(model_name, max_len=512)\n",
    "\n",
    "\n",
    "# from util import get_checkpoints_hub\n",
    "# checkpoints =  get_checkpoints_hub(model_name)\n",
    "\n",
    "# from util import DeterministicDataCollatorForLanguageModeling\n",
    "\n",
    "\n",
    "\n",
    "\n",
    "# import sys\n",
    "\n",
    "# from multiprocessing import Pool, Manager\n",
    "\n",
    "\n",
    "# import shutil\n",
    "\n",
    "\n",
    "\n",
    "\n",
    "# checkpoint = checkpoints[0]\n",
    "    \n",
    "# ###############\n",
    "\n",
    "# chunks_train = [ os.path.join(gradient_output_dir_train, os.path.basename(checkpoint), str(i) + \"_\" + str(i + 1000)) for i in list(range(0, len(dataset_train), 1000))]\n",
    "\n",
    "# chunks_test = [ os.path.join(gradient_output_dir_test, os.path.basename(checkpoint), str(i) + \"_\" + str(i + 1000)) for i in range(0, len(dataset_test), 1000)]\n",
    "\n",
    "\n",
    "# device = \"cpu\"\n",
    "\n",
    "# load_fn = lambda chunk_path: torch.load(chunk_path, weights_only=True, map_location=device).flatten(1)\n",
    "# chunks_a = None\n",
    "# with ThreadPoolExecutor(max_workers=50) as executor:\n",
    "#     chunks_a = list(executor.map(lambda task: (load_fn(task)), chunks_train))\n",
    "# chunks_b = None\n",
    "# with ThreadPoolExecutor(max_workers=50) as executor:\n",
    "#     chunks_b = list(executor.map(lambda task: (load_fn(task)), chunks_test))\n",
    "# ###############\n",
    "\n",
    "\n",
    "\n",
    "# c = torch.cat(chunks_a, dim=0)\n",
    "# del chunks_a\n",
    "# d = torch.cat(chunks_b, dim=0)\n",
    "# del chunks_b\n",
    "\n",
    "# assert c.shape[0] == len(dataset_train)\n",
    "\n",
    "# simple = torch.matmul(c, d.T)\n",
    "\n",
    "# simple.shape"
   ]
  },
  {
   "cell_type": "code",
   "execution_count": 4,
   "metadata": {},
   "outputs": [],
   "source": []
  },
  {
   "cell_type": "code",
   "execution_count": 5,
   "metadata": {},
   "outputs": [],
   "source": []
  },
  {
   "cell_type": "code",
   "execution_count": 6,
   "metadata": {},
   "outputs": [],
   "source": []
  },
  {
   "cell_type": "code",
   "execution_count": 9,
   "metadata": {},
   "outputs": [],
   "source": [
    "def convert_to_float(value):\n",
    "    if value and isinstance(value, str):\n",
    "        value = value.replace(\"tokens\", \"\")\n",
    "        num = ''.join([char for char in value if char.isdigit()])\n",
    "        suffix = ''.join([char for char in value if char.isalpha()])\n",
    "        num = float(num)\n",
    "        if suffix == 'B':\n",
    "            num *= 1e9  # Billion\n",
    "        elif suffix == 'M':\n",
    "            num *= 1e6  # Million\n",
    "        elif suffix == 'K':\n",
    "            num *= 1e3  # Thousand\n",
    "        return num\n",
    "    return None\n"
   ]
  },
  {
   "cell_type": "code",
   "execution_count": 4,
   "metadata": {},
   "outputs": [],
   "source": [
    "selection = []"
   ]
  },
  {
   "cell_type": "code",
   "execution_count": 10,
   "metadata": {},
   "outputs": [],
   "source": [
    "checkpoints = pd.DataFrame(get_checkpoints_olmo(model_name=model_name))\n",
    "checkpoints.columns = [\"name\"]\n",
    "checkpoints[['stage', 'ingredient', 'step', 'tokens']] = checkpoints[\"name\"].str.extract(r'(stage\\d+)-(ingredient\\d+)?-?(step\\d+)?-?(tokens\\d+\\w+)?')\n",
    "checkpoints.set_index(\"name\")\n",
    "\n",
    "checkpoints[\"step\"] = pd.to_numeric(checkpoints[\"step\"].str.replace(\"step\",\"\"))\n",
    "checkpoints[\"stage\"] = pd.to_numeric(checkpoints[\"stage\"].str.replace(\"stage\",\"\"))\n",
    "checkpoints['tokens'] = checkpoints['tokens'].apply(convert_to_float)\n",
    "\n",
    "# checkpoints = checkpoints[checkpoints[\"stage\"] == \"stage2\"]"
   ]
  },
  {
   "cell_type": "code",
   "execution_count": 11,
   "metadata": {},
   "outputs": [
    {
     "data": {
      "text/html": [
       "<div>\n",
       "<style scoped>\n",
       "    .dataframe tbody tr th:only-of-type {\n",
       "        vertical-align: middle;\n",
       "    }\n",
       "\n",
       "    .dataframe tbody tr th {\n",
       "        vertical-align: top;\n",
       "    }\n",
       "\n",
       "    .dataframe thead th {\n",
       "        text-align: right;\n",
       "    }\n",
       "</style>\n",
       "<table border=\"1\" class=\"dataframe\">\n",
       "  <thead>\n",
       "    <tr style=\"text-align: right;\">\n",
       "      <th></th>\n",
       "      <th>name</th>\n",
       "      <th>stage</th>\n",
       "      <th>ingredient</th>\n",
       "      <th>step</th>\n",
       "      <th>tokens</th>\n",
       "    </tr>\n",
       "  </thead>\n",
       "  <tbody>\n",
       "    <tr>\n",
       "      <th>0</th>\n",
       "      <td>main</td>\n",
       "      <td>NaN</td>\n",
       "      <td>NaN</td>\n",
       "      <td>NaN</td>\n",
       "      <td>None</td>\n",
       "    </tr>\n",
       "  </tbody>\n",
       "</table>\n",
       "</div>"
      ],
      "text/plain": [
       "   name  stage ingredient  step tokens\n",
       "0  main    NaN        NaN   NaN   None"
      ]
     },
     "execution_count": 11,
     "metadata": {},
     "output_type": "execute_result"
    }
   ],
   "source": [
    "checkpoints"
   ]
  },
  {
   "cell_type": "code",
   "execution_count": 7,
   "metadata": {},
   "outputs": [
    {
     "data": {
      "text/plain": [
       "<Axes: xlabel='step'>"
      ]
     },
     "execution_count": 7,
     "metadata": {},
     "output_type": "execute_result"
    },
    {
     "data": {
      "image/png": "[encoded data removed]",
      "text/plain": [
       "<Figure size 640x480 with 1 Axes>"
      ]
     },
     "metadata": {},
     "output_type": "display_data"
    }
   ],
   "source": [
    "checkpoints['delta_step'] = checkpoints['step'].diff()\n",
    "\n",
    "checkpoints[['step', 'delta_step']].plot(x='step', y='delta_step', kind='line')\n"
   ]
  },
  {
   "cell_type": "code",
   "execution_count": 8,
   "metadata": {},
   "outputs": [
    {
     "data": {
      "text/plain": [
       "0         NaN\n",
       "1       450.0\n",
       "2       100.0\n",
       "3       150.0\n",
       "4        50.0\n",
       "        ...  \n",
       "960    1000.0\n",
       "961    1000.0\n",
       "962    1000.0\n",
       "963     931.0\n",
       "964       NaN\n",
       "Name: delta_step, Length: 965, dtype: float64"
      ]
     },
     "execution_count": 8,
     "metadata": {},
     "output_type": "execute_result"
    }
   ],
   "source": [
    "checkpoints['delta_step']"
   ]
  },
  {
   "cell_type": "code",
   "execution_count": 21,
   "metadata": {},
   "outputs": [
    {
     "data": {
      "text/html": [
       "<div>\n",
       "<style scoped>\n",
       "    .dataframe tbody tr th:only-of-type {\n",
       "        vertical-align: middle;\n",
       "    }\n",
       "\n",
       "    .dataframe tbody tr th {\n",
       "        vertical-align: top;\n",
       "    }\n",
       "\n",
       "    .dataframe thead th {\n",
       "        text-align: right;\n",
       "    }\n",
       "</style>\n",
       "<table border=\"1\" class=\"dataframe\">\n",
       "  <thead>\n",
       "    <tr style=\"text-align: right;\">\n",
       "      <th></th>\n",
       "      <th>name</th>\n",
       "      <th>stage</th>\n",
       "      <th>ingredient</th>\n",
       "      <th>step</th>\n",
       "      <th>tokens</th>\n",
       "      <th>delta_step</th>\n",
       "    </tr>\n",
       "  </thead>\n",
       "  <tbody>\n",
       "    <tr>\n",
       "      <th>915</th>\n",
       "      <td>stage1-step917000-tokens3847B</td>\n",
       "      <td>1.0</td>\n",
       "      <td>NaN</td>\n",
       "      <td>917000.0</td>\n",
       "      <td>3.847000e+12</td>\n",
       "      <td>1000.0</td>\n",
       "    </tr>\n",
       "    <tr>\n",
       "      <th>916</th>\n",
       "      <td>stage1-step918000-tokens3851B</td>\n",
       "      <td>1.0</td>\n",
       "      <td>NaN</td>\n",
       "      <td>918000.0</td>\n",
       "      <td>3.851000e+12</td>\n",
       "      <td>1000.0</td>\n",
       "    </tr>\n",
       "    <tr>\n",
       "      <th>917</th>\n",
       "      <td>stage1-step919000-tokens3855B</td>\n",
       "      <td>1.0</td>\n",
       "      <td>NaN</td>\n",
       "      <td>919000.0</td>\n",
       "      <td>3.855000e+12</td>\n",
       "      <td>1000.0</td>\n",
       "    </tr>\n",
       "    <tr>\n",
       "      <th>918</th>\n",
       "      <td>stage1-step920000-tokens3859B</td>\n",
       "      <td>1.0</td>\n",
       "      <td>NaN</td>\n",
       "      <td>920000.0</td>\n",
       "      <td>3.859000e+12</td>\n",
       "      <td>1000.0</td>\n",
       "    </tr>\n",
       "    <tr>\n",
       "      <th>919</th>\n",
       "      <td>stage1-step921000-tokens3863B</td>\n",
       "      <td>1.0</td>\n",
       "      <td>NaN</td>\n",
       "      <td>921000.0</td>\n",
       "      <td>3.863000e+12</td>\n",
       "      <td>1000.0</td>\n",
       "    </tr>\n",
       "    <tr>\n",
       "      <th>920</th>\n",
       "      <td>stage1-step922000-tokens3868B</td>\n",
       "      <td>1.0</td>\n",
       "      <td>NaN</td>\n",
       "      <td>922000.0</td>\n",
       "      <td>3.868000e+12</td>\n",
       "      <td>1000.0</td>\n",
       "    </tr>\n",
       "    <tr>\n",
       "      <th>921</th>\n",
       "      <td>stage1-step923000-tokens3872B</td>\n",
       "      <td>1.0</td>\n",
       "      <td>NaN</td>\n",
       "      <td>923000.0</td>\n",
       "      <td>3.872000e+12</td>\n",
       "      <td>1000.0</td>\n",
       "    </tr>\n",
       "    <tr>\n",
       "      <th>922</th>\n",
       "      <td>stage1-step924000-tokens3876B</td>\n",
       "      <td>1.0</td>\n",
       "      <td>NaN</td>\n",
       "      <td>924000.0</td>\n",
       "      <td>3.876000e+12</td>\n",
       "      <td>1000.0</td>\n",
       "    </tr>\n",
       "    <tr>\n",
       "      <th>923</th>\n",
       "      <td>stage1-step925000-tokens3880B</td>\n",
       "      <td>1.0</td>\n",
       "      <td>NaN</td>\n",
       "      <td>925000.0</td>\n",
       "      <td>3.880000e+12</td>\n",
       "      <td>1000.0</td>\n",
       "    </tr>\n",
       "    <tr>\n",
       "      <th>924</th>\n",
       "      <td>stage1-step926000-tokens3884B</td>\n",
       "      <td>1.0</td>\n",
       "      <td>NaN</td>\n",
       "      <td>926000.0</td>\n",
       "      <td>3.884000e+12</td>\n",
       "      <td>1000.0</td>\n",
       "    </tr>\n",
       "    <tr>\n",
       "      <th>925</th>\n",
       "      <td>stage1-step927000-tokens3889B</td>\n",
       "      <td>1.0</td>\n",
       "      <td>NaN</td>\n",
       "      <td>927000.0</td>\n",
       "      <td>3.889000e+12</td>\n",
       "      <td>1000.0</td>\n",
       "    </tr>\n",
       "    <tr>\n",
       "      <th>926</th>\n",
       "      <td>stage1-step928000-tokens3893B</td>\n",
       "      <td>1.0</td>\n",
       "      <td>NaN</td>\n",
       "      <td>928000.0</td>\n",
       "      <td>3.893000e+12</td>\n",
       "      <td>1000.0</td>\n",
       "    </tr>\n",
       "    <tr>\n",
       "      <th>927</th>\n",
       "      <td>stage1-step928646-tokens3896B</td>\n",
       "      <td>1.0</td>\n",
       "      <td>NaN</td>\n",
       "      <td>928646.0</td>\n",
       "      <td>3.896000e+12</td>\n",
       "      <td>646.0</td>\n",
       "    </tr>\n",
       "    <tr>\n",
       "      <th>928</th>\n",
       "      <td>stage2-ingredient1-step1000-tokens5B</td>\n",
       "      <td>2.0</td>\n",
       "      <td>ingredient1</td>\n",
       "      <td>1000.0</td>\n",
       "      <td>5.000000e+09</td>\n",
       "      <td>-927646.0</td>\n",
       "    </tr>\n",
       "    <tr>\n",
       "      <th>929</th>\n",
       "      <td>stage2-ingredient1-step2000-tokens9B</td>\n",
       "      <td>2.0</td>\n",
       "      <td>ingredient1</td>\n",
       "      <td>2000.0</td>\n",
       "      <td>9.000000e+09</td>\n",
       "      <td>1000.0</td>\n",
       "    </tr>\n",
       "    <tr>\n",
       "      <th>930</th>\n",
       "      <td>stage2-ingredient1-step3000-tokens13B</td>\n",
       "      <td>2.0</td>\n",
       "      <td>ingredient1</td>\n",
       "      <td>3000.0</td>\n",
       "      <td>1.300000e+10</td>\n",
       "      <td>1000.0</td>\n",
       "    </tr>\n",
       "    <tr>\n",
       "      <th>931</th>\n",
       "      <td>stage2-ingredient1-step4000-tokens17B</td>\n",
       "      <td>2.0</td>\n",
       "      <td>ingredient1</td>\n",
       "      <td>4000.0</td>\n",
       "      <td>1.700000e+10</td>\n",
       "      <td>1000.0</td>\n",
       "    </tr>\n",
       "    <tr>\n",
       "      <th>932</th>\n",
       "      <td>stage2-ingredient1-step5000-tokens21B</td>\n",
       "      <td>2.0</td>\n",
       "      <td>ingredient1</td>\n",
       "      <td>5000.0</td>\n",
       "      <td>2.100000e+10</td>\n",
       "      <td>1000.0</td>\n",
       "    </tr>\n",
       "    <tr>\n",
       "      <th>933</th>\n",
       "      <td>stage2-ingredient1-step6000-tokens26B</td>\n",
       "      <td>2.0</td>\n",
       "      <td>ingredient1</td>\n",
       "      <td>6000.0</td>\n",
       "      <td>2.600000e+10</td>\n",
       "      <td>1000.0</td>\n",
       "    </tr>\n",
       "    <tr>\n",
       "      <th>934</th>\n",
       "      <td>stage2-ingredient1-step7000-tokens30B</td>\n",
       "      <td>2.0</td>\n",
       "      <td>ingredient1</td>\n",
       "      <td>7000.0</td>\n",
       "      <td>3.000000e+10</td>\n",
       "      <td>1000.0</td>\n",
       "    </tr>\n",
       "    <tr>\n",
       "      <th>935</th>\n",
       "      <td>stage2-ingredient1-step8000-tokens34B</td>\n",
       "      <td>2.0</td>\n",
       "      <td>ingredient1</td>\n",
       "      <td>8000.0</td>\n",
       "      <td>3.400000e+10</td>\n",
       "      <td>1000.0</td>\n",
       "    </tr>\n",
       "    <tr>\n",
       "      <th>936</th>\n",
       "      <td>stage2-ingredient1-step9000-tokens38B</td>\n",
       "      <td>2.0</td>\n",
       "      <td>ingredient1</td>\n",
       "      <td>9000.0</td>\n",
       "      <td>3.800000e+10</td>\n",
       "      <td>1000.0</td>\n",
       "    </tr>\n",
       "    <tr>\n",
       "      <th>937</th>\n",
       "      <td>stage2-ingredient1-step10000-tokens42B</td>\n",
       "      <td>2.0</td>\n",
       "      <td>ingredient1</td>\n",
       "      <td>10000.0</td>\n",
       "      <td>4.200000e+10</td>\n",
       "      <td>1000.0</td>\n",
       "    </tr>\n",
       "    <tr>\n",
       "      <th>938</th>\n",
       "      <td>stage2-ingredient1-step11000-tokens47B</td>\n",
       "      <td>2.0</td>\n",
       "      <td>ingredient1</td>\n",
       "      <td>11000.0</td>\n",
       "      <td>4.700000e+10</td>\n",
       "      <td>1000.0</td>\n",
       "    </tr>\n",
       "    <tr>\n",
       "      <th>939</th>\n",
       "      <td>stage2-ingredient1-step11931-tokens50B</td>\n",
       "      <td>2.0</td>\n",
       "      <td>ingredient1</td>\n",
       "      <td>11931.0</td>\n",
       "      <td>5.000000e+10</td>\n",
       "      <td>931.0</td>\n",
       "    </tr>\n",
       "    <tr>\n",
       "      <th>940</th>\n",
       "      <td>stage2-ingredient2-step1000-tokens5B</td>\n",
       "      <td>2.0</td>\n",
       "      <td>ingredient2</td>\n",
       "      <td>1000.0</td>\n",
       "      <td>5.000000e+09</td>\n",
       "      <td>-10931.0</td>\n",
       "    </tr>\n",
       "    <tr>\n",
       "      <th>941</th>\n",
       "      <td>stage2-ingredient2-step2000-tokens9B</td>\n",
       "      <td>2.0</td>\n",
       "      <td>ingredient2</td>\n",
       "      <td>2000.0</td>\n",
       "      <td>9.000000e+09</td>\n",
       "      <td>1000.0</td>\n",
       "    </tr>\n",
       "    <tr>\n",
       "      <th>942</th>\n",
       "      <td>stage2-ingredient2-step3000-tokens13B</td>\n",
       "      <td>2.0</td>\n",
       "      <td>ingredient2</td>\n",
       "      <td>3000.0</td>\n",
       "      <td>1.300000e+10</td>\n",
       "      <td>1000.0</td>\n",
       "    </tr>\n",
       "    <tr>\n",
       "      <th>943</th>\n",
       "      <td>stage2-ingredient2-step4000-tokens17B</td>\n",
       "      <td>2.0</td>\n",
       "      <td>ingredient2</td>\n",
       "      <td>4000.0</td>\n",
       "      <td>1.700000e+10</td>\n",
       "      <td>1000.0</td>\n",
       "    </tr>\n",
       "    <tr>\n",
       "      <th>944</th>\n",
       "      <td>stage2-ingredient2-step5000-tokens21B</td>\n",
       "      <td>2.0</td>\n",
       "      <td>ingredient2</td>\n",
       "      <td>5000.0</td>\n",
       "      <td>2.100000e+10</td>\n",
       "      <td>1000.0</td>\n",
       "    </tr>\n",
       "    <tr>\n",
       "      <th>945</th>\n",
       "      <td>stage2-ingredient2-step6000-tokens26B</td>\n",
       "      <td>2.0</td>\n",
       "      <td>ingredient2</td>\n",
       "      <td>6000.0</td>\n",
       "      <td>2.600000e+10</td>\n",
       "      <td>1000.0</td>\n",
       "    </tr>\n",
       "    <tr>\n",
       "      <th>946</th>\n",
       "      <td>stage2-ingredient2-step7000-tokens30B</td>\n",
       "      <td>2.0</td>\n",
       "      <td>ingredient2</td>\n",
       "      <td>7000.0</td>\n",
       "      <td>3.000000e+10</td>\n",
       "      <td>1000.0</td>\n",
       "    </tr>\n",
       "    <tr>\n",
       "      <th>947</th>\n",
       "      <td>stage2-ingredient2-step8000-tokens34B</td>\n",
       "      <td>2.0</td>\n",
       "      <td>ingredient2</td>\n",
       "      <td>8000.0</td>\n",
       "      <td>3.400000e+10</td>\n",
       "      <td>1000.0</td>\n",
       "    </tr>\n",
       "    <tr>\n",
       "      <th>948</th>\n",
       "      <td>stage2-ingredient2-step9000-tokens38B</td>\n",
       "      <td>2.0</td>\n",
       "      <td>ingredient2</td>\n",
       "      <td>9000.0</td>\n",
       "      <td>3.800000e+10</td>\n",
       "      <td>1000.0</td>\n",
       "    </tr>\n",
       "    <tr>\n",
       "      <th>949</th>\n",
       "      <td>stage2-ingredient2-step10000-tokens42B</td>\n",
       "      <td>2.0</td>\n",
       "      <td>ingredient2</td>\n",
       "      <td>10000.0</td>\n",
       "      <td>4.200000e+10</td>\n",
       "      <td>1000.0</td>\n",
       "    </tr>\n",
       "    <tr>\n",
       "      <th>950</th>\n",
       "      <td>stage2-ingredient2-step11000-tokens47B</td>\n",
       "      <td>2.0</td>\n",
       "      <td>ingredient2</td>\n",
       "      <td>11000.0</td>\n",
       "      <td>4.700000e+10</td>\n",
       "      <td>1000.0</td>\n",
       "    </tr>\n",
       "    <tr>\n",
       "      <th>951</th>\n",
       "      <td>stage2-ingredient2-step11931-tokens50B</td>\n",
       "      <td>2.0</td>\n",
       "      <td>ingredient2</td>\n",
       "      <td>11931.0</td>\n",
       "      <td>5.000000e+10</td>\n",
       "      <td>931.0</td>\n",
       "    </tr>\n",
       "    <tr>\n",
       "      <th>952</th>\n",
       "      <td>stage2-ingredient3-step1000-tokens5B</td>\n",
       "      <td>2.0</td>\n",
       "      <td>ingredient3</td>\n",
       "      <td>1000.0</td>\n",
       "      <td>5.000000e+09</td>\n",
       "      <td>-10931.0</td>\n",
       "    </tr>\n",
       "    <tr>\n",
       "      <th>953</th>\n",
       "      <td>stage2-ingredient3-step2000-tokens9B</td>\n",
       "      <td>2.0</td>\n",
       "      <td>ingredient3</td>\n",
       "      <td>2000.0</td>\n",
       "      <td>9.000000e+09</td>\n",
       "      <td>1000.0</td>\n",
       "    </tr>\n",
       "    <tr>\n",
       "      <th>954</th>\n",
       "      <td>stage2-ingredient3-step3000-tokens13B</td>\n",
       "      <td>2.0</td>\n",
       "      <td>ingredient3</td>\n",
       "      <td>3000.0</td>\n",
       "      <td>1.300000e+10</td>\n",
       "      <td>1000.0</td>\n",
       "    </tr>\n",
       "    <tr>\n",
       "      <th>955</th>\n",
       "      <td>stage2-ingredient3-step4000-tokens17B</td>\n",
       "      <td>2.0</td>\n",
       "      <td>ingredient3</td>\n",
       "      <td>4000.0</td>\n",
       "      <td>1.700000e+10</td>\n",
       "      <td>1000.0</td>\n",
       "    </tr>\n",
       "    <tr>\n",
       "      <th>956</th>\n",
       "      <td>stage2-ingredient3-step5000-tokens21B</td>\n",
       "      <td>2.0</td>\n",
       "      <td>ingredient3</td>\n",
       "      <td>5000.0</td>\n",
       "      <td>2.100000e+10</td>\n",
       "      <td>1000.0</td>\n",
       "    </tr>\n",
       "    <tr>\n",
       "      <th>957</th>\n",
       "      <td>stage2-ingredient3-step6000-tokens26B</td>\n",
       "      <td>2.0</td>\n",
       "      <td>ingredient3</td>\n",
       "      <td>6000.0</td>\n",
       "      <td>2.600000e+10</td>\n",
       "      <td>1000.0</td>\n",
       "    </tr>\n",
       "    <tr>\n",
       "      <th>958</th>\n",
       "      <td>stage2-ingredient3-step7000-tokens30B</td>\n",
       "      <td>2.0</td>\n",
       "      <td>ingredient3</td>\n",
       "      <td>7000.0</td>\n",
       "      <td>3.000000e+10</td>\n",
       "      <td>1000.0</td>\n",
       "    </tr>\n",
       "    <tr>\n",
       "      <th>959</th>\n",
       "      <td>stage2-ingredient3-step8000-tokens34B</td>\n",
       "      <td>2.0</td>\n",
       "      <td>ingredient3</td>\n",
       "      <td>8000.0</td>\n",
       "      <td>3.400000e+10</td>\n",
       "      <td>1000.0</td>\n",
       "    </tr>\n",
       "    <tr>\n",
       "      <th>960</th>\n",
       "      <td>stage2-ingredient3-step9000-tokens38B</td>\n",
       "      <td>2.0</td>\n",
       "      <td>ingredient3</td>\n",
       "      <td>9000.0</td>\n",
       "      <td>3.800000e+10</td>\n",
       "      <td>1000.0</td>\n",
       "    </tr>\n",
       "    <tr>\n",
       "      <th>961</th>\n",
       "      <td>stage2-ingredient3-step10000-tokens42B</td>\n",
       "      <td>2.0</td>\n",
       "      <td>ingredient3</td>\n",
       "      <td>10000.0</td>\n",
       "      <td>4.200000e+10</td>\n",
       "      <td>1000.0</td>\n",
       "    </tr>\n",
       "    <tr>\n",
       "      <th>962</th>\n",
       "      <td>stage2-ingredient3-step11000-tokens47B</td>\n",
       "      <td>2.0</td>\n",
       "      <td>ingredient3</td>\n",
       "      <td>11000.0</td>\n",
       "      <td>4.700000e+10</td>\n",
       "      <td>1000.0</td>\n",
       "    </tr>\n",
       "    <tr>\n",
       "      <th>963</th>\n",
       "      <td>stage2-ingredient3-step11931-tokens50B</td>\n",
       "      <td>2.0</td>\n",
       "      <td>ingredient3</td>\n",
       "      <td>11931.0</td>\n",
       "      <td>5.000000e+10</td>\n",
       "      <td>931.0</td>\n",
       "    </tr>\n",
       "    <tr>\n",
       "      <th>964</th>\n",
       "      <td>main</td>\n",
       "      <td>NaN</td>\n",
       "      <td>NaN</td>\n",
       "      <td>NaN</td>\n",
       "      <td>NaN</td>\n",
       "      <td>NaN</td>\n",
       "    </tr>\n",
       "  </tbody>\n",
       "</table>\n",
       "</div>"
      ],
      "text/plain": [
       "                                       name  stage   ingredient      step  \\\n",
       "915           stage1-step917000-tokens3847B    1.0          NaN  917000.0   \n",
       "916           stage1-step918000-tokens3851B    1.0          NaN  918000.0   \n",
       "917           stage1-step919000-tokens3855B    1.0          NaN  919000.0   \n",
       "918           stage1-step920000-tokens3859B    1.0          NaN  920000.0   \n",
       "919           stage1-step921000-tokens3863B    1.0          NaN  921000.0   \n",
       "920           stage1-step922000-tokens3868B    1.0          NaN  922000.0   \n",
       "921           stage1-step923000-tokens3872B    1.0          NaN  923000.0   \n",
       "922           stage1-step924000-tokens3876B    1.0          NaN  924000.0   \n",
       "923           stage1-step925000-tokens3880B    1.0          NaN  925000.0   \n",
       "924           stage1-step926000-tokens3884B    1.0          NaN  926000.0   \n",
       "925           stage1-step927000-tokens3889B    1.0          NaN  927000.0   \n",
       "926           stage1-step928000-tokens3893B    1.0          NaN  928000.0   \n",
       "927           stage1-step928646-tokens3896B    1.0          NaN  928646.0   \n",
       "928    stage2-ingredient1-step1000-tokens5B    2.0  ingredient1    1000.0   \n",
       "929    stage2-ingredient1-step2000-tokens9B    2.0  ingredient1    2000.0   \n",
       "930   stage2-ingredient1-step3000-tokens13B    2.0  ingredient1    3000.0   \n",
       "931   stage2-ingredient1-step4000-tokens17B    2.0  ingredient1    4000.0   \n",
       "932   stage2-ingredient1-step5000-tokens21B    2.0  ingredient1    5000.0   \n",
       "933   stage2-ingredient1-step6000-tokens26B    2.0  ingredient1    6000.0   \n",
       "934   stage2-ingredient1-step7000-tokens30B    2.0  ingredient1    7000.0   \n",
       "935   stage2-ingredient1-step8000-tokens34B    2.0  ingredient1    8000.0   \n",
       "936   stage2-ingredient1-step9000-tokens38B    2.0  ingredient1    9000.0   \n",
       "937  stage2-ingredient1-step10000-tokens42B    2.0  ingredient1   10000.0   \n",
       "938  stage2-ingredient1-step11000-tokens47B    2.0  ingredient1   11000.0   \n",
       "939  stage2-ingredient1-step11931-tokens50B    2.0  ingredient1   11931.0   \n",
       "940    stage2-ingredient2-step1000-tokens5B    2.0  ingredient2    1000.0   \n",
       "941    stage2-ingredient2-step2000-tokens9B    2.0  ingredient2    2000.0   \n",
       "942   stage2-ingredient2-step3000-tokens13B    2.0  ingredient2    3000.0   \n",
       "943   stage2-ingredient2-step4000-tokens17B    2.0  ingredient2    4000.0   \n",
       "944   stage2-ingredient2-step5000-tokens21B    2.0  ingredient2    5000.0   \n",
       "945   stage2-ingredient2-step6000-tokens26B    2.0  ingredient2    6000.0   \n",
       "946   stage2-ingredient2-step7000-tokens30B    2.0  ingredient2    7000.0   \n",
       "947   stage2-ingredient2-step8000-tokens34B    2.0  ingredient2    8000.0   \n",
       "948   stage2-ingredient2-step9000-tokens38B    2.0  ingredient2    9000.0   \n",
       "949  stage2-ingredient2-step10000-tokens42B    2.0  ingredient2   10000.0   \n",
       "950  stage2-ingredient2-step11000-tokens47B    2.0  ingredient2   11000.0   \n",
       "951  stage2-ingredient2-step11931-tokens50B    2.0  ingredient2   11931.0   \n",
       "952    stage2-ingredient3-step1000-tokens5B    2.0  ingredient3    1000.0   \n",
       "953    stage2-ingredient3-step2000-tokens9B    2.0  ingredient3    2000.0   \n",
       "954   stage2-ingredient3-step3000-tokens13B    2.0  ingredient3    3000.0   \n",
       "955   stage2-ingredient3-step4000-tokens17B    2.0  ingredient3    4000.0   \n",
       "956   stage2-ingredient3-step5000-tokens21B    2.0  ingredient3    5000.0   \n",
       "957   stage2-ingredient3-step6000-tokens26B    2.0  ingredient3    6000.0   \n",
       "958   stage2-ingredient3-step7000-tokens30B    2.0  ingredient3    7000.0   \n",
       "959   stage2-ingredient3-step8000-tokens34B    2.0  ingredient3    8000.0   \n",
       "960   stage2-ingredient3-step9000-tokens38B    2.0  ingredient3    9000.0   \n",
       "961  stage2-ingredient3-step10000-tokens42B    2.0  ingredient3   10000.0   \n",
       "962  stage2-ingredient3-step11000-tokens47B    2.0  ingredient3   11000.0   \n",
       "963  stage2-ingredient3-step11931-tokens50B    2.0  ingredient3   11931.0   \n",
       "964                                    main    NaN          NaN       NaN   \n",
       "\n",
       "           tokens  delta_step  \n",
       "915  3.847000e+12      1000.0  \n",
       "916  3.851000e+12      1000.0  \n",
       "917  3.855000e+12      1000.0  \n",
       "918  3.859000e+12      1000.0  \n",
       "919  3.863000e+12      1000.0  \n",
       "920  3.868000e+12      1000.0  \n",
       "921  3.872000e+12      1000.0  \n",
       "922  3.876000e+12      1000.0  \n",
       "923  3.880000e+12      1000.0  \n",
       "924  3.884000e+12      1000.0  \n",
       "925  3.889000e+12      1000.0  \n",
       "926  3.893000e+12      1000.0  \n",
       "927  3.896000e+12       646.0  \n",
       "928  5.000000e+09   -927646.0  \n",
       "929  9.000000e+09      1000.0  \n",
       "930  1.300000e+10      1000.0  \n",
       "931  1.700000e+10      1000.0  \n",
       "932  2.100000e+10      1000.0  \n",
       "933  2.600000e+10      1000.0  \n",
       "934  3.000000e+10      1000.0  \n",
       "935  3.400000e+10      1000.0  \n",
       "936  3.800000e+10      1000.0  \n",
       "937  4.200000e+10      1000.0  \n",
       "938  4.700000e+10      1000.0  \n",
       "939  5.000000e+10       931.0  \n",
       "940  5.000000e+09    -10931.0  \n",
       "941  9.000000e+09      1000.0  \n",
       "942  1.300000e+10      1000.0  \n",
       "943  1.700000e+10      1000.0  \n",
       "944  2.100000e+10      1000.0  \n",
       "945  2.600000e+10      1000.0  \n",
       "946  3.000000e+10      1000.0  \n",
       "947  3.400000e+10      1000.0  \n",
       "948  3.800000e+10      1000.0  \n",
       "949  4.200000e+10      1000.0  \n",
       "950  4.700000e+10      1000.0  \n",
       "951  5.000000e+10       931.0  \n",
       "952  5.000000e+09    -10931.0  \n",
       "953  9.000000e+09      1000.0  \n",
       "954  1.300000e+10      1000.0  \n",
       "955  1.700000e+10      1000.0  \n",
       "956  2.100000e+10      1000.0  \n",
       "957  2.600000e+10      1000.0  \n",
       "958  3.000000e+10      1000.0  \n",
       "959  3.400000e+10      1000.0  \n",
       "960  3.800000e+10      1000.0  \n",
       "961  4.200000e+10      1000.0  \n",
       "962  4.700000e+10      1000.0  \n",
       "963  5.000000e+10       931.0  \n",
       "964           NaN         NaN  "
      ]
     },
     "execution_count": 21,
     "metadata": {},
     "output_type": "execute_result"
    }
   ],
   "source": [
    "checkpoints.tail(50)"
   ]
  },
  {
   "cell_type": "code",
   "execution_count": 26,
   "metadata": {},
   "outputs": [
    {
     "data": {
      "text/plain": [
       "<Axes: xlabel='tokens'>"
      ]
     },
     "execution_count": 26,
     "metadata": {},
     "output_type": "execute_result"
    },
    {
     "data": {
      "image/png": "[encoded data removed]",
      "text/plain": [
       "<Figure size 640x480 with 1 Axes>"
      ]
     },
     "metadata": {},
     "output_type": "display_data"
    }
   ],
   "source": [
    "checkpoints[checkpoints[\"stage\"] == 1][[\"step\", \"tokens\"]].plot(y='step', x='tokens', kind='line')\n"
   ]
  },
  {
   "cell_type": "code",
   "execution_count": 32,
   "metadata": {},
   "outputs": [],
   "source": [
    "stage_1 = checkpoints[(checkpoints[\"stage\"] == 1)]"
   ]
  },
  {
   "cell_type": "code",
   "execution_count": 36,
   "metadata": {},
   "outputs": [
    {
     "data": {
      "text/plain": [
       "np.float64(4197198275.0)"
      ]
     },
     "execution_count": 36,
     "metadata": {},
     "output_type": "execute_result"
    }
   ],
   "source": [
    "(stage_1[\"tokens\"].max() - stage_1[\"tokens\"].min()) // len(stage_1)"
   ]
  },
  {
   "cell_type": "code",
   "execution_count": 25,
   "metadata": {},
   "outputs": [
    {
     "data": {
      "text/plain": [
       "<Axes: >"
      ]
     },
     "execution_count": 25,
     "metadata": {},
     "output_type": "execute_result"
    },
    {
     "data": {
      "image/png": "[encoded data removed]",
      "text/plain": [
       "<Figure size 640x480 with 1 Axes>"
      ]
     },
     "metadata": {},
     "output_type": "display_data"
    }
   ],
   "source": [
    "checkpoints[checkpoints[\"stage\"] == 1][[\"step\"]].plot( kind='line')\n"
   ]
  },
  {
   "cell_type": "code",
   "execution_count": 10,
   "metadata": {},
   "outputs": [
    {
     "data": {
      "text/html": [
       "<div>\n",
       "<style scoped>\n",
       "    .dataframe tbody tr th:only-of-type {\n",
       "        vertical-align: middle;\n",
       "    }\n",
       "\n",
       "    .dataframe tbody tr th {\n",
       "        vertical-align: top;\n",
       "    }\n",
       "\n",
       "    .dataframe thead th {\n",
       "        text-align: right;\n",
       "    }\n",
       "</style>\n",
       "<table border=\"1\" class=\"dataframe\">\n",
       "  <thead>\n",
       "    <tr style=\"text-align: right;\">\n",
       "      <th></th>\n",
       "      <th>name</th>\n",
       "      <th>stage</th>\n",
       "      <th>ingredient</th>\n",
       "      <th>step</th>\n",
       "      <th>tokens</th>\n",
       "      <th>delta_step</th>\n",
       "    </tr>\n",
       "  </thead>\n",
       "  <tbody>\n",
       "    <tr>\n",
       "      <th>0</th>\n",
       "      <td>stage1-step150-tokens1B</td>\n",
       "      <td>1.0</td>\n",
       "      <td>NaN</td>\n",
       "      <td>150.0</td>\n",
       "      <td>1.000000e+09</td>\n",
       "      <td>NaN</td>\n",
       "    </tr>\n",
       "    <tr>\n",
       "      <th>1</th>\n",
       "      <td>stage1-step600-tokens3B</td>\n",
       "      <td>1.0</td>\n",
       "      <td>NaN</td>\n",
       "      <td>600.0</td>\n",
       "      <td>3.000000e+09</td>\n",
       "      <td>450.0</td>\n",
       "    </tr>\n",
       "    <tr>\n",
       "      <th>2</th>\n",
       "      <td>stage1-step700-tokens3B</td>\n",
       "      <td>1.0</td>\n",
       "      <td>NaN</td>\n",
       "      <td>700.0</td>\n",
       "      <td>3.000000e+09</td>\n",
       "      <td>100.0</td>\n",
       "    </tr>\n",
       "    <tr>\n",
       "      <th>3</th>\n",
       "      <td>stage1-step850-tokens4B</td>\n",
       "      <td>1.0</td>\n",
       "      <td>NaN</td>\n",
       "      <td>850.0</td>\n",
       "      <td>4.000000e+09</td>\n",
       "      <td>150.0</td>\n",
       "    </tr>\n",
       "    <tr>\n",
       "      <th>4</th>\n",
       "      <td>stage1-step900-tokens4B</td>\n",
       "      <td>1.0</td>\n",
       "      <td>NaN</td>\n",
       "      <td>900.0</td>\n",
       "      <td>4.000000e+09</td>\n",
       "      <td>50.0</td>\n",
       "    </tr>\n",
       "    <tr>\n",
       "      <th>...</th>\n",
       "      <td>...</td>\n",
       "      <td>...</td>\n",
       "      <td>...</td>\n",
       "      <td>...</td>\n",
       "      <td>...</td>\n",
       "      <td>...</td>\n",
       "    </tr>\n",
       "    <tr>\n",
       "      <th>960</th>\n",
       "      <td>stage2-ingredient3-step9000-tokens38B</td>\n",
       "      <td>2.0</td>\n",
       "      <td>ingredient3</td>\n",
       "      <td>9000.0</td>\n",
       "      <td>3.800000e+10</td>\n",
       "      <td>1000.0</td>\n",
       "    </tr>\n",
       "    <tr>\n",
       "      <th>961</th>\n",
       "      <td>stage2-ingredient3-step10000-tokens42B</td>\n",
       "      <td>2.0</td>\n",
       "      <td>ingredient3</td>\n",
       "      <td>10000.0</td>\n",
       "      <td>4.200000e+10</td>\n",
       "      <td>1000.0</td>\n",
       "    </tr>\n",
       "    <tr>\n",
       "      <th>962</th>\n",
       "      <td>stage2-ingredient3-step11000-tokens47B</td>\n",
       "      <td>2.0</td>\n",
       "      <td>ingredient3</td>\n",
       "      <td>11000.0</td>\n",
       "      <td>4.700000e+10</td>\n",
       "      <td>1000.0</td>\n",
       "    </tr>\n",
       "    <tr>\n",
       "      <th>963</th>\n",
       "      <td>stage2-ingredient3-step11931-tokens50B</td>\n",
       "      <td>2.0</td>\n",
       "      <td>ingredient3</td>\n",
       "      <td>11931.0</td>\n",
       "      <td>5.000000e+10</td>\n",
       "      <td>931.0</td>\n",
       "    </tr>\n",
       "    <tr>\n",
       "      <th>964</th>\n",
       "      <td>main</td>\n",
       "      <td>NaN</td>\n",
       "      <td>NaN</td>\n",
       "      <td>NaN</td>\n",
       "      <td>NaN</td>\n",
       "      <td>NaN</td>\n",
       "    </tr>\n",
       "  </tbody>\n",
       "</table>\n",
       "<p>965 rows × 6 columns</p>\n",
       "</div>"
      ],
      "text/plain": [
       "                                       name  stage   ingredient     step  \\\n",
       "0                   stage1-step150-tokens1B    1.0          NaN    150.0   \n",
       "1                   stage1-step600-tokens3B    1.0          NaN    600.0   \n",
       "2                   stage1-step700-tokens3B    1.0          NaN    700.0   \n",
       "3                   stage1-step850-tokens4B    1.0          NaN    850.0   \n",
       "4                   stage1-step900-tokens4B    1.0          NaN    900.0   \n",
       "..                                      ...    ...          ...      ...   \n",
       "960   stage2-ingredient3-step9000-tokens38B    2.0  ingredient3   9000.0   \n",
       "961  stage2-ingredient3-step10000-tokens42B    2.0  ingredient3  10000.0   \n",
       "962  stage2-ingredient3-step11000-tokens47B    2.0  ingredient3  11000.0   \n",
       "963  stage2-ingredient3-step11931-tokens50B    2.0  ingredient3  11931.0   \n",
       "964                                    main    NaN          NaN      NaN   \n",
       "\n",
       "           tokens  delta_step  \n",
       "0    1.000000e+09         NaN  \n",
       "1    3.000000e+09       450.0  \n",
       "2    3.000000e+09       100.0  \n",
       "3    4.000000e+09       150.0  \n",
       "4    4.000000e+09        50.0  \n",
       "..            ...         ...  \n",
       "960  3.800000e+10      1000.0  \n",
       "961  4.200000e+10      1000.0  \n",
       "962  4.700000e+10      1000.0  \n",
       "963  5.000000e+10       931.0  \n",
       "964           NaN         NaN  \n",
       "\n",
       "[965 rows x 6 columns]"
      ]
     },
     "execution_count": 10,
     "metadata": {},
     "output_type": "execute_result"
    }
   ],
   "source": [
    "checkpoints"
   ]
  },
  {
   "cell_type": "code",
   "execution_count": 11,
   "metadata": {},
   "outputs": [],
   "source": [
    "import numpy as np\n",
    "\n"
   ]
  },
  {
   "cell_type": "code",
   "execution_count": 12,
   "metadata": {},
   "outputs": [
    {
     "data": {
      "text/html": [
       "<div>\n",
       "<style scoped>\n",
       "    .dataframe tbody tr th:only-of-type {\n",
       "        vertical-align: middle;\n",
       "    }\n",
       "\n",
       "    .dataframe tbody tr th {\n",
       "        vertical-align: top;\n",
       "    }\n",
       "\n",
       "    .dataframe thead th {\n",
       "        text-align: right;\n",
       "    }\n",
       "</style>\n",
       "<table border=\"1\" class=\"dataframe\">\n",
       "  <thead>\n",
       "    <tr style=\"text-align: right;\">\n",
       "      <th></th>\n",
       "      <th>name</th>\n",
       "      <th>stage</th>\n",
       "      <th>ingredient</th>\n",
       "      <th>step</th>\n",
       "      <th>tokens</th>\n",
       "      <th>delta_step</th>\n",
       "    </tr>\n",
       "  </thead>\n",
       "  <tbody>\n",
       "    <tr>\n",
       "      <th>1</th>\n",
       "      <td>stage1-step600-tokens3B</td>\n",
       "      <td>1.0</td>\n",
       "      <td>NaN</td>\n",
       "      <td>600.0</td>\n",
       "      <td>3.000000e+09</td>\n",
       "      <td>450.0</td>\n",
       "    </tr>\n",
       "    <tr>\n",
       "      <th>96</th>\n",
       "      <td>stage1-step91000-tokens382B</td>\n",
       "      <td>1.0</td>\n",
       "      <td>NaN</td>\n",
       "      <td>91000.0</td>\n",
       "      <td>3.820000e+11</td>\n",
       "      <td>1000.0</td>\n",
       "    </tr>\n",
       "    <tr>\n",
       "      <th>191</th>\n",
       "      <td>stage1-step188000-tokens789B</td>\n",
       "      <td>1.0</td>\n",
       "      <td>NaN</td>\n",
       "      <td>188000.0</td>\n",
       "      <td>7.890000e+11</td>\n",
       "      <td>1000.0</td>\n",
       "    </tr>\n",
       "    <tr>\n",
       "      <th>286</th>\n",
       "      <td>stage1-step283000-tokens1187B</td>\n",
       "      <td>1.0</td>\n",
       "      <td>NaN</td>\n",
       "      <td>283000.0</td>\n",
       "      <td>1.187000e+12</td>\n",
       "      <td>1000.0</td>\n",
       "    </tr>\n",
       "    <tr>\n",
       "      <th>381</th>\n",
       "      <td>stage1-step379000-tokens1590B</td>\n",
       "      <td>1.0</td>\n",
       "      <td>NaN</td>\n",
       "      <td>379000.0</td>\n",
       "      <td>1.590000e+12</td>\n",
       "      <td>1000.0</td>\n",
       "    </tr>\n",
       "    <tr>\n",
       "      <th>476</th>\n",
       "      <td>stage1-step474000-tokens1989B</td>\n",
       "      <td>1.0</td>\n",
       "      <td>NaN</td>\n",
       "      <td>474000.0</td>\n",
       "      <td>1.989000e+12</td>\n",
       "      <td>1000.0</td>\n",
       "    </tr>\n",
       "    <tr>\n",
       "      <th>571</th>\n",
       "      <td>stage1-step570000-tokens2391B</td>\n",
       "      <td>1.0</td>\n",
       "      <td>NaN</td>\n",
       "      <td>570000.0</td>\n",
       "      <td>2.391000e+12</td>\n",
       "      <td>1000.0</td>\n",
       "    </tr>\n",
       "    <tr>\n",
       "      <th>666</th>\n",
       "      <td>stage1-step667000-tokens2798B</td>\n",
       "      <td>1.0</td>\n",
       "      <td>NaN</td>\n",
       "      <td>667000.0</td>\n",
       "      <td>2.798000e+12</td>\n",
       "      <td>1000.0</td>\n",
       "    </tr>\n",
       "    <tr>\n",
       "      <th>761</th>\n",
       "      <td>stage1-step763000-tokens3201B</td>\n",
       "      <td>1.0</td>\n",
       "      <td>NaN</td>\n",
       "      <td>763000.0</td>\n",
       "      <td>3.201000e+12</td>\n",
       "      <td>1000.0</td>\n",
       "    </tr>\n",
       "    <tr>\n",
       "      <th>856</th>\n",
       "      <td>stage1-step858000-tokens3599B</td>\n",
       "      <td>1.0</td>\n",
       "      <td>NaN</td>\n",
       "      <td>858000.0</td>\n",
       "      <td>3.599000e+12</td>\n",
       "      <td>1000.0</td>\n",
       "    </tr>\n",
       "  </tbody>\n",
       "</table>\n",
       "</div>"
      ],
      "text/plain": [
       "                              name  stage ingredient      step        tokens  \\\n",
       "1          stage1-step600-tokens3B    1.0        NaN     600.0  3.000000e+09   \n",
       "96     stage1-step91000-tokens382B    1.0        NaN   91000.0  3.820000e+11   \n",
       "191   stage1-step188000-tokens789B    1.0        NaN  188000.0  7.890000e+11   \n",
       "286  stage1-step283000-tokens1187B    1.0        NaN  283000.0  1.187000e+12   \n",
       "381  stage1-step379000-tokens1590B    1.0        NaN  379000.0  1.590000e+12   \n",
       "476  stage1-step474000-tokens1989B    1.0        NaN  474000.0  1.989000e+12   \n",
       "571  stage1-step570000-tokens2391B    1.0        NaN  570000.0  2.391000e+12   \n",
       "666  stage1-step667000-tokens2798B    1.0        NaN  667000.0  2.798000e+12   \n",
       "761  stage1-step763000-tokens3201B    1.0        NaN  763000.0  3.201000e+12   \n",
       "856  stage1-step858000-tokens3599B    1.0        NaN  858000.0  3.599000e+12   \n",
       "\n",
       "     delta_step  \n",
       "1         450.0  \n",
       "96       1000.0  \n",
       "191      1000.0  \n",
       "286      1000.0  \n",
       "381      1000.0  \n",
       "476      1000.0  \n",
       "571      1000.0  \n",
       "666      1000.0  \n",
       "761      1000.0  \n",
       "856      1000.0  "
      ]
     },
     "execution_count": 12,
     "metadata": {},
     "output_type": "execute_result"
    }
   ],
   "source": [
    "n = 10\n",
    "checkpoints_ = checkpoints[~checkpoints[\"ingredient\"].isin([\"ingredient2\", \"ingredient3\"])].reset_index(drop=True)\n",
    "checkpoints_.iloc[1::int(np.ceil( len(checkpoints_) / n ))]\n"
   ]
  },
  {
   "cell_type": "code",
   "execution_count": 13,
   "metadata": {},
   "outputs": [
    {
     "data": {
      "text/html": [
       "<div>\n",
       "<style scoped>\n",
       "    .dataframe tbody tr th:only-of-type {\n",
       "        vertical-align: middle;\n",
       "    }\n",
       "\n",
       "    .dataframe tbody tr th {\n",
       "        vertical-align: top;\n",
       "    }\n",
       "\n",
       "    .dataframe thead th {\n",
       "        text-align: right;\n",
       "    }\n",
       "</style>\n",
       "<table border=\"1\" class=\"dataframe\">\n",
       "  <thead>\n",
       "    <tr style=\"text-align: right;\">\n",
       "      <th></th>\n",
       "      <th>name</th>\n",
       "      <th>stage</th>\n",
       "      <th>ingredient</th>\n",
       "      <th>step</th>\n",
       "      <th>tokens</th>\n",
       "      <th>delta_step</th>\n",
       "    </tr>\n",
       "  </thead>\n",
       "  <tbody>\n",
       "    <tr>\n",
       "      <th>0</th>\n",
       "      <td>stage1-step150-tokens1B</td>\n",
       "      <td>1.0</td>\n",
       "      <td>NaN</td>\n",
       "      <td>150.0</td>\n",
       "      <td>1.000000e+09</td>\n",
       "      <td>NaN</td>\n",
       "    </tr>\n",
       "    <tr>\n",
       "      <th>95</th>\n",
       "      <td>stage1-step90000-tokens378B</td>\n",
       "      <td>1.0</td>\n",
       "      <td>NaN</td>\n",
       "      <td>90000.0</td>\n",
       "      <td>3.780000e+11</td>\n",
       "      <td>1000.0</td>\n",
       "    </tr>\n",
       "    <tr>\n",
       "      <th>190</th>\n",
       "      <td>stage1-step187000-tokens785B</td>\n",
       "      <td>1.0</td>\n",
       "      <td>NaN</td>\n",
       "      <td>187000.0</td>\n",
       "      <td>7.850000e+11</td>\n",
       "      <td>1000.0</td>\n",
       "    </tr>\n",
       "    <tr>\n",
       "      <th>285</th>\n",
       "      <td>stage1-step282000-tokens1183B</td>\n",
       "      <td>1.0</td>\n",
       "      <td>NaN</td>\n",
       "      <td>282000.0</td>\n",
       "      <td>1.183000e+12</td>\n",
       "      <td>1000.0</td>\n",
       "    </tr>\n",
       "    <tr>\n",
       "      <th>380</th>\n",
       "      <td>stage1-step378000-tokens1586B</td>\n",
       "      <td>1.0</td>\n",
       "      <td>NaN</td>\n",
       "      <td>378000.0</td>\n",
       "      <td>1.586000e+12</td>\n",
       "      <td>1000.0</td>\n",
       "    </tr>\n",
       "    <tr>\n",
       "      <th>475</th>\n",
       "      <td>stage1-step473000-tokens1984B</td>\n",
       "      <td>1.0</td>\n",
       "      <td>NaN</td>\n",
       "      <td>473000.0</td>\n",
       "      <td>1.984000e+12</td>\n",
       "      <td>1000.0</td>\n",
       "    </tr>\n",
       "    <tr>\n",
       "      <th>570</th>\n",
       "      <td>stage1-step569000-tokens2387B</td>\n",
       "      <td>1.0</td>\n",
       "      <td>NaN</td>\n",
       "      <td>569000.0</td>\n",
       "      <td>2.387000e+12</td>\n",
       "      <td>1000.0</td>\n",
       "    </tr>\n",
       "    <tr>\n",
       "      <th>665</th>\n",
       "      <td>stage1-step666000-tokens2794B</td>\n",
       "      <td>1.0</td>\n",
       "      <td>NaN</td>\n",
       "      <td>666000.0</td>\n",
       "      <td>2.794000e+12</td>\n",
       "      <td>1000.0</td>\n",
       "    </tr>\n",
       "    <tr>\n",
       "      <th>760</th>\n",
       "      <td>stage1-step762000-tokens3197B</td>\n",
       "      <td>1.0</td>\n",
       "      <td>NaN</td>\n",
       "      <td>762000.0</td>\n",
       "      <td>3.197000e+12</td>\n",
       "      <td>1000.0</td>\n",
       "    </tr>\n",
       "    <tr>\n",
       "      <th>855</th>\n",
       "      <td>stage1-step857000-tokens3595B</td>\n",
       "      <td>1.0</td>\n",
       "      <td>NaN</td>\n",
       "      <td>857000.0</td>\n",
       "      <td>3.595000e+12</td>\n",
       "      <td>1000.0</td>\n",
       "    </tr>\n",
       "  </tbody>\n",
       "</table>\n",
       "</div>"
      ],
      "text/plain": [
       "                              name  stage ingredient      step        tokens  \\\n",
       "0          stage1-step150-tokens1B    1.0        NaN     150.0  1.000000e+09   \n",
       "95     stage1-step90000-tokens378B    1.0        NaN   90000.0  3.780000e+11   \n",
       "190   stage1-step187000-tokens785B    1.0        NaN  187000.0  7.850000e+11   \n",
       "285  stage1-step282000-tokens1183B    1.0        NaN  282000.0  1.183000e+12   \n",
       "380  stage1-step378000-tokens1586B    1.0        NaN  378000.0  1.586000e+12   \n",
       "475  stage1-step473000-tokens1984B    1.0        NaN  473000.0  1.984000e+12   \n",
       "570  stage1-step569000-tokens2387B    1.0        NaN  569000.0  2.387000e+12   \n",
       "665  stage1-step666000-tokens2794B    1.0        NaN  666000.0  2.794000e+12   \n",
       "760  stage1-step762000-tokens3197B    1.0        NaN  762000.0  3.197000e+12   \n",
       "855  stage1-step857000-tokens3595B    1.0        NaN  857000.0  3.595000e+12   \n",
       "\n",
       "     delta_step  \n",
       "0           NaN  \n",
       "95       1000.0  \n",
       "190      1000.0  \n",
       "285      1000.0  \n",
       "380      1000.0  \n",
       "475      1000.0  \n",
       "570      1000.0  \n",
       "665      1000.0  \n",
       "760      1000.0  \n",
       "855      1000.0  "
      ]
     },
     "execution_count": 13,
     "metadata": {},
     "output_type": "execute_result"
    }
   ],
   "source": [
    "checkpoints_.iloc[::int(np.ceil( len(checkpoints_) / n ))]\n"
   ]
  },
  {
   "cell_type": "code",
   "execution_count": 14,
   "metadata": {},
   "outputs": [
    {
     "data": {
      "text/plain": [
       "count    9.400000e+02\n",
       "mean     1.914850e+12\n",
       "std      1.147022e+12\n",
       "min      1.000000e+09\n",
       "25%      9.220000e+11\n",
       "50%      1.911000e+12\n",
       "75%      2.912250e+12\n",
       "max      3.896000e+12\n",
       "Name: tokens, dtype: float64"
      ]
     },
     "execution_count": 14,
     "metadata": {},
     "output_type": "execute_result"
    }
   ],
   "source": [
    "checkpoints_[\"tokens\"].describe()"
   ]
  },
  {
   "cell_type": "code",
   "execution_count": 6,
   "metadata": {},
   "outputs": [],
   "source": [
    "# checkpoints"
   ]
  },
  {
   "cell_type": "code",
   "execution_count": 7,
   "metadata": {},
   "outputs": [],
   "source": [
    "# checkpoints"
   ]
  },
  {
   "cell_type": "code",
   "execution_count": null,
   "metadata": {},
   "outputs": [],
   "source": []
  },
  {
   "cell_type": "code",
   "execution_count": 26,
   "metadata": {},
   "outputs": [],
   "source": [
    "# # dataset_train_name = \"allenai/tulu-v2-sft-mixture\"\n",
    "# # dataset_train_split_name = \"train[:1%]\"\n",
    "\n",
    "# # dataset_test_name = \"allenai/tulu-v2-sft-mixture\"\n",
    "# # dataset_test_split_name=\"train[5%:6%]\"\n",
    "\n",
    "# model_name = \"allenai/OLMo-2-1124-7B\"\n",
    "\n",
    "# dataset = tokenize_tulu_dataset(\"allenai/tulu-v2-sft-mixture\", \"train[:1%]\")\n",
    "influence_output_dir = os.path.join(\"./mean_influence\", os.path.basename(model_name), \"_\".join([os.path.basename(dataset_train_name), dataset_train_split_name, os.path.basename(dataset_test_name), dataset_test_split_name]))\n"
   ]
  },
  {
   "cell_type": "code",
   "execution_count": 27,
   "metadata": {},
   "outputs": [
    {
     "data": {
      "text/plain": [
       "'./mean_influence/OLMo-2-1124-7B/alpaca-cleaned_train_alpaca-cleaned_train'"
      ]
     },
     "execution_count": 27,
     "metadata": {},
     "output_type": "execute_result"
    }
   ],
   "source": [
    "influence_output_dir"
   ]
  },
  {
   "cell_type": "code",
   "execution_count": 28,
   "metadata": {},
   "outputs": [
    {
     "data": {
      "text/plain": [
       "['stage1-step150-tokens1B']"
      ]
     },
     "execution_count": 28,
     "metadata": {},
     "output_type": "execute_result"
    }
   ],
   "source": [
    "os.listdir(influence_output_dir)"
   ]
  },
  {
   "cell_type": "code",
   "execution_count": 29,
   "metadata": {},
   "outputs": [],
   "source": [
    "# dataset_train = tokenize_tulu_dataset(dataset_train_name, dataset_train_split_name)\n",
    "# dataset_test = tokenize_tulu_dataset(dataset_train_name, dataset_test_split_name)"
   ]
  },
  {
   "cell_type": "code",
   "execution_count": 30,
   "metadata": {},
   "outputs": [],
   "source": [
    "tokenizer = AutoTokenizer.from_pretrained(\"allenai/OLMo-2-1124-7B\")"
   ]
  },
  {
   "cell_type": "code",
   "execution_count": 31,
   "metadata": {},
   "outputs": [],
   "source": [
    "# {(result_checkpoint): torch.load(os.path.join(influence_output_dir,result_checkpoint),weights_only=True,map_location=\"cpu\").float().numpy() for result_checkpoint in os.listdir(influence_output_dir)}"
   ]
  },
  {
   "cell_type": "code",
   "execution_count": 32,
   "metadata": {},
   "outputs": [],
   "source": [
    "data = {(result_checkpoint): torch.load(os.path.join(influence_output_dir,result_checkpoint),weights_only=True,map_location=\"cpu\").to(dtype=torch.float16).numpy() for result_checkpoint in os.listdir(influence_output_dir)}"
   ]
  },
  {
   "cell_type": "code",
   "execution_count": 34,
   "metadata": {},
   "outputs": [],
   "source": [
    "d = data[\"stage1-step150-tokens1B\"]"
   ]
  },
  {
   "cell_type": "code",
   "execution_count": 44,
   "metadata": {},
   "outputs": [
    {
     "data": {
      "text/plain": [
       "array([[2.848, 5.7  , 1.803, ..., 5.008, 5.07 , 4.453]], dtype=float16)"
      ]
     },
     "execution_count": 44,
     "metadata": {},
     "output_type": "execute_result"
    }
   ],
   "source": [
    "d"
   ]
  },
  {
   "cell_type": "code",
   "execution_count": 35,
   "metadata": {},
   "outputs": [],
   "source": [
    "from sklearn.preprocessing import minmax_scale #  TODO choose\n",
    "\n",
    "import numpy as np"
   ]
  },
  {
   "cell_type": "code",
   "execution_count": 36,
   "metadata": {},
   "outputs": [],
   "source": [
    "e_x = np.exp(d - np.max(d))\n",
    "d_sm = e_x / e_x.sum(axis=0)"
   ]
  },
  {
   "cell_type": "code",
   "execution_count": null,
   "metadata": {},
   "outputs": [],
   "source": []
  },
  {
   "cell_type": "code",
   "execution_count": 37,
   "metadata": {},
   "outputs": [],
   "source": [
    "d_normalized = minmax_scale(d, axis=0)"
   ]
  },
  {
   "cell_type": "code",
   "execution_count": 38,
   "metadata": {},
   "outputs": [
    {
     "data": {
      "text/plain": [
       "(1, 51760)"
      ]
     },
     "execution_count": 38,
     "metadata": {},
     "output_type": "execute_result"
    }
   ],
   "source": [
    "d_normalized.shape"
   ]
  },
  {
   "cell_type": "code",
   "execution_count": 20,
   "metadata": {},
   "outputs": [],
   "source": []
  },
  {
   "cell_type": "code",
   "execution_count": 39,
   "metadata": {},
   "outputs": [],
   "source": [
    "import matplotlib.pyplot as plt\n",
    "import seaborn as sns\n"
   ]
  },
  {
   "cell_type": "code",
   "execution_count": 40,
   "metadata": {},
   "outputs": [
    {
     "data": {
      "text/plain": [
       "<Axes: ylabel='Count'>"
      ]
     },
     "execution_count": 40,
     "metadata": {},
     "output_type": "execute_result"
    },
    {
     "data": {
      "image/png": "[encoded data removed]",
      "text/plain": [
       "<Figure size 640x480 with 1 Axes>"
      ]
     },
     "metadata": {},
     "output_type": "display_data"
    }
   ],
   "source": [
    "m = d_normalized.mean(axis=1)\n",
    "\n",
    "sns.histplot(m)"
   ]
  },
  {
   "cell_type": "code",
   "execution_count": 41,
   "metadata": {},
   "outputs": [
    {
     "data": {
      "text/plain": [
       "array([[1., 1., 1., ..., 1., 1., 1.]], dtype=float16)"
      ]
     },
     "execution_count": 41,
     "metadata": {},
     "output_type": "execute_result"
    }
   ],
   "source": [
    "d_sm"
   ]
  },
  {
   "cell_type": "code",
   "execution_count": 29,
   "metadata": {},
   "outputs": [
    {
     "data": {
      "text/plain": [
       "np.float16(0.3677)"
      ]
     },
     "execution_count": 29,
     "metadata": {},
     "output_type": "execute_result"
    }
   ],
   "source": [
    "m_sm.min()"
   ]
  },
  {
   "cell_type": "code",
   "execution_count": 23,
   "metadata": {},
   "outputs": [
    {
     "ename": "NameError",
     "evalue": "name 'trhzdfcx' is not defined",
     "output_type": "error",
     "traceback": [
      "\u001b[0;31m---------------------------------------------------------------------------\u001b[0m",
      "\u001b[0;31mNameError\u001b[0m                                 Traceback (most recent call last)",
      "Cell \u001b[0;32mIn[23], line 1\u001b[0m\n\u001b[0;32m----> 1\u001b[0m \u001b[43mtrhzdfcx\u001b[49m\n",
      "\u001b[0;31mNameError\u001b[0m: name 'trhzdfcx' is not defined"
     ]
    }
   ],
   "source": [
    "trhzdfcx"
   ]
  },
  {
   "cell_type": "code",
   "execution_count": null,
   "metadata": {},
   "outputs": [],
   "source": []
  },
  {
   "cell_type": "code",
   "execution_count": null,
   "metadata": {},
   "outputs": [],
   "source": [
    "z_scores = (data[\"checkpoint-6174\"] - data[\"checkpoint-6174\"].mean())/data[\"checkpoint-6174\"].std()"
   ]
  },
  {
   "cell_type": "code",
   "execution_count": null,
   "metadata": {},
   "outputs": [],
   "source": [
    "z_scores"
   ]
  },
  {
   "cell_type": "code",
   "execution_count": 15,
   "metadata": {},
   "outputs": [],
   "source": [
    "# a = simple.float().numpy()\n",
    "# b = data[\"checkpoint-6174\"].to_numpy()#[:2000,:]\n",
    "# (np.abs(a-b)).mean()\n",
    "# np.allclose(a,b, rtol=10e-3)"
   ]
  },
  {
   "cell_type": "code",
   "execution_count": 16,
   "metadata": {},
   "outputs": [],
   "source": [
    "# df = pd.DataFrame(torch.load(os.path.join(influence_output_dir,os.listdir(influence_output_dir)[0]),weights_only=True,map_location=\"cpu\"))"
   ]
  },
  {
   "cell_type": "code",
   "execution_count": 17,
   "metadata": {},
   "outputs": [],
   "source": [
    "# df.to_parquet(\"a\")"
   ]
  },
  {
   "cell_type": "code",
   "execution_count": null,
   "metadata": {},
   "outputs": [],
   "source": []
  },
  {
   "cell_type": "code",
   "execution_count": 18,
   "metadata": {},
   "outputs": [],
   "source": [
    "# ddf.head()"
   ]
  },
  {
   "cell_type": "code",
   "execution_count": 19,
   "metadata": {},
   "outputs": [],
   "source": [
    "# dff"
   ]
  },
  {
   "cell_type": "code",
   "execution_count": 20,
   "metadata": {},
   "outputs": [],
   "source": [
    "# ddf.compute()"
   ]
  },
  {
   "cell_type": "code",
   "execution_count": 21,
   "metadata": {},
   "outputs": [],
   "source": [
    "# ddf"
   ]
  },
  {
   "cell_type": "code",
   "execution_count": 22,
   "metadata": {},
   "outputs": [],
   "source": [
    "# ddf.head()"
   ]
  },
  {
   "cell_type": "code",
   "execution_count": null,
   "metadata": {},
   "outputs": [],
   "source": [
    "gtsr4qartgsf"
   ]
  },
  {
   "cell_type": "code",
   "execution_count": null,
   "metadata": {},
   "outputs": [],
   "source": []
  },
  {
   "cell_type": "code",
   "execution_count": null,
   "metadata": {},
   "outputs": [],
   "source": [
    "import pandas as pd\n",
    "import swifter\n",
    "\n",
    "import numpy as np\n",
    "\n",
    "\n",
    "df = pd.DataFrame(np.random.randn(100, 3))\n",
    "\n",
    "df[(np.abs(stats.zscore(df)) < 3).all(axis=1)]"
   ]
  },
  {
   "cell_type": "code",
   "execution_count": null,
   "metadata": {},
   "outputs": [],
   "source": [
    "äkrhipz98ur09iekovfmlkgnht9rifko"
   ]
  },
  {
   "cell_type": "code",
   "execution_count": 36,
   "metadata": {},
   "outputs": [],
   "source": [
    "import numpy as np"
   ]
  },
  {
   "cell_type": "code",
   "execution_count": null,
   "metadata": {},
   "outputs": [],
   "source": [
    "pd.DataFrame(data)"
   ]
  },
  {
   "cell_type": "code",
   "execution_count": null,
   "metadata": {},
   "outputs": [
    {
     "ename": "KeyError",
     "evalue": "0",
     "output_type": "error",
     "traceback": [
      "\u001b[0;31m---------------------------------------------------------------------------\u001b[0m",
      "\u001b[0;31mKeyError\u001b[0m                                  Traceback (most recent call last)",
      "Cell \u001b[0;32mIn[46], line 1\u001b[0m\n\u001b[0;32m----> 1\u001b[0m df \u001b[38;5;241m=\u001b[39m pd\u001b[38;5;241m.\u001b[39mDataFrame(\u001b[43m{\u001b[49m\u001b[43m(\u001b[49m\u001b[43mresult_checkpoint\u001b[49m\u001b[43m)\u001b[49m\u001b[43m:\u001b[49m\u001b[43m \u001b[49m\u001b[43mtorch\u001b[49m\u001b[38;5;241;43m.\u001b[39;49m\u001b[43mload\u001b[49m\u001b[43m(\u001b[49m\u001b[43mos\u001b[49m\u001b[38;5;241;43m.\u001b[39;49m\u001b[43mpath\u001b[49m\u001b[38;5;241;43m.\u001b[39;49m\u001b[43mjoin\u001b[49m\u001b[43m(\u001b[49m\u001b[43minfluence_output_dir\u001b[49m\u001b[43m,\u001b[49m\u001b[43mresult_checkpoint\u001b[49m\u001b[43m)\u001b[49m\u001b[43m,\u001b[49m\u001b[43mweights_only\u001b[49m\u001b[38;5;241;43m=\u001b[39;49m\u001b[38;5;28;43;01mTrue\u001b[39;49;00m\u001b[43m,\u001b[49m\u001b[43mmap_location\u001b[49m\u001b[38;5;241;43m=\u001b[39;49m\u001b[38;5;124;43m\"\u001b[39;49m\u001b[38;5;124;43mcpu\u001b[39;49m\u001b[38;5;124;43m\"\u001b[39;49m\u001b[43m)\u001b[49m\u001b[38;5;241;43m.\u001b[39;49m\u001b[43mfloat\u001b[49m\u001b[43m(\u001b[49m\u001b[43m)\u001b[49m\u001b[38;5;241;43m.\u001b[39;49m\u001b[43mnumpy\u001b[49m\u001b[43m(\u001b[49m\u001b[43m)\u001b[49m\u001b[43m \u001b[49m\u001b[38;5;28;43;01mfor\u001b[39;49;00m\u001b[43m \u001b[49m\u001b[43mresult_checkpoint\u001b[49m\u001b[43m \u001b[49m\u001b[38;5;129;43;01min\u001b[39;49;00m\u001b[43m \u001b[49m\u001b[43mos\u001b[49m\u001b[38;5;241;43m.\u001b[39;49m\u001b[43mlistdir\u001b[49m\u001b[43m(\u001b[49m\u001b[43minfluence_output_dir\u001b[49m\u001b[43m)\u001b[49m\u001b[43m}\u001b[49m\u001b[43m[\u001b[49m\u001b[38;5;241;43m0\u001b[39;49m\u001b[43m]\u001b[49m)\n\u001b[1;32m      2\u001b[0m df\u001b[38;5;241m.\u001b[39msort_index(axis\u001b[38;5;241m=\u001b[39m\u001b[38;5;241m1\u001b[39m)\n\u001b[1;32m      3\u001b[0m \u001b[38;5;28mprint\u001b[39m(\u001b[38;5;28mlen\u001b[39m(df))\n",
      "\u001b[0;31mKeyError\u001b[0m: 0"
     ]
    }
   ],
   "source": [
    "df = pd.DataFrame({(result_checkpoint): torch.load(os.path.join(influence_output_dir,result_checkpoint),weights_only=True,map_location=\"cpu\").float().numpy() for result_checkpoint in os.listdir(influence_output_dir)})\n",
    "df.sort_index(axis=1)\n",
    "print(len(df))"
   ]
  },
  {
   "cell_type": "code",
   "execution_count": null,
   "metadata": {},
   "outputs": [],
   "source": [
    "torch.load(os.path.join(influence_output_dir,result_checkpoint),weights_only=True,map_location=\"cpu\").float().numpy()"
   ]
  },
  {
   "cell_type": "code",
   "execution_count": null,
   "metadata": {},
   "outputs": [],
   "source": [
    "df"
   ]
  },
  {
   "cell_type": "code",
   "execution_count": null,
   "metadata": {},
   "outputs": [],
   "source": [
    "df = pd.DataFrame({(result_checkpoint): torch.load(os.path.join(influence_output_dir,result_checkpoint),weights_only=True,map_location=\"cpu\").numpy().flatten() for result_checkpoint in os.listdir(influence_output_dir)})\n",
    "df.sort_index(axis=1)\n",
    "print(len(df))\n",
    "\n",
    "df = df.reindex(sorted(df.columns, reverse=False), axis=1)\n",
    "influence_cols = df.columns\n",
    "df[\"total\"] = df.sum(axis=1)\n",
    "df[\"text\"] = dataset_train.to_pandas()[\"input_ids\"].apply(lambda x: tokenizer.decode(x, skip_special_tokens=True))\n",
    "# df[\"document_lenght\"] = df[\"text\"].str.split().str.len()"
   ]
  },
  {
   "cell_type": "code",
   "execution_count": null,
   "metadata": {},
   "outputs": [],
   "source": [
    "pd.set_option('display.max_colwidth', 1000)\n",
    "df.sort_values(by=\"total\", ascending=False)"
   ]
  },
  {
   "cell_type": "code",
   "execution_count": null,
   "metadata": {},
   "outputs": [],
   "source": [
    "len(dataset_train)"
   ]
  },
  {
   "cell_type": "code",
   "execution_count": null,
   "metadata": {},
   "outputs": [],
   "source": [
    "dataset[0][\"input_ids\"]"
   ]
  },
  {
   "cell_type": "code",
   "execution_count": null,
   "metadata": {},
   "outputs": [],
   "source": [
    "dataset[0]"
   ]
  },
  {
   "cell_type": "code",
   "execution_count": 16,
   "metadata": {},
   "outputs": [],
   "source": [
    "from pathlib import Path\n",
    "import numpy as np\n",
    "\n",
    "\n",
    "\n"
   ]
  },
  {
   "cell_type": "code",
   "execution_count": null,
   "metadata": {},
   "outputs": [],
   "source": [
    "checkpoint_names"
   ]
  },
  {
   "cell_type": "code",
   "execution_count": 6,
   "metadata": {},
   "outputs": [],
   "source": [
    "from transformers import AutoModelForCausalLM, AutoTokenizer\n",
    "import torch\n",
    "\n",
    "\n"
   ]
  },
  {
   "cell_type": "code",
   "execution_count": null,
   "metadata": {},
   "outputs": [],
   "source": [
    "\n",
    "message = [\"Language modeling is \"]\n",
    "\n",
    "oldmos = []\n",
    "for i in [1,100,500,900]:\n",
    "    \n",
    "    olmo = AutoModelForCausalLM.from_pretrained(\"allenai/OLMo-2-1124-7B\", revision=checkpoint_names[i])\n",
    "    inputs = tokenizer(message, return_tensors='pt', return_token_type_ids=False)\n",
    "    # optional verifying cuda\n",
    "    inputs = {k: v.to('cuda') for k,v in inputs.items()}\n",
    "    olmo = olmo.to('cuda')\n",
    "    oldmos.append(olmo)\n",
    "    response = olmo.generate(**inputs, max_new_tokens=100, do_sample=True, top_k=50, top_p=0.95)\n",
    "    print(tokenizer.batch_decode(response, skip_special_tokens=True)[0])"
   ]
  },
  {
   "cell_type": "code",
   "execution_count": null,
   "metadata": {},
   "outputs": [],
   "source": [
    "\n",
    "checkpoints_stage_2"
   ]
  },
  {
   "cell_type": "code",
   "execution_count": null,
   "metadata": {},
   "outputs": [],
   "source": [
    "checkpoints_stage1"
   ]
  },
  {
   "cell_type": "code",
   "execution_count": 1,
   "metadata": {},
   "outputs": [],
   "source": [
    "import torch"
   ]
  },
  {
   "cell_type": "code",
   "execution_count": 5,
   "metadata": {},
   "outputs": [
    {
     "name": "stderr",
     "output_type": "stream",
     "text": [
      "/tmp/ipykernel_1414618/511616238.py:1: FutureWarning: You are using `torch.load` with `weights_only=False` (the current default value), which uses the default pickle module implicitly. It is possible to construct malicious pickle data which will execute arbitrary code during unpickling (See https://github.com/pytorch/pytorch/blob/main/SECURITY.md#untrusted-models for more details). In a future release, the default value for `weights_only` will be flipped to `True`. This limits the functions that could be executed during unpickling. Arbitrary objects will no longer be allowed to be loaded via this mode unless they are explicitly allowlisted by the user via `torch.serialization.add_safe_globals`. We recommend you start setting `weights_only=True` for any use case where you don't have full control of the loaded file. Please open an issue on GitHub for any issues related to this experimental feature.\n",
      "  torch.load(\"/data/sedovaa20dm/tracin/influence/OLMo-2-1124-7B/tulu-3-sft-olmo-2-mixture/train_1_train_1/main\").mean(axis=1).shape\n"
     ]
    },
    {
     "data": {
      "text/plain": [
       "torch.Size([9390])"
      ]
     },
     "execution_count": 5,
     "metadata": {},
     "output_type": "execute_result"
    }
   ],
   "source": [
    "torch.load(\"/data/sedovaa20dm/tracin/influence/OLMo-2-1124-7B/tulu-3-sft-olmo-2-mixture/train_1_train_1/main\").mean(axis=1).shape"
   ]
  }
 ],
 "metadata": {
  "kernelspec": {
   "display_name": "Python 3",
   "language": "python",
   "name": "python3"
  },
  "language_info": {
   "codemirror_mode": {
    "name": "ipython",
    "version": 3
   },
   "file_extension": ".py",
   "mimetype": "text/x-python",
   "name": "python",
   "nbconvert_exporter": "python",
   "pygments_lexer": "ipython3",
   "version": "3.12.8"
  }
 },
 "nbformat": 4,
 "nbformat_minor": 2
}
