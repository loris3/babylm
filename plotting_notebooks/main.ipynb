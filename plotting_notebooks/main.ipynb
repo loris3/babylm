{
 "cells": [
  {
   "cell_type": "markdown",
   "id": "efada5a0",
   "metadata": {},
   "source": [
    "Runs the individual plotting notebooks. Run inside a container created with `Dockerfile` or `Dockerfile_eval`"
   ]
  },
  {
   "cell_type": "code",
   "execution_count": 1,
   "id": "579ffeb9",
   "metadata": {},
   "outputs": [],
   "source": [
    "%%capture\n",
    "%run plotting_notebooks/plot_benchmark_results.ipynb"
   ]
  },
  {
   "cell_type": "code",
   "execution_count": 2,
   "id": "75c524cf",
   "metadata": {},
   "outputs": [],
   "source": [
    "%%capture\n",
    "%run plotting_notebooks/plot_loss.ipynb"
   ]
  },
  {
   "cell_type": "code",
   "execution_count": 3,
   "id": "cc614c88",
   "metadata": {},
   "outputs": [],
   "source": [
    "%%capture\n",
    "%run plotting_notebooks/curricula_stats.ipynb"
   ]
  },
  {
   "cell_type": "code",
   "execution_count": 4,
   "id": "d558e2c6",
   "metadata": {},
   "outputs": [],
   "source": [
    "%%capture\n",
    "%run plotting_notebooks/plots_source_distribution_similarity.ipynb"
   ]
  },
  {
   "cell_type": "code",
   "execution_count": 5,
   "id": "33731667",
   "metadata": {},
   "outputs": [],
   "source": [
    "%%capture\n",
    "%run plotting_notebooks/plots_influence.ipynb"
   ]
  },
  {
   "cell_type": "code",
   "execution_count": 6,
   "id": "8ffdd934",
   "metadata": {},
   "outputs": [],
   "source": [
    "%%capture\n",
    "%run plotting_notebooks/misc.ipynb"
   ]
  },
  {
   "cell_type": "code",
   "execution_count": 7,
   "id": "4aace379",
   "metadata": {},
   "outputs": [],
   "source": [
    "%%capture\n",
    "%run plotting_notebooks/plots_source_counts.ipynb"
   ]
  }
 ],
 "metadata": {
  "kernelspec": {
   "display_name": "Python 3 (ipykernel)",
   "language": "python",
   "name": "python3"
  },
  "language_info": {
   "codemirror_mode": {
    "name": "ipython",
    "version": 3
   },
   "file_extension": ".py",
   "mimetype": "text/x-python",
   "name": "python",
   "nbconvert_exporter": "python",
   "pygments_lexer": "ipython3",
   "version": "3.10.12"
  }
 },
 "nbformat": 4,
 "nbformat_minor": 5
}
