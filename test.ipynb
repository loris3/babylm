{
 "cells": [
  {
   "cell_type": "code",
   "execution_count": 1,
   "metadata": {},
   "outputs": [],
   "source": [
    "model_name = \"loris3/stratified_equitoken_10m_curriculum_random\"\n",
    "\n",
    "\n",
    "dataset_train_name =\"loris3/stratified_equitoken_10m_curriculum\"\n",
    "dataset_train_split_name = \"validation\"\n",
    "\n",
    "dataset_test_name = \"loris3/stratified_equitoken_10m_curriculum\"\n",
    "dataset_test_split_name = \"validation\""
   ]
  },
  {
   "cell_type": "code",
   "execution_count": 2,
   "metadata": {},
   "outputs": [],
   "source": [
    "import torch\n",
    "import os\n",
    "\n",
    "\n",
    "import numpy as np\n",
    "import matplotlib.pyplot as plt\n",
    "from datasets import load_dataset\n",
    "\n",
    "from dotenv import load_dotenv\n",
    "load_dotenv()\n",
    "\n",
    "dataset_test = load_dataset(dataset_test_name)[dataset_test_split_name] \n",
    "\n",
    "\n",
    "\n",
    "len_ds = len(dataset_test)\n"
   ]
  },
  {
   "cell_type": "markdown",
   "metadata": {},
   "source": [
    "Tests on wether implementaiton of\n",
    "\n",
    "$\n",
    "        \\phi(f;z,z') = \\frac{\\sum_{\\forall z' \\in D_{test}} \\nabla \\ell(z) \\cdot \\nabla \\ell(z')}{ |D_{test}|}\n",
    "$\n",
    "works out with sufficent accuracy via taking the mean of the test gradients first\n",
    "$\n",
    "      = \\frac{1}{ |D_{test}|}\\cdot(\\nabla \\ell(z) \\cdot\\sum_{\\forall z' \\in D_{test}} \\nabla \\ell(z'))\n",
    "$\n"
   ]
  },
  {
   "cell_type": "code",
   "execution_count": 3,
   "metadata": {},
   "outputs": [
    {
     "name": "stdout",
     "output_type": "stream",
     "text": [
      "torch.cuda.device_count() 2\n",
      "0\n",
      "1\n",
      "0\n",
      "1\n",
      "0\n",
      "1\n",
      "0\n",
      "1\n",
      "0\n",
      "1\n",
      "0\n",
      "1\n"
     ]
    },
    {
     "name": "stderr",
     "output_type": "stream",
     "text": [
      "\u001b[34m\u001b[1mwandb\u001b[0m: Currently logged in as: \u001b[33mloriss\u001b[0m to \u001b[32mhttps://api.wandb.ai\u001b[0m. Use \u001b[1m`wandb login --relogin`\u001b[0m to force relogin\n",
      "\u001b[34m\u001b[1mwandb\u001b[0m: Using wandb-core as the SDK backend.  Please refer to https://wandb.me/wandb-core for more information.\n"
     ]
    },
    {
     "data": {
      "text/html": [
       "Tracking run with wandb version 0.19.6"
      ],
      "text/plain": [
       "<IPython.core.display.HTML object>"
      ]
     },
     "metadata": {},
     "output_type": "display_data"
    },
    {
     "data": {
      "text/html": [
       "Run data is saved locally in <code>/data/loriss21dm/babylm/wandb/run-20250213_120823-14skyt78</code>"
      ],
      "text/plain": [
       "<IPython.core.display.HTML object>"
      ]
     },
     "metadata": {},
     "output_type": "display_data"
    },
    {
     "data": {
      "text/html": [
       "Syncing run <strong><a href='https://wandb.ai/loriss/babylm_gradient_extraction/runs/14skyt78' target=\"_blank\">pious-fog-354</a></strong> to <a href='https://wandb.ai/loriss/babylm_gradient_extraction' target=\"_blank\">Weights & Biases</a> (<a href='https://wandb.me/developer-guide' target=\"_blank\">docs</a>)<br>"
      ],
      "text/plain": [
       "<IPython.core.display.HTML object>"
      ]
     },
     "metadata": {},
     "output_type": "display_data"
    },
    {
     "data": {
      "text/html": [
       " View project at <a href='https://wandb.ai/loriss/babylm_gradient_extraction' target=\"_blank\">https://wandb.ai/loriss/babylm_gradient_extraction</a>"
      ],
      "text/plain": [
       "<IPython.core.display.HTML object>"
      ]
     },
     "metadata": {},
     "output_type": "display_data"
    },
    {
     "data": {
      "text/html": [
       " View run at <a href='https://wandb.ai/loriss/babylm_gradient_extraction/runs/14skyt78' target=\"_blank\">https://wandb.ai/loriss/babylm_gradient_extraction/runs/14skyt78</a>"
      ],
      "text/plain": [
       "<IPython.core.display.HTML object>"
      ]
     },
     "metadata": {},
     "output_type": "display_data"
    },
    {
     "name": "stderr",
     "output_type": "stream",
     "text": [
      "2025-02-13 12:08:24,517 - INFO - Getting gradients for checkpoint-/data/loriss21dm/cache/hub/models--loris3--stratified_equitoken_10m_curriculum_random/snapshots/e6648f6a0733fa4e002b0da24ba4614e2445f654/checkpoints/checkpoint-6174\n"
     ]
    },
    {
     "name": "stdout",
     "output_type": "stream",
     "text": [
      "Time to get gradients: 25.8429 s/chunk\n",
      "Time to get gradients: 55.3860 s/chunk\n",
      "Time to get gradients: 57.4563 s/chunk\n",
      "Time to get gradients: 67.0739 s/chunk\n",
      "Time to get gradients: 68.4874 s/chunk\n",
      "Time to get gradients: 70.0945 s/chunk\n"
     ]
    },
    {
     "name": "stderr",
     "output_type": "stream",
     "text": [
      "2025-02-13 12:09:54,538 - INFO - Got gradients for checkpoint-/data/loriss21dm/cache/hub/models--loris3--stratified_equitoken_10m_curriculum_random/snapshots/e6648f6a0733fa4e002b0da24ba4614e2445f654/checkpoints/checkpoint-6174\n"
     ]
    },
    {
     "name": "stdout",
     "output_type": "stream",
     "text": [
      "torch.cuda.device_count() 2\n",
      "0\n",
      "1\n",
      "0\n",
      "1\n",
      "0\n",
      "1\n",
      "0\n",
      "1\n",
      "0\n",
      "1\n",
      "0\n",
      "1\n"
     ]
    },
    {
     "name": "stderr",
     "output_type": "stream",
     "text": [
      "2025-02-13 12:09:58,860 - INFO - Getting gradients for checkpoint-/data/loriss21dm/cache/hub/models--loris3--stratified_equitoken_10m_curriculum_random/snapshots/e6648f6a0733fa4e002b0da24ba4614e2445f654/checkpoints/checkpoint-6174\n"
     ]
    },
    {
     "name": "stdout",
     "output_type": "stream",
     "text": [
      "Time to get gradients: 29.1872 s/chunk\n",
      "Time to get gradients: 64.3173 s/chunk\n",
      "Time to get gradients: 65.4900 s/chunk\n",
      "Time to get gradients: 66.9401 s/chunk\n",
      "Time to get gradients: 69.5325 s/chunk\n",
      "Time to get gradients: 70.6062 s/chunk\n"
     ]
    },
    {
     "name": "stderr",
     "output_type": "stream",
     "text": [
      "2025-02-13 12:11:28,882 - INFO - Got gradients for checkpoint-/data/loriss21dm/cache/hub/models--loris3--stratified_equitoken_10m_curriculum_random/snapshots/e6648f6a0733fa4e002b0da24ba4614e2445f654/checkpoints/checkpoint-6174\n"
     ]
    }
   ],
   "source": [
    "%run extract_gradients.py loris3/stratified_equitoken_10m_curriculum_random loris3/stratified_equitoken_10m_curriculum 0 --dataset_split=validation[0%:10%] --paradigm=mlm --gradients_per_file=1000 --mode=store\n",
    "%run extract_gradients.py loris3/stratified_equitoken_10m_curriculum_random loris3/stratified_equitoken_10m_curriculum 0 --dataset_split=validation[0%:10%] --paradigm=mlm --gradients_per_file=1000 --mode=store_mean"
   ]
  },
  {
   "cell_type": "code",
   "execution_count": 4,
   "metadata": {},
   "outputs": [],
   "source": [
    "def validate_mean_extraction():\n",
    "    cp = \"/data/loriss21dm/babylm/gradients/stratified_equitoken_10m_curriculum_random/stratified_equitoken_10m_curriculum/validation[0%:10%]/checkpoint-6174/\"\n",
    "    paths = os.listdir(cp)\n",
    "    mean_pw = torch.cat([torch.load(os.path.join(cp,p),weights_only=True) for p in paths if p != \"mean\"],axis=0).mean(axis=0, dtype=torch.float64)\n",
    "    mean_script = torch.load(\"/data/loriss21dm/babylm/gradients/stratified_equitoken_10m_curriculum_random/stratified_equitoken_10m_curriculum/validation[0%:10%]/checkpoint-6174/mean\", weights_only=True)\n",
    "    assert torch.cosine_similarity(mean_pw, mean_script).mean().float() == torch.tensor(1.0).float()\n",
    "    assert torch.allclose(mean_pw, mean_script, atol=0.000001)\n",
    "validate_mean_extraction()"
   ]
  },
  {
   "cell_type": "markdown",
   "metadata": {},
   "source": []
  },
  {
   "cell_type": "code",
   "execution_count": 5,
   "metadata": {},
   "outputs": [
    {
     "name": "stdout",
     "output_type": "stream",
     "text": [
      "torch.cuda.device_count() 2\n",
      "0\n",
      "1\n",
      "0\n",
      "1\n",
      "0\n",
      "1\n",
      "0\n",
      "1\n",
      "0\n",
      "1\n",
      "0\n",
      "1\n"
     ]
    },
    {
     "name": "stderr",
     "output_type": "stream",
     "text": [
      "2025-02-13 12:11:38,276 - INFO - Getting gradients for checkpoint-/data/loriss21dm/cache/hub/models--loris3--stratified_equitoken_10m_curriculum_random/snapshots/e6648f6a0733fa4e002b0da24ba4614e2445f654/checkpoints/checkpoint-6174\n"
     ]
    },
    {
     "name": "stdout",
     "output_type": "stream",
     "text": [
      "Time to get gradients: 46.2353 s/chunk\n",
      "Time to get gradients: 69.1387 s/chunk\n",
      "Time to get gradients: 82.3541 s/chunk\n"
     ]
    },
    {
     "name": "stderr",
     "output_type": "stream",
     "text": [
      "2025-02-13 12:13:08,296 - INFO - Got gradients for checkpoint-/data/loriss21dm/cache/hub/models--loris3--stratified_equitoken_10m_curriculum_random/snapshots/e6648f6a0733fa4e002b0da24ba4614e2445f654/checkpoints/checkpoint-6174\n"
     ]
    },
    {
     "name": "stdout",
     "output_type": "stream",
     "text": [
      "torch.cuda.device_count() 2\n",
      "0\n",
      "1\n",
      "0\n",
      "1\n",
      "0\n",
      "1\n",
      "0\n",
      "1\n",
      "0\n",
      "1\n",
      "0\n",
      "1\n"
     ]
    },
    {
     "name": "stderr",
     "output_type": "stream",
     "text": [
      "2025-02-13 12:13:11,736 - INFO - Getting gradients for checkpoint-/data/loriss21dm/cache/hub/models--loris3--stratified_equitoken_10m_curriculum_random/snapshots/e6648f6a0733fa4e002b0da24ba4614e2445f654/checkpoints/checkpoint-6174\n"
     ]
    },
    {
     "name": "stdout",
     "output_type": "stream",
     "text": [
      "Time to get gradients: 52.5773 s/chunk\n",
      "Time to get gradients: 72.6194 s/chunk\n",
      "Time to get gradients: 78.2925 s/chunk\n"
     ]
    },
    {
     "name": "stderr",
     "output_type": "stream",
     "text": [
      "2025-02-13 12:14:41,761 - INFO - Got gradients for checkpoint-/data/loriss21dm/cache/hub/models--loris3--stratified_equitoken_10m_curriculum_random/snapshots/e6648f6a0733fa4e002b0da24ba4614e2445f654/checkpoints/checkpoint-6174\n"
     ]
    }
   ],
   "source": [
    "%run extract_gradients.py loris3/stratified_equitoken_10m_curriculum_random loris3/stratified_equitoken_10m_curriculum 0 --dataset_split=validation[10%:15%] --paradigm=mlm --gradients_per_file=1000 --mode=store\n",
    "%run extract_gradients.py loris3/stratified_equitoken_10m_curriculum_random loris3/stratified_equitoken_10m_curriculum 0 --dataset_split=validation[10%:15%] --paradigm=mlm --gradients_per_file=1000 --mode=store_mean"
   ]
  },
  {
   "cell_type": "code",
   "execution_count": 6,
   "metadata": {},
   "outputs": [
    {
     "name": "stderr",
     "output_type": "stream",
     "text": [
      "2025-02-13 12:14:46,226 - INFO - Calculating influence for checkpoint-/data/loriss21dm/cache/hub/models--loris3--stratified_equitoken_10m_curriculum_random/snapshots/e6648f6a0733fa4e002b0da24ba4614e2445f654/checkpoints/checkpoint-6174\n"
     ]
    },
    {
     "name": "stdout",
     "output_type": "stream",
     "text": [
      "jobs 1\n"
     ]
    },
    {
     "name": "stderr",
     "output_type": "stream",
     "text": [
      "2025-02-13 12:14:49,249 - INFO - Time to load task: 2.9919 seconds\n"
     ]
    },
    {
     "name": "stdout",
     "output_type": "stream",
     "text": [
      "Time to load task: 2.9993 seconds\n"
     ]
    },
    {
     "name": "stderr",
     "output_type": "stream",
     "text": [
      "2025-02-13 12:14:56,395 - INFO - Time to einsum: 7.1366 seconds; 2.3789 s/chunk\n",
      "2025-02-13 12:15:06,327 - INFO - Saved influence for checkpoint\n",
      "2025-02-13 12:15:06,395 - INFO - Got influence for checkpoint-/data/loriss21dm/cache/hub/models--loris3--stratified_equitoken_10m_curriculum_random/snapshots/e6648f6a0733fa4e002b0da24ba4614e2445f654/checkpoints/checkpoint-6174\n"
     ]
    }
   ],
   "source": [
    "%run process_gradients.py loris3/stratified_equitoken_10m_curriculum_random loris3/stratified_equitoken_10m_curriculum 0 --dataset_train_split=validation[0%:10%] --dataset_test=\"loris3/stratified_equitoken_10m_curriculum\" --dataset_test_split=validation[10%:15%] --mode=single --gradients_per_file=1000 --batch_size=20"
   ]
  },
  {
   "cell_type": "code",
   "execution_count": 7,
   "metadata": {},
   "outputs": [],
   "source": [
    "influence_single = torch.load(\"/data/loriss21dm/babylm/influence/stratified_equitoken_10m_curriculum_random/stratified_equitoken_10m_curriculum_validation[0%:10%]_stratified_equitoken_10m_curriculum_validation[10%:15%]/checkpoint-6174\", weights_only=True)\n"
   ]
  },
  {
   "cell_type": "code",
   "execution_count": 8,
   "metadata": {},
   "outputs": [
    {
     "name": "stderr",
     "output_type": "stream",
     "text": [
      "2025-02-13 12:15:12,701 - INFO - Calculating influence for checkpoint-/data/loriss21dm/cache/hub/models--loris3--stratified_equitoken_10m_curriculum_random/snapshots/e6648f6a0733fa4e002b0da24ba4614e2445f654/checkpoints/checkpoint-6174\n"
     ]
    },
    {
     "name": "stdout",
     "output_type": "stream",
     "text": [
      "jobs 1\n"
     ]
    },
    {
     "name": "stderr",
     "output_type": "stream",
     "text": [
      "2025-02-13 12:15:15,516 - INFO - Time to load task: 2.7725 seconds\n"
     ]
    },
    {
     "name": "stdout",
     "output_type": "stream",
     "text": [
      "Time to load task: 2.7803 seconds\n"
     ]
    },
    {
     "name": "stderr",
     "output_type": "stream",
     "text": [
      "2025-02-13 12:15:15,636 - INFO - Time to einsum: 0.1115 seconds; 0.1115 s/chunk\n",
      "2025-02-13 12:15:22,716 - INFO - Saved influence for checkpoint\n",
      "2025-02-13 12:15:22,783 - INFO - Got influence for checkpoint-/data/loriss21dm/cache/hub/models--loris3--stratified_equitoken_10m_curriculum_random/snapshots/e6648f6a0733fa4e002b0da24ba4614e2445f654/checkpoints/checkpoint-6174\n"
     ]
    },
    {
     "name": "stdout",
     "output_type": "stream",
     "text": [
      "chunk_path_a, start_id_a, stop_id_a ./gradients/stratified_equitoken_10m_curriculum_random/stratified_equitoken_10m_curriculum/validation[0%:10%]/checkpoint-6174/0_1000 0 1000\n",
      "chunk_path_a, start_id_a, stop_id_a ./gradients/stratified_equitoken_10m_curriculum_random/stratified_equitoken_10m_curriculum/validation[0%:10%]/checkpoint-6174/1000_2000 1000 2000\n",
      "chunk_path_a, start_id_a, stop_id_a ./gradients/stratified_equitoken_10m_curriculum_random/stratified_equitoken_10m_curriculum/validation[0%:10%]/checkpoint-6174/2000_3000 2000 3000\n",
      "chunk_path_a, start_id_a, stop_id_a ./gradients/stratified_equitoken_10m_curriculum_random/stratified_equitoken_10m_curriculum/validation[0%:10%]/checkpoint-6174/3000_4000 3000 4000\n",
      "chunk_path_a, start_id_a, stop_id_a ./gradients/stratified_equitoken_10m_curriculum_random/stratified_equitoken_10m_curriculum/validation[0%:10%]/checkpoint-6174/4000_5000 4000 5000\n",
      "chunk_path_a, start_id_a, stop_id_a ./gradients/stratified_equitoken_10m_curriculum_random/stratified_equitoken_10m_curriculum/validation[0%:10%]/checkpoint-6174/5000_6000 5000 6000\n"
     ]
    }
   ],
   "source": [
    "%run process_gradients.py loris3/stratified_equitoken_10m_curriculum_random loris3/stratified_equitoken_10m_curriculum 0 --dataset_train_split=validation[0%:10%] --dataset_test=\"loris3/stratified_equitoken_10m_curriculum\" --dataset_test_split=validation[10%:15%] --mode=mean --gradients_per_file=1000 --batch_size=20"
   ]
  },
  {
   "cell_type": "code",
   "execution_count": 9,
   "metadata": {},
   "outputs": [],
   "source": [
    "influence_mean = torch.load(\"/data/loriss21dm/babylm/mean_influence/stratified_equitoken_10m_curriculum_random/stratified_equitoken_10m_curriculum_validation[0%:10%]_stratified_equitoken_10m_curriculum_validation[10%:15%]/checkpoint-6174\", weights_only=True)\n"
   ]
  },
  {
   "cell_type": "code",
   "execution_count": 10,
   "metadata": {},
   "outputs": [
    {
     "data": {
      "text/plain": [
       "torch.Size([1, 5346])"
      ]
     },
     "execution_count": 10,
     "metadata": {},
     "output_type": "execute_result"
    }
   ],
   "source": [
    "influence_mean.shape"
   ]
  },
  {
   "cell_type": "code",
   "execution_count": 11,
   "metadata": {},
   "outputs": [
    {
     "data": {
      "text/plain": [
       "True"
      ]
     },
     "execution_count": 11,
     "metadata": {},
     "output_type": "execute_result"
    }
   ],
   "source": [
    "torch.allclose(influence_single.mean(-1),influence_mean.squeeze())"
   ]
  },
  {
   "cell_type": "code",
   "execution_count": 12,
   "metadata": {},
   "outputs": [
    {
     "data": {
      "image/png": "[encoded data removed]",
      "text/plain": [
       "<Figure size 1500x500 with 2 Axes>"
      ]
     },
     "metadata": {},
     "output_type": "display_data"
    }
   ],
   "source": [
    "tensor = (torch.cosine_similarity(influence_single.mean(-1), influence_mean.squeeze())).unsqueeze(1)\n",
    "\n",
    "\n",
    "array = tensor.numpy()\n",
    "\n",
    "plt.figure(figsize=(15, 5))\n",
    "plt.imshow(array, cmap='viridis', aspect='auto', interpolation=None)\n",
    "plt.colorbar()\n",
    "\n",
    "plt.show()\n"
   ]
  },
  {
   "cell_type": "markdown",
   "metadata": {},
   "source": [
    "Tests of the two modes \"single\" and \"mean\" against eachother for getting the mean influence"
   ]
  },
  {
   "cell_type": "code",
   "execution_count": 13,
   "metadata": {},
   "outputs": [],
   "source": [
    "\n",
    "\n",
    "def load_debug(start, stop):\n",
    "    return torch.arange(start*393216, stop*393216, 1, dtype=torch.float64).reshape(-1,393216) /  (len_ds*393216)\n",
    "\n",
    "gradient_dir = \"./gradients/test/test/test/test\"\n",
    "if not os.path.exists(gradient_dir):\n",
    "    os.makedirs(gradient_dir)\n",
    "    chunks_test = [ (i, min(i+10000, len_ds), os.path.join(gradient_dir, str(i) + \"_\" + str(i + 10000))) for i in range(0, len(dataset_test),10000)]\n",
    "    for start, stop, chunk in chunks_test:\n",
    "        torch.save(load_debug(start, stop), chunk)\n",
    "\n"
   ]
  },
  {
   "cell_type": "code",
   "execution_count": 14,
   "metadata": {},
   "outputs": [],
   "source": [
    "\n",
    "def validate_train_train():\n",
    "    s = None\n",
    "    if not os.path.exists(\"test\"):\n",
    "        data = load_debug(0, len_ds).squeeze()\n",
    "        \n",
    "        with torch.no_grad():\n",
    "            s = torch.matmul(data, data.T).sum(dim=1)\n",
    "        s = s / len_ds\n",
    "        s = s.unsqueeze(0)\n",
    "        torch.save(s, \"test\")\n",
    "    else:\n",
    "        s = torch.load(\"test\")\n",
    "\n",
    "    slurm = torch.load(\"/data/loriss21dm/babylm/mean_influence/test/test_test_test_test/test\")\n",
    "    assert torch.allclose(slurm, s.float())\n",
    " \n",
    "\n",
    "\n",
    "\n",
    "    tensor = (s / slurm).float()\n",
    "\n",
    "\n",
    "    array = tensor.numpy()\n",
    "\n",
    "    plt.figure(figsize=(15, 5))\n",
    "    plt.imshow(array, cmap='viridis', aspect='auto', interpolation=None)\n",
    "    plt.colorbar()\n",
    "\n",
    "    plt.show()\n",
    "\n",
    "\n"
   ]
  },
  {
   "cell_type": "code",
   "execution_count": 15,
   "metadata": {},
   "outputs": [
    {
     "name": "stderr",
     "output_type": "stream",
     "text": [
      "2025-02-13 12:15:55,250 - INFO - Calculating influence for checkpoint-test/test/test/test\n"
     ]
    },
    {
     "name": "stdout",
     "output_type": "stream",
     "text": [
      "jobs 3\n"
     ]
    },
    {
     "ename": "FileNotFoundError",
     "evalue": "[Errno 2] No such file or directory: './gradients/test/test/test/test/10000_20000'",
     "output_type": "error",
     "traceback": [
      "\u001b[0;31m---------------------------------------------------------------------------\u001b[0m",
      "\u001b[0;31mRemoteTraceback\u001b[0m                           Traceback (most recent call last)",
      "\u001b[0;31mRemoteTraceback\u001b[0m: \n\"\"\"\nTraceback (most recent call last):\n  File \"/data/loriss21dm/babylm/.conda/lib/python3.12/multiprocessing/pool.py\", line 125, in worker\n    result = (True, func(*args, **kwds))\n                    ^^^^^^^^^^^^^^^^^^^\n  File \"/data/loriss21dm/babylm/.conda/lib/python3.12/multiprocessing/pool.py\", line 51, in starmapstar\n    return list(itertools.starmap(args[0], args[1]))\n           ^^^^^^^^^^^^^^^^^^^^^^^^^^^^^^^^^^^^^^^^^\n  File \"/data/loriss21dm/babylm/process_gradients.py\", line 147, in calc_partial\n    chunks_a = list(executor.map(lambda task: (load_fn(task[0]), task[1], task[2]), tasks))\n               ^^^^^^^^^^^^^^^^^^^^^^^^^^^^^^^^^^^^^^^^^^^^^^^^^^^^^^^^^^^^^^^^^^^^^^^^^^^^\n  File \"/data/loriss21dm/babylm/.conda/lib/python3.12/concurrent/futures/_base.py\", line 619, in result_iterator\n    yield _result_or_cancel(fs.pop())\n          ^^^^^^^^^^^^^^^^^^^^^^^^^^^\n  File \"/data/loriss21dm/babylm/.conda/lib/python3.12/concurrent/futures/_base.py\", line 317, in _result_or_cancel\n    return fut.result(timeout)\n           ^^^^^^^^^^^^^^^^^^^\n  File \"/data/loriss21dm/babylm/.conda/lib/python3.12/concurrent/futures/_base.py\", line 449, in result\n    return self.__get_result()\n           ^^^^^^^^^^^^^^^^^^^\n  File \"/data/loriss21dm/babylm/.conda/lib/python3.12/concurrent/futures/_base.py\", line 401, in __get_result\n    raise self._exception\n  File \"/data/loriss21dm/babylm/.conda/lib/python3.12/concurrent/futures/thread.py\", line 59, in run\n    result = self.fn(*self.args, **self.kwargs)\n             ^^^^^^^^^^^^^^^^^^^^^^^^^^^^^^^^^^\n  File \"/data/loriss21dm/babylm/process_gradients.py\", line 147, in <lambda>\n    chunks_a = list(executor.map(lambda task: (load_fn(task[0]), task[1], task[2]), tasks))\n                                               ^^^^^^^^^^^^^^^^\n  File \"/data/loriss21dm/babylm/process_gradients.py\", line 142, in <lambda>\n    load_fn = lambda chunk_path: torch.load(chunk_path,weights_only=True).to(torch.float64).flatten(1)\n                                 ^^^^^^^^^^^^^^^^^^^^^^^^^^^^^^^^^^^^^^^^\n  File \"/data/loriss21dm/babylm/.conda/lib/python3.12/site-packages/torch/serialization.py\", line 1319, in load\n    with _open_file_like(f, \"rb\") as opened_file:\n         ^^^^^^^^^^^^^^^^^^^^^^^^\n  File \"/data/loriss21dm/babylm/.conda/lib/python3.12/site-packages/torch/serialization.py\", line 659, in _open_file_like\n    return _open_file(name_or_buffer, mode)\n           ^^^^^^^^^^^^^^^^^^^^^^^^^^^^^^^^\n  File \"/data/loriss21dm/babylm/.conda/lib/python3.12/site-packages/torch/serialization.py\", line 640, in __init__\n    super().__init__(open(name, mode))\n                     ^^^^^^^^^^^^^^^^\nFileNotFoundError: [Errno 2] No such file or directory: './gradients/test/test/test/test/10000_20000'\n\"\"\"",
      "\nThe above exception was the direct cause of the following exception:\n",
      "\u001b[0;31mFileNotFoundError\u001b[0m                         Traceback (most recent call last)",
      "File \u001b[0;32m/data/loriss21dm/babylm/process_gradients.py:291\u001b[0m\n\u001b[1;32m    286\u001b[0m     run\u001b[38;5;241m.\u001b[39mlog({\u001b[38;5;124m\"\u001b[39m\u001b[38;5;124minfluence/pool_ram_usage\u001b[39m\u001b[38;5;124m\"\u001b[39m:util\u001b[38;5;241m.\u001b[39mget_pool_memory_usage(pool_merge)}, commit\u001b[38;5;241m=\u001b[39m\u001b[38;5;28;01mTrue\u001b[39;00m)\n\u001b[1;32m    287\u001b[0m     time\u001b[38;5;241m.\u001b[39msleep(\u001b[38;5;241m10\u001b[39m)   \n\u001b[0;32m--> 291\u001b[0m results \u001b[38;5;241m=\u001b[39m \u001b[43mr\u001b[49m\u001b[38;5;241;43m.\u001b[39;49m\u001b[43mget\u001b[49m\u001b[43m(\u001b[49m\u001b[43m)\u001b[49m\n\u001b[1;32m    293\u001b[0m \u001b[38;5;28;01mif\u001b[39;00m args\u001b[38;5;241m.\u001b[39mmode \u001b[38;5;241m==\u001b[39m \u001b[38;5;124m\"\u001b[39m\u001b[38;5;124msingle\u001b[39m\u001b[38;5;124m\"\u001b[39m:\n\u001b[1;32m    294\u001b[0m     \u001b[38;5;28;01mfor\u001b[39;00m result, start_id_a, stop_id_a, start_id_b, stop_id_b \u001b[38;5;129;01min\u001b[39;00m results[\u001b[38;5;241m0\u001b[39m]:\n",
      "File \u001b[0;32m/data/loriss21dm/babylm/.conda/lib/python3.12/multiprocessing/pool.py:774\u001b[0m, in \u001b[0;36mApplyResult.get\u001b[0;34m(self, timeout)\u001b[0m\n\u001b[1;32m    772\u001b[0m     \u001b[38;5;28;01mreturn\u001b[39;00m \u001b[38;5;28mself\u001b[39m\u001b[38;5;241m.\u001b[39m_value\n\u001b[1;32m    773\u001b[0m \u001b[38;5;28;01melse\u001b[39;00m:\n\u001b[0;32m--> 774\u001b[0m     \u001b[38;5;28;01mraise\u001b[39;00m \u001b[38;5;28mself\u001b[39m\u001b[38;5;241m.\u001b[39m_value\n",
      "\u001b[0;31mFileNotFoundError\u001b[0m: [Errno 2] No such file or directory: './gradients/test/test/test/test/10000_20000'"
     ]
    }
   ],
   "source": [
    "%run process_gradients.py test test 0 --mode=mean --dataset_test_split=test --dataset_train_split=test --test=True --test_dataset_size=53457 --gradients_per_file=10000 --batch_size=2"
   ]
  },
  {
   "cell_type": "code",
   "execution_count": 16,
   "metadata": {},
   "outputs": [
    {
     "name": "stderr",
     "output_type": "stream",
     "text": [
      "/tmp/ipykernel_500686/513167037.py:12: FutureWarning: You are using `torch.load` with `weights_only=False` (the current default value), which uses the default pickle module implicitly. It is possible to construct malicious pickle data which will execute arbitrary code during unpickling (See https://github.com/pytorch/pytorch/blob/main/SECURITY.md#untrusted-models for more details). In a future release, the default value for `weights_only` will be flipped to `True`. This limits the functions that could be executed during unpickling. Arbitrary objects will no longer be allowed to be loaded via this mode unless they are explicitly allowlisted by the user via `torch.serialization.add_safe_globals`. We recommend you start setting `weights_only=True` for any use case where you don't have full control of the loaded file. Please open an issue on GitHub for any issues related to this experimental feature.\n",
      "  s = torch.load(\"test\")\n",
      "/tmp/ipykernel_500686/513167037.py:14: FutureWarning: You are using `torch.load` with `weights_only=False` (the current default value), which uses the default pickle module implicitly. It is possible to construct malicious pickle data which will execute arbitrary code during unpickling (See https://github.com/pytorch/pytorch/blob/main/SECURITY.md#untrusted-models for more details). In a future release, the default value for `weights_only` will be flipped to `True`. This limits the functions that could be executed during unpickling. Arbitrary objects will no longer be allowed to be loaded via this mode unless they are explicitly allowlisted by the user via `torch.serialization.add_safe_globals`. We recommend you start setting `weights_only=True` for any use case where you don't have full control of the loaded file. Please open an issue on GitHub for any issues related to this experimental feature.\n",
      "  slurm = torch.load(\"/data/loriss21dm/babylm/mean_influence/test/test_test_test_test/test\")\n"
     ]
    },
    {
     "ename": "FileNotFoundError",
     "evalue": "[Errno 2] No such file or directory: '/data/loriss21dm/babylm/mean_influence/test/test_test_test_test/test'",
     "output_type": "error",
     "traceback": [
      "\u001b[0;31m---------------------------------------------------------------------------\u001b[0m",
      "\u001b[0;31mFileNotFoundError\u001b[0m                         Traceback (most recent call last)",
      "Cell \u001b[0;32mIn[16], line 1\u001b[0m\n\u001b[0;32m----> 1\u001b[0m \u001b[43mvalidate_train_train\u001b[49m\u001b[43m(\u001b[49m\u001b[43m)\u001b[49m\n",
      "Cell \u001b[0;32mIn[14], line 14\u001b[0m, in \u001b[0;36mvalidate_train_train\u001b[0;34m()\u001b[0m\n\u001b[1;32m     11\u001b[0m \u001b[38;5;28;01melse\u001b[39;00m:\n\u001b[1;32m     12\u001b[0m     s \u001b[38;5;241m=\u001b[39m torch\u001b[38;5;241m.\u001b[39mload(\u001b[38;5;124m\"\u001b[39m\u001b[38;5;124mtest\u001b[39m\u001b[38;5;124m\"\u001b[39m)\n\u001b[0;32m---> 14\u001b[0m slurm \u001b[38;5;241m=\u001b[39m \u001b[43mtorch\u001b[49m\u001b[38;5;241;43m.\u001b[39;49m\u001b[43mload\u001b[49m\u001b[43m(\u001b[49m\u001b[38;5;124;43m\"\u001b[39;49m\u001b[38;5;124;43m/data/loriss21dm/babylm/mean_influence/test/test_test_test_test/test\u001b[39;49m\u001b[38;5;124;43m\"\u001b[39;49m\u001b[43m)\u001b[49m\n\u001b[1;32m     15\u001b[0m \u001b[38;5;28;01massert\u001b[39;00m torch\u001b[38;5;241m.\u001b[39mallclose(slurm, s\u001b[38;5;241m.\u001b[39mfloat())\n\u001b[1;32m     20\u001b[0m tensor \u001b[38;5;241m=\u001b[39m (s \u001b[38;5;241m/\u001b[39m slurm)\u001b[38;5;241m.\u001b[39mfloat()\n",
      "File \u001b[0;32m/data/loriss21dm/babylm/.conda/lib/python3.12/site-packages/torch/serialization.py:1319\u001b[0m, in \u001b[0;36mload\u001b[0;34m(f, map_location, pickle_module, weights_only, mmap, **pickle_load_args)\u001b[0m\n\u001b[1;32m   1316\u001b[0m \u001b[38;5;28;01mif\u001b[39;00m \u001b[38;5;124m\"\u001b[39m\u001b[38;5;124mencoding\u001b[39m\u001b[38;5;124m\"\u001b[39m \u001b[38;5;129;01mnot\u001b[39;00m \u001b[38;5;129;01min\u001b[39;00m pickle_load_args\u001b[38;5;241m.\u001b[39mkeys():\n\u001b[1;32m   1317\u001b[0m     pickle_load_args[\u001b[38;5;124m\"\u001b[39m\u001b[38;5;124mencoding\u001b[39m\u001b[38;5;124m\"\u001b[39m] \u001b[38;5;241m=\u001b[39m \u001b[38;5;124m\"\u001b[39m\u001b[38;5;124mutf-8\u001b[39m\u001b[38;5;124m\"\u001b[39m\n\u001b[0;32m-> 1319\u001b[0m \u001b[38;5;28;01mwith\u001b[39;00m \u001b[43m_open_file_like\u001b[49m\u001b[43m(\u001b[49m\u001b[43mf\u001b[49m\u001b[43m,\u001b[49m\u001b[43m \u001b[49m\u001b[38;5;124;43m\"\u001b[39;49m\u001b[38;5;124;43mrb\u001b[39;49m\u001b[38;5;124;43m\"\u001b[39;49m\u001b[43m)\u001b[49m \u001b[38;5;28;01mas\u001b[39;00m opened_file:\n\u001b[1;32m   1320\u001b[0m     \u001b[38;5;28;01mif\u001b[39;00m _is_zipfile(opened_file):\n\u001b[1;32m   1321\u001b[0m         \u001b[38;5;66;03m# The zipfile reader is going to advance the current file position.\u001b[39;00m\n\u001b[1;32m   1322\u001b[0m         \u001b[38;5;66;03m# If we want to actually tail call to torch.jit.load, we need to\u001b[39;00m\n\u001b[1;32m   1323\u001b[0m         \u001b[38;5;66;03m# reset back to the original position.\u001b[39;00m\n\u001b[1;32m   1324\u001b[0m         orig_position \u001b[38;5;241m=\u001b[39m opened_file\u001b[38;5;241m.\u001b[39mtell()\n",
      "File \u001b[0;32m/data/loriss21dm/babylm/.conda/lib/python3.12/site-packages/torch/serialization.py:659\u001b[0m, in \u001b[0;36m_open_file_like\u001b[0;34m(name_or_buffer, mode)\u001b[0m\n\u001b[1;32m    657\u001b[0m \u001b[38;5;28;01mdef\u001b[39;00m\u001b[38;5;250m \u001b[39m\u001b[38;5;21m_open_file_like\u001b[39m(name_or_buffer, mode):\n\u001b[1;32m    658\u001b[0m     \u001b[38;5;28;01mif\u001b[39;00m _is_path(name_or_buffer):\n\u001b[0;32m--> 659\u001b[0m         \u001b[38;5;28;01mreturn\u001b[39;00m \u001b[43m_open_file\u001b[49m\u001b[43m(\u001b[49m\u001b[43mname_or_buffer\u001b[49m\u001b[43m,\u001b[49m\u001b[43m \u001b[49m\u001b[43mmode\u001b[49m\u001b[43m)\u001b[49m\n\u001b[1;32m    660\u001b[0m     \u001b[38;5;28;01melse\u001b[39;00m:\n\u001b[1;32m    661\u001b[0m         \u001b[38;5;28;01mif\u001b[39;00m \u001b[38;5;124m\"\u001b[39m\u001b[38;5;124mw\u001b[39m\u001b[38;5;124m\"\u001b[39m \u001b[38;5;129;01min\u001b[39;00m mode:\n",
      "File \u001b[0;32m/data/loriss21dm/babylm/.conda/lib/python3.12/site-packages/torch/serialization.py:640\u001b[0m, in \u001b[0;36m_open_file.__init__\u001b[0;34m(self, name, mode)\u001b[0m\n\u001b[1;32m    639\u001b[0m \u001b[38;5;28;01mdef\u001b[39;00m\u001b[38;5;250m \u001b[39m\u001b[38;5;21m__init__\u001b[39m(\u001b[38;5;28mself\u001b[39m, name, mode):\n\u001b[0;32m--> 640\u001b[0m     \u001b[38;5;28msuper\u001b[39m()\u001b[38;5;241m.\u001b[39m\u001b[38;5;21m__init__\u001b[39m(\u001b[38;5;28;43mopen\u001b[39;49m\u001b[43m(\u001b[49m\u001b[43mname\u001b[49m\u001b[43m,\u001b[49m\u001b[43m \u001b[49m\u001b[43mmode\u001b[49m\u001b[43m)\u001b[49m)\n",
      "\u001b[0;31mFileNotFoundError\u001b[0m: [Errno 2] No such file or directory: '/data/loriss21dm/babylm/mean_influence/test/test_test_test_test/test'"
     ]
    }
   ],
   "source": [
    "validate_train_train()"
   ]
  },
  {
   "cell_type": "code",
   "execution_count": null,
   "metadata": {},
   "outputs": [],
   "source": [
    "%run process_gradients.py test test 0 --mode=mean --dataset_test_split=test --dataset_train_split=test --test=True --test_dataset_size=53457 --gradients_per_file=10000 --batch_size=1"
   ]
  },
  {
   "cell_type": "code",
   "execution_count": null,
   "metadata": {},
   "outputs": [],
   "source": [
    "validate_train_train()"
   ]
  },
  {
   "cell_type": "code",
   "execution_count": null,
   "metadata": {},
   "outputs": [],
   "source": [
    "%run process_gradients.py test test 0 --mode=mean --dataset_test_split=test --dataset_train_split=test --test=True --test_dataset_size=53457 --gradients_per_file=10000 --batch_size=20"
   ]
  },
  {
   "cell_type": "code",
   "execution_count": null,
   "metadata": {},
   "outputs": [],
   "source": [
    "validate_train_train()"
   ]
  }
 ],
 "metadata": {
  "kernelspec": {
   "display_name": "Python 3",
   "language": "python",
   "name": "python3"
  },
  "language_info": {
   "codemirror_mode": {
    "name": "ipython",
    "version": 3
   },
   "file_extension": ".py",
   "mimetype": "text/x-python",
   "name": "python",
   "nbconvert_exporter": "python",
   "pygments_lexer": "ipython3",
   "version": "3.12.8"
  }
 },
 "nbformat": 4,
 "nbformat_minor": 2
}
