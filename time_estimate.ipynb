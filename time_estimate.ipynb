{
 "cells": [
  {
   "cell_type": "markdown",
   "metadata": {},
   "source": [
    "### Time Estimate\n"
   ]
  },
  {
   "cell_type": "code",
   "execution_count": null,
   "metadata": {},
   "outputs": [],
   "source": [
    "def to_minutes(x):\n",
    "    hours, minutes = map(int, x.split(\":\"))\n",
    "    return hours*60+minutes\n",
    "\n",
    "PRETRAINING = to_minutes(\"3:16\")\n",
    "INFLUENCE = to_minutes(\"6:00\")\n",
    "EVALUATION = to_minutes(\"0:30\")\n",
    "\n"
   ]
  },
  {
   "cell_type": "code",
   "execution_count": 2,
   "metadata": {},
   "outputs": [],
   "source": [
    "total = 0"
   ]
  },
  {
   "cell_type": "code",
   "execution_count": 3,
   "metadata": {},
   "outputs": [],
   "source": [
    "import config\n",
    "from itertools import product\n"
   ]
  },
  {
   "cell_type": "code",
   "execution_count": 4,
   "metadata": {},
   "outputs": [
    {
     "name": "stdout",
     "output_type": "stream",
     "text": [
      "66\n"
     ]
    }
   ],
   "source": [
    "pretraining_jobs = list(product(config.datasets, config.model_types, config.baseline_curricula))  +\\\n",
    "     [(dataset, model_type, model_type + curriculum) for dataset, model_type, curriculum in product(config.datasets, config.model_types, config.influence_curricula)]\n",
    "       \n",
    "print(len(pretraining_jobs))\n",
    "total += len(pretraining_jobs) * PRETRAINING"
   ]
  },
  {
   "cell_type": "code",
   "execution_count": 5,
   "metadata": {},
   "outputs": [
    {
     "name": "stdout",
     "output_type": "stream",
     "text": [
      "6\n"
     ]
    }
   ],
   "source": [
    "influence_estimation_jobs = list(product(config.datasets, config.model_types))\n",
    "   \n",
    "print(len(influence_estimation_jobs))\n",
    "total += len(influence_estimation_jobs) * INFLUENCE"
   ]
  },
  {
   "cell_type": "code",
   "execution_count": 6,
   "metadata": {},
   "outputs": [],
   "source": [
    "\n",
    "total += len(pretraining_jobs) * EVALUATION"
   ]
  },
  {
   "cell_type": "code",
   "execution_count": 7,
   "metadata": {},
   "outputs": [
    {
     "name": "stdout",
     "output_type": "stream",
     "text": [
      "sequential: 13 days, 1 hour, 12 minutes\n",
      "8 gpus: 6.0 days, 12.0 hours, 36.0 minutes\n",
      "12 gpus: 4.0 days, 8.0 hours, 24.0 minutes\n"
     ]
    }
   ],
   "source": [
    "def format_minutes(minutes):\n",
    "    days = minutes // 1440 \n",
    "    hours = (minutes % 1440) // 60\n",
    "    mins = minutes % 60\n",
    "    parts = []\n",
    "    if days:\n",
    "        parts.append(f\"{days} day{'s' if days > 1 else ''}\")\n",
    "    if hours:\n",
    "        parts.append(f\"{hours} hour{'s' if hours > 1 else ''}\")\n",
    "    if mins or not parts:\n",
    "        parts.append(f\"{mins} minute{'s' if mins > 1 else ''}\")\n",
    "    \n",
    "    return \", \".join(parts)\n",
    "print(\"sequential:\",format_minutes(total))\n",
    "print(\"8 gpus:\",format_minutes(total/2))\n",
    "print(\"12 gpus:\",format_minutes(total/3))"
   ]
  }
 ],
 "metadata": {
  "kernelspec": {
   "display_name": "Python 3 (ipykernel)",
   "language": "python",
   "name": "python3"
  },
  "language_info": {
   "codemirror_mode": {
    "name": "ipython",
    "version": 3
   },
   "file_extension": ".py",
   "mimetype": "text/x-python",
   "name": "python",
   "nbconvert_exporter": "python",
   "pygments_lexer": "ipython3",
   "version": "3.10.12"
  }
 },
 "nbformat": 4,
 "nbformat_minor": 2
}
