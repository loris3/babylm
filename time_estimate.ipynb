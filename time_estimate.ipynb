{
 "cells": [
  {
   "cell_type": "markdown",
   "metadata": {},
   "source": [
    "### Time Estimate\n"
   ]
  },
  {
   "cell_type": "code",
   "execution_count": 1,
   "metadata": {},
   "outputs": [
    {
     "name": "stdout",
     "output_type": "stream",
     "text": [
      "{'dataset_folder': './curricula/datasets/curriculum_10M_2024', 'raw_dataset_folder_babylm': './train_10M', 'curriculum_path': './curricula/random_10M_2024', 'eval_dataset_folder': './curricula/datasets/curriculum_10M_2024_eval', 'epochs': 10}\n"
     ]
    }
   ],
   "source": [
    "CONFIG = \"./configs/random_10M_2024\"\n",
    "import json\n",
    "args = None\n",
    "with open(CONFIG) as f:\n",
    "    args = json.load(f)\n",
    "    print(args)\n",
    "args[\"gradients_per_file\"] = 10000"
   ]
  },
  {
   "cell_type": "markdown",
   "metadata": {},
   "source": []
  },
  {
   "cell_type": "code",
   "execution_count": 2,
   "metadata": {},
   "outputs": [],
   "source": [
    "total_in_h = 0\n"
   ]
  },
  {
   "cell_type": "code",
   "execution_count": 3,
   "metadata": {},
   "outputs": [],
   "source": [
    "from datasets import load_dataset\n",
    "import datasets\n",
    "t = lambda x : tokenizer(x[\"text\"], return_special_tokens_mask=True, truncation=True, max_length=512)\n",
    "\n",
    "dataset = datasets.load_from_disk(args[\"dataset_folder\"])\n",
    "dataset.set_transform(t)\n",
    "\n",
    "\n",
    "\n"
   ]
  },
  {
   "cell_type": "code",
   "execution_count": 4,
   "metadata": {},
   "outputs": [
    {
     "name": "stdout",
     "output_type": "stream",
     "text": [
      "117.9014 chunks per checkpoint\n"
     ]
    }
   ],
   "source": [
    "print(len(dataset) / args[\"gradients_per_file\"], \"chunks per checkpoint\")"
   ]
  },
  {
   "cell_type": "markdown",
   "metadata": {},
   "source": [
    "#### gradient extraction"
   ]
  },
  {
   "cell_type": "code",
   "execution_count": 5,
   "metadata": {},
   "outputs": [],
   "source": [
    "args[\"num_processes\"] = 6\n",
    "TIME_PER_BATCH_IN_MIN = 441/60"
   ]
  },
  {
   "cell_type": "code",
   "execution_count": 6,
   "metadata": {},
   "outputs": [
    {
     "name": "stdout",
     "output_type": "stream",
     "text": [
      "24.07153583333333 hours total 2.407153583333333 hours per checkpoint\n"
     ]
    }
   ],
   "source": [
    "time_if = ((((len(dataset) / args[\"gradients_per_file\"]) *args[\"epochs\"]) /args[\"num_processes\"]) * TIME_PER_BATCH_IN_MIN)/60\n",
    "print(time_if, \"hours total\", time_if/args[\"epochs\"], \"hours per checkpoint\")\n",
    "total_in_h+=time_if"
   ]
  },
  {
   "cell_type": "code",
   "execution_count": 7,
   "metadata": {},
   "outputs": [],
   "source": [
    "SIZE_IN_GB_OF_CHUNK = 7.4\n"
   ]
  },
  {
   "cell_type": "code",
   "execution_count": 8,
   "metadata": {},
   "outputs": [
    {
     "name": "stdout",
     "output_type": "stream",
     "text": [
      "0.87247036 TB disk space required\n"
     ]
    }
   ],
   "source": [
    "print((len(dataset) / args[\"gradients_per_file\"]) * SIZE_IN_GB_OF_CHUNK/1000, \"TB disk space required\")"
   ]
  },
  {
   "cell_type": "markdown",
   "metadata": {},
   "source": [
    "#### mean dot"
   ]
  },
  {
   "cell_type": "code",
   "execution_count": 9,
   "metadata": {},
   "outputs": [],
   "source": [
    "args[\"batch_size\"] = 20\n",
    "args[\"num_processes\"] = 4\n",
    "\n",
    "SIZE_IN_GB_OF_CHUNK = 7.4 # ls\n",
    "time_single_chunk = 15.36 # get from log\n",
    "time_load_task = 110 # get from log"
   ]
  },
  {
   "cell_type": "code",
   "execution_count": 10,
   "metadata": {},
   "outputs": [
    {
     "name": "stdout",
     "output_type": "stream",
     "text": [
      "RAM requirements 621.6 GB\n"
     ]
    }
   ],
   "source": [
    "print(\"RAM requirements\", (args[\"batch_size\"]+1)*args[\"num_processes\"]*SIZE_IN_GB_OF_CHUNK, \"GB\")"
   ]
  },
  {
   "cell_type": "code",
   "execution_count": 11,
   "metadata": {},
   "outputs": [
    {
     "name": "stdout",
     "output_type": "stream",
     "text": [
      "Time for a single epoch and one process 3.1456183649070217 hours\n",
      "Total time with multiprocessing 7.864045912267555 hours\n"
     ]
    }
   ],
   "source": [
    "\n",
    "\n",
    "num_chunks =(((len(dataset) / args[\"gradients_per_file\"])))\n",
    "num_batches = num_chunks / args[\"batch_size\"]\n",
    "\n",
    "time_single_batch = (num_chunks * time_single_chunk) + time_load_task\n",
    "time_single_epoch = (num_batches * time_single_batch) \n",
    "print(\"Time for a single epoch and one process\", time_single_epoch /60/60, \"hours\")\n",
    "total_merge = (time_single_epoch * args[\"epochs\"] /args[\"num_processes\"])/60/60\n",
    "print(\"Total time with multiprocessing\", total_merge, \"hours\")\n",
    "total_in_h += total_merge"
   ]
  },
  {
   "cell_type": "markdown",
   "metadata": {},
   "source": [
    "## Total"
   ]
  },
  {
   "cell_type": "code",
   "execution_count": 12,
   "metadata": {},
   "outputs": [
    {
     "name": "stdout",
     "output_type": "stream",
     "text": [
      "31.935581745600885 hours\n"
     ]
    }
   ],
   "source": [
    "print(total_in_h, \"hours\")"
   ]
  },
  {
   "cell_type": "code",
   "execution_count": null,
   "metadata": {},
   "outputs": [],
   "source": []
  },
  {
   "cell_type": "code",
   "execution_count": null,
   "metadata": {},
   "outputs": [],
   "source": []
  },
  {
   "cell_type": "code",
   "execution_count": null,
   "metadata": {},
   "outputs": [],
   "source": []
  },
  {
   "cell_type": "code",
   "execution_count": null,
   "metadata": {},
   "outputs": [],
   "source": []
  },
  {
   "cell_type": "code",
   "execution_count": null,
   "metadata": {},
   "outputs": [],
   "source": []
  },
  {
   "cell_type": "code",
   "execution_count": null,
   "metadata": {},
   "outputs": [],
   "source": []
  },
  {
   "cell_type": "code",
   "execution_count": null,
   "metadata": {},
   "outputs": [],
   "source": []
  },
  {
   "cell_type": "code",
   "execution_count": null,
   "metadata": {},
   "outputs": [],
   "source": []
  },
  {
   "cell_type": "code",
   "execution_count": null,
   "metadata": {},
   "outputs": [],
   "source": []
  },
  {
   "cell_type": "code",
   "execution_count": null,
   "metadata": {},
   "outputs": [],
   "source": []
  }
 ],
 "metadata": {
  "kernelspec": {
   "display_name": "Python 3 (ipykernel)",
   "language": "python",
   "name": "python3"
  },
  "language_info": {
   "codemirror_mode": {
    "name": "ipython",
    "version": 3
   },
   "file_extension": ".py",
   "mimetype": "text/x-python",
   "name": "python",
   "nbconvert_exporter": "python",
   "pygments_lexer": "ipython3",
   "version": "3.10.12"
  }
 },
 "nbformat": 4,
 "nbformat_minor": 2
}
