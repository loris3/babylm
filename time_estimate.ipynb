{
 "cells": [
  {
   "cell_type": "markdown",
   "metadata": {},
   "source": [
    "### Time Estimate\n"
   ]
  },
  {
   "cell_type": "code",
   "execution_count": 1,
   "metadata": {},
   "outputs": [
    {
     "name": "stdout",
     "output_type": "stream",
     "text": [
      "{'dataset_folder': './curricula/datasets/curriculum_10M_2024', 'raw_dataset_folder_babylm': './train_10M', 'curriculum_path': './curricula/random_10M_2024', 'eval_dataset_folder': './curricula/datasets/curriculum_10M_2024_eval', 'epochs': 10}\n"
     ]
    }
   ],
   "source": [
    "CONFIG = \"./configs/random_10M_2024\"\n",
    "import json\n",
    "args = None\n",
    "with open(CONFIG) as f:\n",
    "    args = json.load(f)\n",
    "    print(args)\n",
    "args[\"gradients_per_file\"] = 10000"
   ]
  },
  {
   "cell_type": "markdown",
   "metadata": {},
   "source": []
  },
  {
   "cell_type": "code",
   "execution_count": 2,
   "metadata": {},
   "outputs": [],
   "source": [
    "total_in_h = 0\n"
   ]
  },
  {
   "cell_type": "code",
   "execution_count": 3,
   "metadata": {},
   "outputs": [],
   "source": [
    "from datasets import load_dataset\n",
    "import datasets\n",
    "t = lambda x : tokenizer(x[\"text\"], return_special_tokens_mask=True, truncation=True, max_length=512)\n",
    "\n",
    "dataset = datasets.load_from_disk(args[\"dataset_folder\"])\n",
    "dataset.set_transform(t)\n",
    "\n",
    "\n",
    "\n"
   ]
  },
  {
   "cell_type": "code",
   "execution_count": 4,
   "metadata": {},
   "outputs": [
    {
     "name": "stdout",
     "output_type": "stream",
     "text": [
      "117.9014 chunks per checkpoint\n"
     ]
    }
   ],
   "source": [
    "print(len(dataset) / args[\"gradients_per_file\"], \"chunks per checkpoint\")"
   ]
  },
  {
   "cell_type": "markdown",
   "metadata": {},
   "source": [
    "#### gradient extraction"
   ]
  },
  {
   "cell_type": "code",
   "execution_count": 5,
   "metadata": {},
   "outputs": [],
   "source": [
    "args[\"num_processes\"] = 8\n",
    "TIME_PER_BATCH_IN_MIN = 597/60"
   ]
  },
  {
   "cell_type": "code",
   "execution_count": 6,
   "metadata": {},
   "outputs": [],
   "source": [
    "args[\"num_processes\"] = 4\n",
    "TIME_PER_BATCH_IN_MIN = 350/60"
   ]
  },
  {
   "cell_type": "code",
   "execution_count": 7,
   "metadata": {},
   "outputs": [],
   "source": [
    "args[\"num_processes\"] = 6\n",
    "TIME_PER_BATCH_IN_MIN = 450/60"
   ]
  },
  {
   "cell_type": "code",
   "execution_count": 8,
   "metadata": {},
   "outputs": [
    {
     "data": {
      "text/plain": [
       "0.10068027210884353"
      ]
     },
     "execution_count": 8,
     "metadata": {},
     "output_type": "execute_result"
    }
   ],
   "source": [
    "(7.4/(441))*args[\"num_processes\"]"
   ]
  },
  {
   "cell_type": "code",
   "execution_count": 9,
   "metadata": {},
   "outputs": [
    {
     "name": "stdout",
     "output_type": "stream",
     "text": [
      "24.562791666666666 hours total 2.4562791666666666 hours per checkpoint\n"
     ]
    }
   ],
   "source": [
    "time_if = ((((len(dataset) / args[\"gradients_per_file\"]) *args[\"epochs\"]) /args[\"num_processes\"]) * TIME_PER_BATCH_IN_MIN)/60\n",
    "print(time_if, \"hours total\", time_if/args[\"epochs\"], \"hours per checkpoint\")\n",
    "total_in_h+=time_if"
   ]
  },
  {
   "cell_type": "code",
   "execution_count": 10,
   "metadata": {},
   "outputs": [],
   "source": [
    "SIZE_IN_GB_OF_CHUNK = 7.4\n"
   ]
  },
  {
   "cell_type": "code",
   "execution_count": 11,
   "metadata": {},
   "outputs": [
    {
     "name": "stdout",
     "output_type": "stream",
     "text": [
      "0.87247036 TB disk space required\n"
     ]
    }
   ],
   "source": [
    "print((len(dataset) / args[\"gradients_per_file\"]) * SIZE_IN_GB_OF_CHUNK/1000, \"TB disk space required\")"
   ]
  },
  {
   "cell_type": "code",
   "execution_count": 12,
   "metadata": {},
   "outputs": [
    {
     "data": {
      "text/plain": [
       "19.766666666666666"
      ]
     },
     "execution_count": 12,
     "metadata": {},
     "output_type": "execute_result"
    }
   ],
   "source": [
    "1186/60"
   ]
  },
  {
   "cell_type": "code",
   "execution_count": 64,
   "metadata": {},
   "outputs": [
    {
     "data": {
      "text/plain": [
       "5.5"
      ]
     },
     "execution_count": 64,
     "metadata": {},
     "output_type": "execute_result"
    }
   ],
   "source": [
    "110/20"
   ]
  },
  {
   "cell_type": "code",
   "execution_count": 66,
   "metadata": {},
   "outputs": [],
   "source": [
    "times = [83.8105,\n",
    "86.6202,\n",
    "104.5324,\n",
    "110.7415]"
   ]
  },
  {
   "cell_type": "code",
   "execution_count": 71,
   "metadata": {},
   "outputs": [
    {
     "data": {
      "text/plain": [
       "4.8213075"
      ]
     },
     "execution_count": 71,
     "metadata": {},
     "output_type": "execute_result"
    }
   ],
   "source": [
    "import numpy as np\n",
    "np.mean([t/20 for t in times])"
   ]
  },
  {
   "cell_type": "code",
   "execution_count": null,
   "metadata": {},
   "outputs": [],
   "source": []
  },
  {
   "cell_type": "code",
   "execution_count": 151,
   "metadata": {},
   "outputs": [
    {
     "data": {
      "text/plain": [
       "0.4114333333333334"
      ]
     },
     "execution_count": 151,
     "metadata": {},
     "output_type": "execute_result"
    }
   ],
   "source": [
    "time_einsum = np.array([14.8114,\n",
    "14.6099,\n",
    "14.8382,\n",
    "14.6639,\n",
    "10.3062,\n",
    "10.1424])\n",
    "np.mean(time_einsum - time_load_single_chunk)/20"
   ]
  },
  {
   "cell_type": "markdown",
   "metadata": {},
   "source": [
    "#### mean dot"
   ]
  },
  {
   "cell_type": "code",
   "execution_count": 161,
   "metadata": {},
   "outputs": [],
   "source": [
    "args[\"batch_size\"] = 20\n",
    "args[\"num_processes\"] = 4\n",
    "\n",
    "SIZE_IN_GB_OF_CHUNK = 7.4 # ls\n",
    "time_single_chunk = 15.36 # get from log # 1622/60\n",
    "time_load_task = 110 # get from log"
   ]
  },
  {
   "cell_type": "code",
   "execution_count": 206,
   "metadata": {},
   "outputs": [
    {
     "data": {
      "text/plain": [
       "3184.6"
      ]
     },
     "execution_count": 206,
     "metadata": {},
     "output_type": "execute_result"
    }
   ],
   "source": [
    "num_chunks =(((len(dataset) / args[\"gradients_per_file\"])))\n",
    "num_batches = num_chunks / args[\"batch_size\"]\n",
    "\n",
    "time_load_single_chunk = 5\n",
    "import datetime\n",
    "times = [\n",
    "(datetime.datetime.strptime(\"2024-10-30 14:41:58,109\", \"%Y-%m-%d %H:%M:%S,%f\") - datetime.datetime.strptime(\"2024-10-30 13:47:04,870\", \"%Y-%m-%d %H:%M:%S,%f\")).seconds, \n",
    "(datetime.datetime.strptime(\"2024-10-30 18:24:12,453\", \"%Y-%m-%d %H:%M:%S,%f\") - datetime.datetime.strptime(\"2024-10-30 17:27:59,086\", \"%Y-%m-%d %H:%M:%S,%f\")).seconds,\n",
    "(datetime.datetime.strptime(\"2024-10-30 21:55:07,874\", \"%Y-%m-%d %H:%M:%S,%f\") - datetime.datetime.strptime(\"2024-10-30 21:03:04,854\", \"%Y-%m-%d %H:%M:%S,%f\")).seconds, \n",
    "(datetime.datetime.strptime(\"2024-10-31 01:42:55,240\", \"%Y-%m-%d %H:%M:%S,%f\") - datetime.datetime.strptime(\"2024-10-31 00:52:22,333\", \"%Y-%m-%d %H:%M:%S,%f\")).seconds, \n",
    "(datetime.datetime.strptime(\"2024-10-31 05:12:19,552\", \"%Y-%m-%d %H:%M:%S,%f\") - datetime.datetime.strptime(\"2024-10-31 04:20:36,587\", \"%Y-%m-%d %H:%M:%S,%f\")).seconds]\n",
    "\n",
    "time_per_checkpoint = np.mean(np.array(times))\n",
    "\n",
    "time_einsum_per_pair = 0.4114333333333334\n",
    "time_per_checkpoint"
   ]
  },
  {
   "cell_type": "code",
   "execution_count": 238,
   "metadata": {},
   "outputs": [
    {
     "data": {
      "text/plain": [
       "118"
      ]
     },
     "execution_count": 238,
     "metadata": {},
     "output_type": "execute_result"
    }
   ],
   "source": [
    "import math\n",
    "math.ceil(num_chunks)"
   ]
  },
  {
   "cell_type": "code",
   "execution_count": 244,
   "metadata": {},
   "outputs": [
    {
     "data": {
      "text/plain": [
       "[slice(0, 30, None),\n",
       " slice(30, 60, None),\n",
       " slice(60, 89, None),\n",
       " slice(89, 118, None)]"
      ]
     },
     "execution_count": 244,
     "metadata": {},
     "output_type": "execute_result"
    }
   ],
   "source": [
    "from sklearn.utils import gen_even_slices\n",
    "list(gen_even_slices(math.ceil(num_chunks), 4))"
   ]
  },
  {
   "cell_type": "code",
   "execution_count": 248,
   "metadata": {},
   "outputs": [
    {
     "data": {
      "text/plain": [
       "[[0, 1, 2, 3], [4, 5, 6, 7]]"
      ]
     },
     "execution_count": 248,
     "metadata": {},
     "output_type": "execute_result"
    }
   ],
   "source": [
    "def batch(lst, k):\n",
    "        for i in range(0, len(lst), k):\n",
    "            yield lst[i:i + k]\n",
    "list(batch([0,1,2,3,4,5,6,7],4))"
   ]
  },
  {
   "cell_type": "code",
   "execution_count": 272,
   "metadata": {},
   "outputs": [
    {
     "data": {
      "text/plain": [
       "[[0, 1, 2, 3],\n",
       " [4, 5, 6, 7],\n",
       " [8, 9, 10, 11],\n",
       " [12, 13, 14, 15],\n",
       " [16, 17, 18, 19],\n",
       " [20, 21, 22, 23],\n",
       " [24, 25, 26, 27],\n",
       " [28, 29, 30, 31],\n",
       " [32, 33, 34, 35],\n",
       " [36, 37, 38, 39],\n",
       " [40, 41, 42, 43],\n",
       " [44, 45, 46, 47],\n",
       " [48, 49, 50, 51],\n",
       " [52, 53, 54, 55],\n",
       " [56, 57, 58, 59],\n",
       " [60, 61, 62, 63],\n",
       " [64, 65, 66, 67],\n",
       " [68, 69, 70, 71],\n",
       " [72, 73, 74, 75],\n",
       " [76, 77, 78, 79],\n",
       " [80, 81, 82, 83],\n",
       " [84, 85, 86, 87],\n",
       " [88, 89, 90, 91],\n",
       " [92, 93, 94, 95],\n",
       " [96, 97, 98, 99],\n",
       " [100, 101, 102, 103],\n",
       " [104, 105, 106, 107],\n",
       " [108, 109, 110, 111],\n",
       " [112, 113, 114],\n",
       " [115, 116, 117]]"
      ]
     },
     "execution_count": 272,
     "metadata": {},
     "output_type": "execute_result"
    }
   ],
   "source": [
    "import math\n",
    "def batch(lst, batch_size):\n",
    "        for i in gen_even_slices(len(lst), math.ceil(len(lst)/batch_size)):\n",
    "            yield lst[i]\n",
    "list(batch(list(range(math.ceil(num_chunks))),4))"
   ]
  },
  {
   "cell_type": "code",
   "execution_count": 228,
   "metadata": {},
   "outputs": [
    {
     "data": {
      "text/plain": [
       "4.065565517241379"
      ]
     },
     "execution_count": 228,
     "metadata": {},
     "output_type": "execute_result"
    }
   ],
   "source": [
    "num_chunks / 29"
   ]
  },
  {
   "cell_type": "code",
   "execution_count": 208,
   "metadata": {},
   "outputs": [
    {
     "data": {
      "text/plain": [
       "0.4114333333333334"
      ]
     },
     "execution_count": 208,
     "metadata": {},
     "output_type": "execute_result"
    }
   ],
   "source": [
    "time_einsum_per_pair"
   ]
  },
  {
   "cell_type": "code",
   "execution_count": 215,
   "metadata": {},
   "outputs": [
    {
     "data": {
      "text/plain": [
       "1.8950699999999996"
      ]
     },
     "execution_count": 215,
     "metadata": {},
     "output_type": "execute_result"
    }
   ],
   "source": [
    "num_batches-4"
   ]
  },
  {
   "cell_type": "code",
   "execution_count": 216,
   "metadata": {},
   "outputs": [
    {
     "data": {
      "text/plain": [
       "8238.770000000082"
      ]
     },
     "execution_count": 216,
     "metadata": {},
     "output_type": "execute_result"
    }
   ],
   "source": [
    "total"
   ]
  },
  {
   "cell_type": "code",
   "execution_count": 198,
   "metadata": {},
   "outputs": [
    {
     "data": {
      "text/plain": [
       "0.6674929398148215"
      ]
     },
     "execution_count": 198,
     "metadata": {},
     "output_type": "execute_result"
    }
   ],
   "source": [
    "total/60/60/args[\"num_processes\"]*(1+(10/60))"
   ]
  },
  {
   "cell_type": "code",
   "execution_count": 170,
   "metadata": {},
   "outputs": [],
   "source": [
    "# args[\"batch_size\"] = 40\n",
    "# args[\"num_processes\"] = 2\n",
    "\n",
    "# SIZE_IN_GB_OF_CHUNK = 7.4 # ls\n",
    "# time_single_chunk = 15.36 # get from log # 1622/60\n",
    "# time_load_task = 110 # get from log"
   ]
  },
  {
   "cell_type": "code",
   "execution_count": 171,
   "metadata": {},
   "outputs": [
    {
     "name": "stdout",
     "output_type": "stream",
     "text": [
      "RAM requirements 621.6 GB\n"
     ]
    }
   ],
   "source": [
    "print(\"RAM requirements\", (args[\"batch_size\"]+1)*args[\"num_processes\"]*SIZE_IN_GB_OF_CHUNK, \"GB\")"
   ]
  },
  {
   "cell_type": "code",
   "execution_count": 172,
   "metadata": {},
   "outputs": [
    {
     "name": "stdout",
     "output_type": "stream",
     "text": [
      "Time for a single epoch and one process 3.1456183649070217 hours\n",
      "Total time with multiprocessing 7.864045912267555 hours\n"
     ]
    }
   ],
   "source": [
    "\n",
    "\n",
    "num_chunks =(((len(dataset) / args[\"gradients_per_file\"])))\n",
    "num_batches = num_chunks / args[\"batch_size\"]\n",
    "\n",
    "time_single_batch = (num_chunks * time_single_chunk) + time_load_task\n",
    "time_single_epoch = (num_batches * time_single_batch) \n",
    "print(\"Time for a single epoch and one process\", time_single_epoch /60/60, \"hours\")\n",
    "total_merge = (time_single_epoch * args[\"epochs\"] /args[\"num_processes\"])/60/60\n",
    "print(\"Total time with multiprocessing\", total_merge, \"hours\")\n",
    "total_in_h += total_merge"
   ]
  },
  {
   "cell_type": "markdown",
   "metadata": {},
   "source": [
    "## Total"
   ]
  },
  {
   "cell_type": "code",
   "execution_count": 16,
   "metadata": {},
   "outputs": [
    {
     "name": "stdout",
     "output_type": "stream",
     "text": [
      "32.42683757893422 hours\n"
     ]
    }
   ],
   "source": [
    "print(total_in_h, \"hours\")"
   ]
  },
  {
   "cell_type": "code",
   "execution_count": null,
   "metadata": {},
   "outputs": [],
   "source": []
  },
  {
   "cell_type": "code",
   "execution_count": null,
   "metadata": {},
   "outputs": [],
   "source": []
  },
  {
   "cell_type": "code",
   "execution_count": null,
   "metadata": {},
   "outputs": [],
   "source": []
  },
  {
   "cell_type": "code",
   "execution_count": null,
   "metadata": {},
   "outputs": [],
   "source": []
  },
  {
   "cell_type": "code",
   "execution_count": null,
   "metadata": {},
   "outputs": [],
   "source": []
  },
  {
   "cell_type": "code",
   "execution_count": null,
   "metadata": {},
   "outputs": [],
   "source": []
  },
  {
   "cell_type": "code",
   "execution_count": null,
   "metadata": {},
   "outputs": [],
   "source": []
  },
  {
   "cell_type": "code",
   "execution_count": null,
   "metadata": {},
   "outputs": [],
   "source": []
  },
  {
   "cell_type": "code",
   "execution_count": null,
   "metadata": {},
   "outputs": [],
   "source": []
  }
 ],
 "metadata": {
  "kernelspec": {
   "display_name": "Python 3 (ipykernel)",
   "language": "python",
   "name": "python3"
  },
  "language_info": {
   "codemirror_mode": {
    "name": "ipython",
    "version": 3
   },
   "file_extension": ".py",
   "mimetype": "text/x-python",
   "name": "python",
   "nbconvert_exporter": "python",
   "pygments_lexer": "ipython3",
   "version": "3.10.12"
  }
 },
 "nbformat": 4,
 "nbformat_minor": 2
}
